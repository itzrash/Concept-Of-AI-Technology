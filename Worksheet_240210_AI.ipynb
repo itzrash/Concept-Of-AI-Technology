{
  "nbformat": 4,
  "nbformat_minor": 0,
  "metadata": {
    "colab": {
      "provenance": []
    },
    "kernelspec": {
      "name": "python3",
      "display_name": "Python 3"
    },
    "language_info": {
      "name": "python"
    }
  },
  "cells": [
    {
      "cell_type": "code",
      "execution_count": null,
      "metadata": {
        "id": "_xyM3Mvbg2VJ"
      },
      "outputs": [],
      "source": [
        "import pandas as pd\n"
      ]
    },
    {
      "cell_type": "code",
      "source": [
        "series = pd.Series([1, 2, 3, 4, 5])\n",
        "print(series)"
      ],
      "metadata": {
        "colab": {
          "base_uri": "https://localhost:8080/"
        },
        "id": "NFvJF75ihIFx",
        "outputId": "e9f2fac5-407c-4d9a-fbe1-419dc271f056"
      },
      "execution_count": null,
      "outputs": [
        {
          "output_type": "stream",
          "name": "stdout",
          "text": [
            "0    1\n",
            "1    2\n",
            "2    3\n",
            "3    4\n",
            "4    5\n",
            "dtype: int64\n"
          ]
        }
      ]
    },
    {
      "cell_type": "code",
      "source": [
        "series = pd.Series([1, 2, 3, 4, 5], index=['a', 'b', 'c', 'd', 'e'])\n",
        "print(series)"
      ],
      "metadata": {
        "colab": {
          "base_uri": "https://localhost:8080/"
        },
        "id": "gMQEAxv9hjsp",
        "outputId": "cd6a3a75-d204-44db-c85a-8ecb05250079"
      },
      "execution_count": null,
      "outputs": [
        {
          "output_type": "stream",
          "name": "stdout",
          "text": [
            "a    1\n",
            "b    2\n",
            "c    3\n",
            "d    4\n",
            "e    5\n",
            "dtype: int64\n"
          ]
        }
      ]
    },
    {
      "cell_type": "code",
      "source": [
        "series.shape,series.ndim,series.size"
      ],
      "metadata": {
        "colab": {
          "base_uri": "https://localhost:8080/"
        },
        "id": "tCXUiIuFhp4J",
        "outputId": "28781404-4496-4406-91ae-0c35d9295027"
      },
      "execution_count": null,
      "outputs": [
        {
          "output_type": "execute_result",
          "data": {
            "text/plain": [
              "((5,), 1, 5)"
            ]
          },
          "metadata": {},
          "execution_count": 4
        }
      ]
    },
    {
      "cell_type": "code",
      "source": [
        "df=pd.DataFrame({'A':[1,2,3,4,5],'B':[6,7,8,9,10]},['a','b','c','d','e'])\n",
        "print(df)"
      ],
      "metadata": {
        "colab": {
          "base_uri": "https://localhost:8080/"
        },
        "id": "RGpHSg0lh6ss",
        "outputId": "e2f1517e-344e-4e2c-b999-97403c120f9b"
      },
      "execution_count": null,
      "outputs": [
        {
          "output_type": "stream",
          "name": "stdout",
          "text": [
            "   A   B\n",
            "a  1   6\n",
            "b  2   7\n",
            "c  3   8\n",
            "d  4   9\n",
            "e  5  10\n"
          ]
        }
      ]
    },
    {
      "cell_type": "code",
      "source": [
        "df.shape,df.ndim,df.size"
      ],
      "metadata": {
        "colab": {
          "base_uri": "https://localhost:8080/"
        },
        "id": "binW0FCeiPJI",
        "outputId": "e90b0a7d-5a5e-4b54-da2a-6628938e7d99"
      },
      "execution_count": null,
      "outputs": [
        {
          "output_type": "execute_result",
          "data": {
            "text/plain": [
              "((5, 2), 2, 10)"
            ]
          },
          "metadata": {},
          "execution_count": 7
        }
      ]
    },
    {
      "cell_type": "code",
      "source": [
        "import pandas as pd\n",
        "df=pd.read_csv(\"/content/drive/MyDrive/data/data.csv\")\n",
        "df.head()"
      ],
      "metadata": {
        "colab": {
          "base_uri": "https://localhost:8080/",
          "height": 206
        },
        "id": "Q91I-caMj0e5",
        "outputId": "c2ba7bc6-74c1-420f-f9f0-80b4b8c2e346"
      },
      "execution_count": null,
      "outputs": [
        {
          "output_type": "execute_result",
          "data": {
            "text/plain": [
              "           x          y\n",
              "0  32.502345  31.707006\n",
              "1  53.426804  68.777596\n",
              "2  61.530358  62.562382\n",
              "3  47.475640  71.546632\n",
              "4  59.813208  87.230925"
            ],
            "text/html": [
              "\n",
              "  <div id=\"df-59f6307c-7e39-4317-b57a-3710be614af4\" class=\"colab-df-container\">\n",
              "    <div>\n",
              "<style scoped>\n",
              "    .dataframe tbody tr th:only-of-type {\n",
              "        vertical-align: middle;\n",
              "    }\n",
              "\n",
              "    .dataframe tbody tr th {\n",
              "        vertical-align: top;\n",
              "    }\n",
              "\n",
              "    .dataframe thead th {\n",
              "        text-align: right;\n",
              "    }\n",
              "</style>\n",
              "<table border=\"1\" class=\"dataframe\">\n",
              "  <thead>\n",
              "    <tr style=\"text-align: right;\">\n",
              "      <th></th>\n",
              "      <th>x</th>\n",
              "      <th>y</th>\n",
              "    </tr>\n",
              "  </thead>\n",
              "  <tbody>\n",
              "    <tr>\n",
              "      <th>0</th>\n",
              "      <td>32.502345</td>\n",
              "      <td>31.707006</td>\n",
              "    </tr>\n",
              "    <tr>\n",
              "      <th>1</th>\n",
              "      <td>53.426804</td>\n",
              "      <td>68.777596</td>\n",
              "    </tr>\n",
              "    <tr>\n",
              "      <th>2</th>\n",
              "      <td>61.530358</td>\n",
              "      <td>62.562382</td>\n",
              "    </tr>\n",
              "    <tr>\n",
              "      <th>3</th>\n",
              "      <td>47.475640</td>\n",
              "      <td>71.546632</td>\n",
              "    </tr>\n",
              "    <tr>\n",
              "      <th>4</th>\n",
              "      <td>59.813208</td>\n",
              "      <td>87.230925</td>\n",
              "    </tr>\n",
              "  </tbody>\n",
              "</table>\n",
              "</div>\n",
              "    <div class=\"colab-df-buttons\">\n",
              "\n",
              "  <div class=\"colab-df-container\">\n",
              "    <button class=\"colab-df-convert\" onclick=\"convertToInteractive('df-59f6307c-7e39-4317-b57a-3710be614af4')\"\n",
              "            title=\"Convert this dataframe to an interactive table.\"\n",
              "            style=\"display:none;\">\n",
              "\n",
              "  <svg xmlns=\"http://www.w3.org/2000/svg\" height=\"24px\" viewBox=\"0 -960 960 960\">\n",
              "    <path d=\"M120-120v-720h720v720H120Zm60-500h600v-160H180v160Zm220 220h160v-160H400v160Zm0 220h160v-160H400v160ZM180-400h160v-160H180v160Zm440 0h160v-160H620v160ZM180-180h160v-160H180v160Zm440 0h160v-160H620v160Z\"/>\n",
              "  </svg>\n",
              "    </button>\n",
              "\n",
              "  <style>\n",
              "    .colab-df-container {\n",
              "      display:flex;\n",
              "      gap: 12px;\n",
              "    }\n",
              "\n",
              "    .colab-df-convert {\n",
              "      background-color: #E8F0FE;\n",
              "      border: none;\n",
              "      border-radius: 50%;\n",
              "      cursor: pointer;\n",
              "      display: none;\n",
              "      fill: #1967D2;\n",
              "      height: 32px;\n",
              "      padding: 0 0 0 0;\n",
              "      width: 32px;\n",
              "    }\n",
              "\n",
              "    .colab-df-convert:hover {\n",
              "      background-color: #E2EBFA;\n",
              "      box-shadow: 0px 1px 2px rgba(60, 64, 67, 0.3), 0px 1px 3px 1px rgba(60, 64, 67, 0.15);\n",
              "      fill: #174EA6;\n",
              "    }\n",
              "\n",
              "    .colab-df-buttons div {\n",
              "      margin-bottom: 4px;\n",
              "    }\n",
              "\n",
              "    [theme=dark] .colab-df-convert {\n",
              "      background-color: #3B4455;\n",
              "      fill: #D2E3FC;\n",
              "    }\n",
              "\n",
              "    [theme=dark] .colab-df-convert:hover {\n",
              "      background-color: #434B5C;\n",
              "      box-shadow: 0px 1px 3px 1px rgba(0, 0, 0, 0.15);\n",
              "      filter: drop-shadow(0px 1px 2px rgba(0, 0, 0, 0.3));\n",
              "      fill: #FFFFFF;\n",
              "    }\n",
              "  </style>\n",
              "\n",
              "    <script>\n",
              "      const buttonEl =\n",
              "        document.querySelector('#df-59f6307c-7e39-4317-b57a-3710be614af4 button.colab-df-convert');\n",
              "      buttonEl.style.display =\n",
              "        google.colab.kernel.accessAllowed ? 'block' : 'none';\n",
              "\n",
              "      async function convertToInteractive(key) {\n",
              "        const element = document.querySelector('#df-59f6307c-7e39-4317-b57a-3710be614af4');\n",
              "        const dataTable =\n",
              "          await google.colab.kernel.invokeFunction('convertToInteractive',\n",
              "                                                    [key], {});\n",
              "        if (!dataTable) return;\n",
              "\n",
              "        const docLinkHtml = 'Like what you see? Visit the ' +\n",
              "          '<a target=\"_blank\" href=https://colab.research.google.com/notebooks/data_table.ipynb>data table notebook</a>'\n",
              "          + ' to learn more about interactive tables.';\n",
              "        element.innerHTML = '';\n",
              "        dataTable['output_type'] = 'display_data';\n",
              "        await google.colab.output.renderOutput(dataTable, element);\n",
              "        const docLink = document.createElement('div');\n",
              "        docLink.innerHTML = docLinkHtml;\n",
              "        element.appendChild(docLink);\n",
              "      }\n",
              "    </script>\n",
              "  </div>\n",
              "\n",
              "\n",
              "<div id=\"df-7c2f5c63-19fa-4f7b-9d0c-0a8e54052b0e\">\n",
              "  <button class=\"colab-df-quickchart\" onclick=\"quickchart('df-7c2f5c63-19fa-4f7b-9d0c-0a8e54052b0e')\"\n",
              "            title=\"Suggest charts\"\n",
              "            style=\"display:none;\">\n",
              "\n",
              "<svg xmlns=\"http://www.w3.org/2000/svg\" height=\"24px\"viewBox=\"0 0 24 24\"\n",
              "     width=\"24px\">\n",
              "    <g>\n",
              "        <path d=\"M19 3H5c-1.1 0-2 .9-2 2v14c0 1.1.9 2 2 2h14c1.1 0 2-.9 2-2V5c0-1.1-.9-2-2-2zM9 17H7v-7h2v7zm4 0h-2V7h2v10zm4 0h-2v-4h2v4z\"/>\n",
              "    </g>\n",
              "</svg>\n",
              "  </button>\n",
              "\n",
              "<style>\n",
              "  .colab-df-quickchart {\n",
              "      --bg-color: #E8F0FE;\n",
              "      --fill-color: #1967D2;\n",
              "      --hover-bg-color: #E2EBFA;\n",
              "      --hover-fill-color: #174EA6;\n",
              "      --disabled-fill-color: #AAA;\n",
              "      --disabled-bg-color: #DDD;\n",
              "  }\n",
              "\n",
              "  [theme=dark] .colab-df-quickchart {\n",
              "      --bg-color: #3B4455;\n",
              "      --fill-color: #D2E3FC;\n",
              "      --hover-bg-color: #434B5C;\n",
              "      --hover-fill-color: #FFFFFF;\n",
              "      --disabled-bg-color: #3B4455;\n",
              "      --disabled-fill-color: #666;\n",
              "  }\n",
              "\n",
              "  .colab-df-quickchart {\n",
              "    background-color: var(--bg-color);\n",
              "    border: none;\n",
              "    border-radius: 50%;\n",
              "    cursor: pointer;\n",
              "    display: none;\n",
              "    fill: var(--fill-color);\n",
              "    height: 32px;\n",
              "    padding: 0;\n",
              "    width: 32px;\n",
              "  }\n",
              "\n",
              "  .colab-df-quickchart:hover {\n",
              "    background-color: var(--hover-bg-color);\n",
              "    box-shadow: 0 1px 2px rgba(60, 64, 67, 0.3), 0 1px 3px 1px rgba(60, 64, 67, 0.15);\n",
              "    fill: var(--button-hover-fill-color);\n",
              "  }\n",
              "\n",
              "  .colab-df-quickchart-complete:disabled,\n",
              "  .colab-df-quickchart-complete:disabled:hover {\n",
              "    background-color: var(--disabled-bg-color);\n",
              "    fill: var(--disabled-fill-color);\n",
              "    box-shadow: none;\n",
              "  }\n",
              "\n",
              "  .colab-df-spinner {\n",
              "    border: 2px solid var(--fill-color);\n",
              "    border-color: transparent;\n",
              "    border-bottom-color: var(--fill-color);\n",
              "    animation:\n",
              "      spin 1s steps(1) infinite;\n",
              "  }\n",
              "\n",
              "  @keyframes spin {\n",
              "    0% {\n",
              "      border-color: transparent;\n",
              "      border-bottom-color: var(--fill-color);\n",
              "      border-left-color: var(--fill-color);\n",
              "    }\n",
              "    20% {\n",
              "      border-color: transparent;\n",
              "      border-left-color: var(--fill-color);\n",
              "      border-top-color: var(--fill-color);\n",
              "    }\n",
              "    30% {\n",
              "      border-color: transparent;\n",
              "      border-left-color: var(--fill-color);\n",
              "      border-top-color: var(--fill-color);\n",
              "      border-right-color: var(--fill-color);\n",
              "    }\n",
              "    40% {\n",
              "      border-color: transparent;\n",
              "      border-right-color: var(--fill-color);\n",
              "      border-top-color: var(--fill-color);\n",
              "    }\n",
              "    60% {\n",
              "      border-color: transparent;\n",
              "      border-right-color: var(--fill-color);\n",
              "    }\n",
              "    80% {\n",
              "      border-color: transparent;\n",
              "      border-right-color: var(--fill-color);\n",
              "      border-bottom-color: var(--fill-color);\n",
              "    }\n",
              "    90% {\n",
              "      border-color: transparent;\n",
              "      border-bottom-color: var(--fill-color);\n",
              "    }\n",
              "  }\n",
              "</style>\n",
              "\n",
              "  <script>\n",
              "    async function quickchart(key) {\n",
              "      const quickchartButtonEl =\n",
              "        document.querySelector('#' + key + ' button');\n",
              "      quickchartButtonEl.disabled = true;  // To prevent multiple clicks.\n",
              "      quickchartButtonEl.classList.add('colab-df-spinner');\n",
              "      try {\n",
              "        const charts = await google.colab.kernel.invokeFunction(\n",
              "            'suggestCharts', [key], {});\n",
              "      } catch (error) {\n",
              "        console.error('Error during call to suggestCharts:', error);\n",
              "      }\n",
              "      quickchartButtonEl.classList.remove('colab-df-spinner');\n",
              "      quickchartButtonEl.classList.add('colab-df-quickchart-complete');\n",
              "    }\n",
              "    (() => {\n",
              "      let quickchartButtonEl =\n",
              "        document.querySelector('#df-7c2f5c63-19fa-4f7b-9d0c-0a8e54052b0e button');\n",
              "      quickchartButtonEl.style.display =\n",
              "        google.colab.kernel.accessAllowed ? 'block' : 'none';\n",
              "    })();\n",
              "  </script>\n",
              "</div>\n",
              "\n",
              "    </div>\n",
              "  </div>\n"
            ],
            "application/vnd.google.colaboratory.intrinsic+json": {
              "type": "dataframe",
              "variable_name": "df",
              "summary": "{\n  \"name\": \"df\",\n  \"rows\": 100,\n  \"fields\": [\n    {\n      \"column\": \"x\",\n      \"properties\": {\n        \"dtype\": \"number\",\n        \"std\": 9.74637930281611,\n        \"min\": 25.12848465,\n        \"max\": 70.34607562,\n        \"num_unique_values\": 100,\n        \"samples\": [\n          59.04974121,\n          41.72067636,\n          31.588117\n        ],\n        \"semantic_type\": \"\",\n        \"description\": \"\"\n      }\n    },\n    {\n      \"column\": \"y\",\n      \"properties\": {\n        \"dtype\": \"number\",\n        \"std\": 16.658187401006007,\n        \"min\": 31.70700585,\n        \"max\": 118.5912173,\n        \"num_unique_values\": 100,\n        \"samples\": [\n          77.63418251,\n          65.28088692,\n          50.39267014\n        ],\n        \"semantic_type\": \"\",\n        \"description\": \"\"\n      }\n    }\n  ]\n}"
            }
          },
          "metadata": {},
          "execution_count": 14
        }
      ]
    },
    {
      "cell_type": "code",
      "source": [
        "df.tail()"
      ],
      "metadata": {
        "colab": {
          "base_uri": "https://localhost:8080/",
          "height": 206
        },
        "id": "hfOd1F0ylIDR",
        "outputId": "9c02446a-ceed-4736-9e1e-63e29952a7a4"
      },
      "execution_count": null,
      "outputs": [
        {
          "output_type": "execute_result",
          "data": {
            "text/plain": [
              "            x          y\n",
              "95  50.030174  81.536991\n",
              "96  49.239765  72.111832\n",
              "97  50.039576  85.232007\n",
              "98  48.149859  66.224958\n",
              "99  25.128485  53.454394"
            ],
            "text/html": [
              "\n",
              "  <div id=\"df-5307efd8-a4d5-406d-b786-de1b11476ee8\" class=\"colab-df-container\">\n",
              "    <div>\n",
              "<style scoped>\n",
              "    .dataframe tbody tr th:only-of-type {\n",
              "        vertical-align: middle;\n",
              "    }\n",
              "\n",
              "    .dataframe tbody tr th {\n",
              "        vertical-align: top;\n",
              "    }\n",
              "\n",
              "    .dataframe thead th {\n",
              "        text-align: right;\n",
              "    }\n",
              "</style>\n",
              "<table border=\"1\" class=\"dataframe\">\n",
              "  <thead>\n",
              "    <tr style=\"text-align: right;\">\n",
              "      <th></th>\n",
              "      <th>x</th>\n",
              "      <th>y</th>\n",
              "    </tr>\n",
              "  </thead>\n",
              "  <tbody>\n",
              "    <tr>\n",
              "      <th>95</th>\n",
              "      <td>50.030174</td>\n",
              "      <td>81.536991</td>\n",
              "    </tr>\n",
              "    <tr>\n",
              "      <th>96</th>\n",
              "      <td>49.239765</td>\n",
              "      <td>72.111832</td>\n",
              "    </tr>\n",
              "    <tr>\n",
              "      <th>97</th>\n",
              "      <td>50.039576</td>\n",
              "      <td>85.232007</td>\n",
              "    </tr>\n",
              "    <tr>\n",
              "      <th>98</th>\n",
              "      <td>48.149859</td>\n",
              "      <td>66.224958</td>\n",
              "    </tr>\n",
              "    <tr>\n",
              "      <th>99</th>\n",
              "      <td>25.128485</td>\n",
              "      <td>53.454394</td>\n",
              "    </tr>\n",
              "  </tbody>\n",
              "</table>\n",
              "</div>\n",
              "    <div class=\"colab-df-buttons\">\n",
              "\n",
              "  <div class=\"colab-df-container\">\n",
              "    <button class=\"colab-df-convert\" onclick=\"convertToInteractive('df-5307efd8-a4d5-406d-b786-de1b11476ee8')\"\n",
              "            title=\"Convert this dataframe to an interactive table.\"\n",
              "            style=\"display:none;\">\n",
              "\n",
              "  <svg xmlns=\"http://www.w3.org/2000/svg\" height=\"24px\" viewBox=\"0 -960 960 960\">\n",
              "    <path d=\"M120-120v-720h720v720H120Zm60-500h600v-160H180v160Zm220 220h160v-160H400v160Zm0 220h160v-160H400v160ZM180-400h160v-160H180v160Zm440 0h160v-160H620v160ZM180-180h160v-160H180v160Zm440 0h160v-160H620v160Z\"/>\n",
              "  </svg>\n",
              "    </button>\n",
              "\n",
              "  <style>\n",
              "    .colab-df-container {\n",
              "      display:flex;\n",
              "      gap: 12px;\n",
              "    }\n",
              "\n",
              "    .colab-df-convert {\n",
              "      background-color: #E8F0FE;\n",
              "      border: none;\n",
              "      border-radius: 50%;\n",
              "      cursor: pointer;\n",
              "      display: none;\n",
              "      fill: #1967D2;\n",
              "      height: 32px;\n",
              "      padding: 0 0 0 0;\n",
              "      width: 32px;\n",
              "    }\n",
              "\n",
              "    .colab-df-convert:hover {\n",
              "      background-color: #E2EBFA;\n",
              "      box-shadow: 0px 1px 2px rgba(60, 64, 67, 0.3), 0px 1px 3px 1px rgba(60, 64, 67, 0.15);\n",
              "      fill: #174EA6;\n",
              "    }\n",
              "\n",
              "    .colab-df-buttons div {\n",
              "      margin-bottom: 4px;\n",
              "    }\n",
              "\n",
              "    [theme=dark] .colab-df-convert {\n",
              "      background-color: #3B4455;\n",
              "      fill: #D2E3FC;\n",
              "    }\n",
              "\n",
              "    [theme=dark] .colab-df-convert:hover {\n",
              "      background-color: #434B5C;\n",
              "      box-shadow: 0px 1px 3px 1px rgba(0, 0, 0, 0.15);\n",
              "      filter: drop-shadow(0px 1px 2px rgba(0, 0, 0, 0.3));\n",
              "      fill: #FFFFFF;\n",
              "    }\n",
              "  </style>\n",
              "\n",
              "    <script>\n",
              "      const buttonEl =\n",
              "        document.querySelector('#df-5307efd8-a4d5-406d-b786-de1b11476ee8 button.colab-df-convert');\n",
              "      buttonEl.style.display =\n",
              "        google.colab.kernel.accessAllowed ? 'block' : 'none';\n",
              "\n",
              "      async function convertToInteractive(key) {\n",
              "        const element = document.querySelector('#df-5307efd8-a4d5-406d-b786-de1b11476ee8');\n",
              "        const dataTable =\n",
              "          await google.colab.kernel.invokeFunction('convertToInteractive',\n",
              "                                                    [key], {});\n",
              "        if (!dataTable) return;\n",
              "\n",
              "        const docLinkHtml = 'Like what you see? Visit the ' +\n",
              "          '<a target=\"_blank\" href=https://colab.research.google.com/notebooks/data_table.ipynb>data table notebook</a>'\n",
              "          + ' to learn more about interactive tables.';\n",
              "        element.innerHTML = '';\n",
              "        dataTable['output_type'] = 'display_data';\n",
              "        await google.colab.output.renderOutput(dataTable, element);\n",
              "        const docLink = document.createElement('div');\n",
              "        docLink.innerHTML = docLinkHtml;\n",
              "        element.appendChild(docLink);\n",
              "      }\n",
              "    </script>\n",
              "  </div>\n",
              "\n",
              "\n",
              "<div id=\"df-a1a39198-a924-48c1-b7f0-02d2b728b904\">\n",
              "  <button class=\"colab-df-quickchart\" onclick=\"quickchart('df-a1a39198-a924-48c1-b7f0-02d2b728b904')\"\n",
              "            title=\"Suggest charts\"\n",
              "            style=\"display:none;\">\n",
              "\n",
              "<svg xmlns=\"http://www.w3.org/2000/svg\" height=\"24px\"viewBox=\"0 0 24 24\"\n",
              "     width=\"24px\">\n",
              "    <g>\n",
              "        <path d=\"M19 3H5c-1.1 0-2 .9-2 2v14c0 1.1.9 2 2 2h14c1.1 0 2-.9 2-2V5c0-1.1-.9-2-2-2zM9 17H7v-7h2v7zm4 0h-2V7h2v10zm4 0h-2v-4h2v4z\"/>\n",
              "    </g>\n",
              "</svg>\n",
              "  </button>\n",
              "\n",
              "<style>\n",
              "  .colab-df-quickchart {\n",
              "      --bg-color: #E8F0FE;\n",
              "      --fill-color: #1967D2;\n",
              "      --hover-bg-color: #E2EBFA;\n",
              "      --hover-fill-color: #174EA6;\n",
              "      --disabled-fill-color: #AAA;\n",
              "      --disabled-bg-color: #DDD;\n",
              "  }\n",
              "\n",
              "  [theme=dark] .colab-df-quickchart {\n",
              "      --bg-color: #3B4455;\n",
              "      --fill-color: #D2E3FC;\n",
              "      --hover-bg-color: #434B5C;\n",
              "      --hover-fill-color: #FFFFFF;\n",
              "      --disabled-bg-color: #3B4455;\n",
              "      --disabled-fill-color: #666;\n",
              "  }\n",
              "\n",
              "  .colab-df-quickchart {\n",
              "    background-color: var(--bg-color);\n",
              "    border: none;\n",
              "    border-radius: 50%;\n",
              "    cursor: pointer;\n",
              "    display: none;\n",
              "    fill: var(--fill-color);\n",
              "    height: 32px;\n",
              "    padding: 0;\n",
              "    width: 32px;\n",
              "  }\n",
              "\n",
              "  .colab-df-quickchart:hover {\n",
              "    background-color: var(--hover-bg-color);\n",
              "    box-shadow: 0 1px 2px rgba(60, 64, 67, 0.3), 0 1px 3px 1px rgba(60, 64, 67, 0.15);\n",
              "    fill: var(--button-hover-fill-color);\n",
              "  }\n",
              "\n",
              "  .colab-df-quickchart-complete:disabled,\n",
              "  .colab-df-quickchart-complete:disabled:hover {\n",
              "    background-color: var(--disabled-bg-color);\n",
              "    fill: var(--disabled-fill-color);\n",
              "    box-shadow: none;\n",
              "  }\n",
              "\n",
              "  .colab-df-spinner {\n",
              "    border: 2px solid var(--fill-color);\n",
              "    border-color: transparent;\n",
              "    border-bottom-color: var(--fill-color);\n",
              "    animation:\n",
              "      spin 1s steps(1) infinite;\n",
              "  }\n",
              "\n",
              "  @keyframes spin {\n",
              "    0% {\n",
              "      border-color: transparent;\n",
              "      border-bottom-color: var(--fill-color);\n",
              "      border-left-color: var(--fill-color);\n",
              "    }\n",
              "    20% {\n",
              "      border-color: transparent;\n",
              "      border-left-color: var(--fill-color);\n",
              "      border-top-color: var(--fill-color);\n",
              "    }\n",
              "    30% {\n",
              "      border-color: transparent;\n",
              "      border-left-color: var(--fill-color);\n",
              "      border-top-color: var(--fill-color);\n",
              "      border-right-color: var(--fill-color);\n",
              "    }\n",
              "    40% {\n",
              "      border-color: transparent;\n",
              "      border-right-color: var(--fill-color);\n",
              "      border-top-color: var(--fill-color);\n",
              "    }\n",
              "    60% {\n",
              "      border-color: transparent;\n",
              "      border-right-color: var(--fill-color);\n",
              "    }\n",
              "    80% {\n",
              "      border-color: transparent;\n",
              "      border-right-color: var(--fill-color);\n",
              "      border-bottom-color: var(--fill-color);\n",
              "    }\n",
              "    90% {\n",
              "      border-color: transparent;\n",
              "      border-bottom-color: var(--fill-color);\n",
              "    }\n",
              "  }\n",
              "</style>\n",
              "\n",
              "  <script>\n",
              "    async function quickchart(key) {\n",
              "      const quickchartButtonEl =\n",
              "        document.querySelector('#' + key + ' button');\n",
              "      quickchartButtonEl.disabled = true;  // To prevent multiple clicks.\n",
              "      quickchartButtonEl.classList.add('colab-df-spinner');\n",
              "      try {\n",
              "        const charts = await google.colab.kernel.invokeFunction(\n",
              "            'suggestCharts', [key], {});\n",
              "      } catch (error) {\n",
              "        console.error('Error during call to suggestCharts:', error);\n",
              "      }\n",
              "      quickchartButtonEl.classList.remove('colab-df-spinner');\n",
              "      quickchartButtonEl.classList.add('colab-df-quickchart-complete');\n",
              "    }\n",
              "    (() => {\n",
              "      let quickchartButtonEl =\n",
              "        document.querySelector('#df-a1a39198-a924-48c1-b7f0-02d2b728b904 button');\n",
              "      quickchartButtonEl.style.display =\n",
              "        google.colab.kernel.accessAllowed ? 'block' : 'none';\n",
              "    })();\n",
              "  </script>\n",
              "</div>\n",
              "\n",
              "    </div>\n",
              "  </div>\n"
            ],
            "application/vnd.google.colaboratory.intrinsic+json": {
              "type": "dataframe",
              "summary": "{\n  \"name\": \"df\",\n  \"rows\": 5,\n  \"fields\": [\n    {\n      \"column\": \"x\",\n      \"properties\": {\n        \"dtype\": \"number\",\n        \"std\": 10.866354475281545,\n        \"min\": 25.12848465,\n        \"max\": 50.03957594,\n        \"num_unique_values\": 5,\n        \"samples\": [\n          49.23976534,\n          25.12848465,\n          50.03957594\n        ],\n        \"semantic_type\": \"\",\n        \"description\": \"\"\n      }\n    },\n    {\n      \"column\": \"y\",\n      \"properties\": {\n        \"dtype\": \"number\",\n        \"std\": 12.678019449011789,\n        \"min\": 53.45439421,\n        \"max\": 85.23200734,\n        \"num_unique_values\": 5,\n        \"samples\": [\n          72.11183247,\n          53.45439421,\n          85.23200734\n        ],\n        \"semantic_type\": \"\",\n        \"description\": \"\"\n      }\n    }\n  ]\n}"
            }
          },
          "metadata": {},
          "execution_count": 11
        }
      ]
    },
    {
      "cell_type": "code",
      "source": [
        "df.shape,df.size"
      ],
      "metadata": {
        "colab": {
          "base_uri": "https://localhost:8080/"
        },
        "id": "o-o_F2XTlXXe",
        "outputId": "be77fd0a-96fa-40b7-8b4d-0bef69cbf33a"
      },
      "execution_count": null,
      "outputs": [
        {
          "output_type": "execute_result",
          "data": {
            "text/plain": [
              "((100, 2), 200)"
            ]
          },
          "metadata": {},
          "execution_count": 17
        }
      ]
    },
    {
      "cell_type": "code",
      "source": [
        "df.columns"
      ],
      "metadata": {
        "colab": {
          "base_uri": "https://localhost:8080/"
        },
        "id": "G2BGyS86ldcn",
        "outputId": "01e4c7fa-1a37-4969-f3ba-5b90484f915d"
      },
      "execution_count": null,
      "outputs": [
        {
          "output_type": "execute_result",
          "data": {
            "text/plain": [
              "Index(['x', 'y'], dtype='object')"
            ]
          },
          "metadata": {},
          "execution_count": 16
        }
      ]
    },
    {
      "cell_type": "code",
      "source": [
        "df.info()"
      ],
      "metadata": {
        "colab": {
          "base_uri": "https://localhost:8080/"
        },
        "id": "n1iC_HKimLjV",
        "outputId": "733a0b6a-accb-4d54-fa1c-61ee879c9ab4"
      },
      "execution_count": null,
      "outputs": [
        {
          "output_type": "stream",
          "name": "stdout",
          "text": [
            "<class 'pandas.core.frame.DataFrame'>\n",
            "RangeIndex: 100 entries, 0 to 99\n",
            "Data columns (total 2 columns):\n",
            " #   Column  Non-Null Count  Dtype  \n",
            "---  ------  --------------  -----  \n",
            " 0   x       100 non-null    float64\n",
            " 1   y       100 non-null    float64\n",
            "dtypes: float64(2)\n",
            "memory usage: 1.7 KB\n"
          ]
        }
      ]
    },
    {
      "cell_type": "code",
      "source": [
        "df.describe()"
      ],
      "metadata": {
        "colab": {
          "base_uri": "https://localhost:8080/",
          "height": 300
        },
        "id": "i9ofLrrhmTZG",
        "outputId": "5f07d912-597f-4714-a5ac-4f421acc5e9e"
      },
      "execution_count": null,
      "outputs": [
        {
          "output_type": "execute_result",
          "data": {
            "text/plain": [
              "                x           y\n",
              "count  100.000000  100.000000\n",
              "mean    48.958341   72.735051\n",
              "std      9.746379   16.658187\n",
              "min     25.128485   31.707006\n",
              "25%     41.526164   60.788586\n",
              "50%     49.634970   72.179542\n",
              "75%     56.762631   83.215080\n",
              "max     70.346076  118.591217"
            ],
            "text/html": [
              "\n",
              "  <div id=\"df-decfd458-b0a8-4b0c-8eec-73696e4c8ad5\" class=\"colab-df-container\">\n",
              "    <div>\n",
              "<style scoped>\n",
              "    .dataframe tbody tr th:only-of-type {\n",
              "        vertical-align: middle;\n",
              "    }\n",
              "\n",
              "    .dataframe tbody tr th {\n",
              "        vertical-align: top;\n",
              "    }\n",
              "\n",
              "    .dataframe thead th {\n",
              "        text-align: right;\n",
              "    }\n",
              "</style>\n",
              "<table border=\"1\" class=\"dataframe\">\n",
              "  <thead>\n",
              "    <tr style=\"text-align: right;\">\n",
              "      <th></th>\n",
              "      <th>x</th>\n",
              "      <th>y</th>\n",
              "    </tr>\n",
              "  </thead>\n",
              "  <tbody>\n",
              "    <tr>\n",
              "      <th>count</th>\n",
              "      <td>100.000000</td>\n",
              "      <td>100.000000</td>\n",
              "    </tr>\n",
              "    <tr>\n",
              "      <th>mean</th>\n",
              "      <td>48.958341</td>\n",
              "      <td>72.735051</td>\n",
              "    </tr>\n",
              "    <tr>\n",
              "      <th>std</th>\n",
              "      <td>9.746379</td>\n",
              "      <td>16.658187</td>\n",
              "    </tr>\n",
              "    <tr>\n",
              "      <th>min</th>\n",
              "      <td>25.128485</td>\n",
              "      <td>31.707006</td>\n",
              "    </tr>\n",
              "    <tr>\n",
              "      <th>25%</th>\n",
              "      <td>41.526164</td>\n",
              "      <td>60.788586</td>\n",
              "    </tr>\n",
              "    <tr>\n",
              "      <th>50%</th>\n",
              "      <td>49.634970</td>\n",
              "      <td>72.179542</td>\n",
              "    </tr>\n",
              "    <tr>\n",
              "      <th>75%</th>\n",
              "      <td>56.762631</td>\n",
              "      <td>83.215080</td>\n",
              "    </tr>\n",
              "    <tr>\n",
              "      <th>max</th>\n",
              "      <td>70.346076</td>\n",
              "      <td>118.591217</td>\n",
              "    </tr>\n",
              "  </tbody>\n",
              "</table>\n",
              "</div>\n",
              "    <div class=\"colab-df-buttons\">\n",
              "\n",
              "  <div class=\"colab-df-container\">\n",
              "    <button class=\"colab-df-convert\" onclick=\"convertToInteractive('df-decfd458-b0a8-4b0c-8eec-73696e4c8ad5')\"\n",
              "            title=\"Convert this dataframe to an interactive table.\"\n",
              "            style=\"display:none;\">\n",
              "\n",
              "  <svg xmlns=\"http://www.w3.org/2000/svg\" height=\"24px\" viewBox=\"0 -960 960 960\">\n",
              "    <path d=\"M120-120v-720h720v720H120Zm60-500h600v-160H180v160Zm220 220h160v-160H400v160Zm0 220h160v-160H400v160ZM180-400h160v-160H180v160Zm440 0h160v-160H620v160ZM180-180h160v-160H180v160Zm440 0h160v-160H620v160Z\"/>\n",
              "  </svg>\n",
              "    </button>\n",
              "\n",
              "  <style>\n",
              "    .colab-df-container {\n",
              "      display:flex;\n",
              "      gap: 12px;\n",
              "    }\n",
              "\n",
              "    .colab-df-convert {\n",
              "      background-color: #E8F0FE;\n",
              "      border: none;\n",
              "      border-radius: 50%;\n",
              "      cursor: pointer;\n",
              "      display: none;\n",
              "      fill: #1967D2;\n",
              "      height: 32px;\n",
              "      padding: 0 0 0 0;\n",
              "      width: 32px;\n",
              "    }\n",
              "\n",
              "    .colab-df-convert:hover {\n",
              "      background-color: #E2EBFA;\n",
              "      box-shadow: 0px 1px 2px rgba(60, 64, 67, 0.3), 0px 1px 3px 1px rgba(60, 64, 67, 0.15);\n",
              "      fill: #174EA6;\n",
              "    }\n",
              "\n",
              "    .colab-df-buttons div {\n",
              "      margin-bottom: 4px;\n",
              "    }\n",
              "\n",
              "    [theme=dark] .colab-df-convert {\n",
              "      background-color: #3B4455;\n",
              "      fill: #D2E3FC;\n",
              "    }\n",
              "\n",
              "    [theme=dark] .colab-df-convert:hover {\n",
              "      background-color: #434B5C;\n",
              "      box-shadow: 0px 1px 3px 1px rgba(0, 0, 0, 0.15);\n",
              "      filter: drop-shadow(0px 1px 2px rgba(0, 0, 0, 0.3));\n",
              "      fill: #FFFFFF;\n",
              "    }\n",
              "  </style>\n",
              "\n",
              "    <script>\n",
              "      const buttonEl =\n",
              "        document.querySelector('#df-decfd458-b0a8-4b0c-8eec-73696e4c8ad5 button.colab-df-convert');\n",
              "      buttonEl.style.display =\n",
              "        google.colab.kernel.accessAllowed ? 'block' : 'none';\n",
              "\n",
              "      async function convertToInteractive(key) {\n",
              "        const element = document.querySelector('#df-decfd458-b0a8-4b0c-8eec-73696e4c8ad5');\n",
              "        const dataTable =\n",
              "          await google.colab.kernel.invokeFunction('convertToInteractive',\n",
              "                                                    [key], {});\n",
              "        if (!dataTable) return;\n",
              "\n",
              "        const docLinkHtml = 'Like what you see? Visit the ' +\n",
              "          '<a target=\"_blank\" href=https://colab.research.google.com/notebooks/data_table.ipynb>data table notebook</a>'\n",
              "          + ' to learn more about interactive tables.';\n",
              "        element.innerHTML = '';\n",
              "        dataTable['output_type'] = 'display_data';\n",
              "        await google.colab.output.renderOutput(dataTable, element);\n",
              "        const docLink = document.createElement('div');\n",
              "        docLink.innerHTML = docLinkHtml;\n",
              "        element.appendChild(docLink);\n",
              "      }\n",
              "    </script>\n",
              "  </div>\n",
              "\n",
              "\n",
              "<div id=\"df-ace6332c-4aee-4678-8f5e-72faee0d0e50\">\n",
              "  <button class=\"colab-df-quickchart\" onclick=\"quickchart('df-ace6332c-4aee-4678-8f5e-72faee0d0e50')\"\n",
              "            title=\"Suggest charts\"\n",
              "            style=\"display:none;\">\n",
              "\n",
              "<svg xmlns=\"http://www.w3.org/2000/svg\" height=\"24px\"viewBox=\"0 0 24 24\"\n",
              "     width=\"24px\">\n",
              "    <g>\n",
              "        <path d=\"M19 3H5c-1.1 0-2 .9-2 2v14c0 1.1.9 2 2 2h14c1.1 0 2-.9 2-2V5c0-1.1-.9-2-2-2zM9 17H7v-7h2v7zm4 0h-2V7h2v10zm4 0h-2v-4h2v4z\"/>\n",
              "    </g>\n",
              "</svg>\n",
              "  </button>\n",
              "\n",
              "<style>\n",
              "  .colab-df-quickchart {\n",
              "      --bg-color: #E8F0FE;\n",
              "      --fill-color: #1967D2;\n",
              "      --hover-bg-color: #E2EBFA;\n",
              "      --hover-fill-color: #174EA6;\n",
              "      --disabled-fill-color: #AAA;\n",
              "      --disabled-bg-color: #DDD;\n",
              "  }\n",
              "\n",
              "  [theme=dark] .colab-df-quickchart {\n",
              "      --bg-color: #3B4455;\n",
              "      --fill-color: #D2E3FC;\n",
              "      --hover-bg-color: #434B5C;\n",
              "      --hover-fill-color: #FFFFFF;\n",
              "      --disabled-bg-color: #3B4455;\n",
              "      --disabled-fill-color: #666;\n",
              "  }\n",
              "\n",
              "  .colab-df-quickchart {\n",
              "    background-color: var(--bg-color);\n",
              "    border: none;\n",
              "    border-radius: 50%;\n",
              "    cursor: pointer;\n",
              "    display: none;\n",
              "    fill: var(--fill-color);\n",
              "    height: 32px;\n",
              "    padding: 0;\n",
              "    width: 32px;\n",
              "  }\n",
              "\n",
              "  .colab-df-quickchart:hover {\n",
              "    background-color: var(--hover-bg-color);\n",
              "    box-shadow: 0 1px 2px rgba(60, 64, 67, 0.3), 0 1px 3px 1px rgba(60, 64, 67, 0.15);\n",
              "    fill: var(--button-hover-fill-color);\n",
              "  }\n",
              "\n",
              "  .colab-df-quickchart-complete:disabled,\n",
              "  .colab-df-quickchart-complete:disabled:hover {\n",
              "    background-color: var(--disabled-bg-color);\n",
              "    fill: var(--disabled-fill-color);\n",
              "    box-shadow: none;\n",
              "  }\n",
              "\n",
              "  .colab-df-spinner {\n",
              "    border: 2px solid var(--fill-color);\n",
              "    border-color: transparent;\n",
              "    border-bottom-color: var(--fill-color);\n",
              "    animation:\n",
              "      spin 1s steps(1) infinite;\n",
              "  }\n",
              "\n",
              "  @keyframes spin {\n",
              "    0% {\n",
              "      border-color: transparent;\n",
              "      border-bottom-color: var(--fill-color);\n",
              "      border-left-color: var(--fill-color);\n",
              "    }\n",
              "    20% {\n",
              "      border-color: transparent;\n",
              "      border-left-color: var(--fill-color);\n",
              "      border-top-color: var(--fill-color);\n",
              "    }\n",
              "    30% {\n",
              "      border-color: transparent;\n",
              "      border-left-color: var(--fill-color);\n",
              "      border-top-color: var(--fill-color);\n",
              "      border-right-color: var(--fill-color);\n",
              "    }\n",
              "    40% {\n",
              "      border-color: transparent;\n",
              "      border-right-color: var(--fill-color);\n",
              "      border-top-color: var(--fill-color);\n",
              "    }\n",
              "    60% {\n",
              "      border-color: transparent;\n",
              "      border-right-color: var(--fill-color);\n",
              "    }\n",
              "    80% {\n",
              "      border-color: transparent;\n",
              "      border-right-color: var(--fill-color);\n",
              "      border-bottom-color: var(--fill-color);\n",
              "    }\n",
              "    90% {\n",
              "      border-color: transparent;\n",
              "      border-bottom-color: var(--fill-color);\n",
              "    }\n",
              "  }\n",
              "</style>\n",
              "\n",
              "  <script>\n",
              "    async function quickchart(key) {\n",
              "      const quickchartButtonEl =\n",
              "        document.querySelector('#' + key + ' button');\n",
              "      quickchartButtonEl.disabled = true;  // To prevent multiple clicks.\n",
              "      quickchartButtonEl.classList.add('colab-df-spinner');\n",
              "      try {\n",
              "        const charts = await google.colab.kernel.invokeFunction(\n",
              "            'suggestCharts', [key], {});\n",
              "      } catch (error) {\n",
              "        console.error('Error during call to suggestCharts:', error);\n",
              "      }\n",
              "      quickchartButtonEl.classList.remove('colab-df-spinner');\n",
              "      quickchartButtonEl.classList.add('colab-df-quickchart-complete');\n",
              "    }\n",
              "    (() => {\n",
              "      let quickchartButtonEl =\n",
              "        document.querySelector('#df-ace6332c-4aee-4678-8f5e-72faee0d0e50 button');\n",
              "      quickchartButtonEl.style.display =\n",
              "        google.colab.kernel.accessAllowed ? 'block' : 'none';\n",
              "    })();\n",
              "  </script>\n",
              "</div>\n",
              "\n",
              "    </div>\n",
              "  </div>\n"
            ],
            "application/vnd.google.colaboratory.intrinsic+json": {
              "type": "dataframe",
              "summary": "{\n  \"name\": \"df\",\n  \"rows\": 8,\n  \"fields\": [\n    {\n      \"column\": \"x\",\n      \"properties\": {\n        \"dtype\": \"number\",\n        \"std\": 27.441141120112224,\n        \"min\": 9.74637930281611,\n        \"max\": 100.0,\n        \"num_unique_values\": 8,\n        \"samples\": [\n          48.9583414616,\n          49.63496984,\n          100.0\n        ],\n        \"semantic_type\": \"\",\n        \"description\": \"\"\n      }\n    },\n    {\n      \"column\": \"y\",\n      \"properties\": {\n        \"dtype\": \"number\",\n        \"std\": 33.47152495559593,\n        \"min\": 16.658187401006007,\n        \"max\": 118.5912173,\n        \"num_unique_values\": 8,\n        \"samples\": [\n          72.7350505539,\n          72.17954177,\n          100.0\n        ],\n        \"semantic_type\": \"\",\n        \"description\": \"\"\n      }\n    }\n  ]\n}"
            }
          },
          "metadata": {},
          "execution_count": 20
        }
      ]
    },
    {
      "cell_type": "code",
      "source": [
        "df.isnull().sum()\n",
        "#if 0 ko satta aru kai number aaye tyo value missing xa natra xaina"
      ],
      "metadata": {
        "colab": {
          "base_uri": "https://localhost:8080/",
          "height": 147
        },
        "id": "TdHZHktcmXXF",
        "outputId": "0a1eed96-42e1-42c2-c87d-52c259dbd2f4"
      },
      "execution_count": null,
      "outputs": [
        {
          "output_type": "execute_result",
          "data": {
            "text/plain": [
              "x    0\n",
              "y    0\n",
              "dtype: int64"
            ],
            "text/html": [
              "<div>\n",
              "<style scoped>\n",
              "    .dataframe tbody tr th:only-of-type {\n",
              "        vertical-align: middle;\n",
              "    }\n",
              "\n",
              "    .dataframe tbody tr th {\n",
              "        vertical-align: top;\n",
              "    }\n",
              "\n",
              "    .dataframe thead th {\n",
              "        text-align: right;\n",
              "    }\n",
              "</style>\n",
              "<table border=\"1\" class=\"dataframe\">\n",
              "  <thead>\n",
              "    <tr style=\"text-align: right;\">\n",
              "      <th></th>\n",
              "      <th>0</th>\n",
              "    </tr>\n",
              "  </thead>\n",
              "  <tbody>\n",
              "    <tr>\n",
              "      <th>x</th>\n",
              "      <td>0</td>\n",
              "    </tr>\n",
              "    <tr>\n",
              "      <th>y</th>\n",
              "      <td>0</td>\n",
              "    </tr>\n",
              "  </tbody>\n",
              "</table>\n",
              "</div><br><label><b>dtype:</b> int64</label>"
            ]
          },
          "metadata": {},
          "execution_count": 23
        }
      ]
    },
    {
      "cell_type": "code",
      "source": [
        "import pandas as pd\n",
        "from sklearn.datasets import load_iris\n",
        "import numpy as np\n",
        "\n",
        "iris = load_iris ()\n",
        "# Load the Iris dataset\n",
        "iris_df = pd.DataFrame(\n",
        "     data=np.c_[iris['data'], iris['target']], columns=iris['feature_names'] + ['target']\n",
        ")\n",
        "np . random . seed (42) # Introduce missing values randomly\n",
        "mask = np . random . rand (* iris_df . shape ) < 0.1 # 10%\n",
        "iris_df [ mask ] = np . nan\n",
        "print (\" Missing Values in Iris Dataset :\")\n",
        "print ( iris_df . isnull () .sum () )"
      ],
      "metadata": {
        "colab": {
          "base_uri": "https://localhost:8080/"
        },
        "id": "HPirJQSQpSMQ",
        "outputId": "892a91c2-3459-4b32-8f17-48c2b9cd8038"
      },
      "execution_count": null,
      "outputs": [
        {
          "output_type": "stream",
          "name": "stdout",
          "text": [
            " Missing Values in Iris Dataset :\n",
            "sepal length (cm)    15\n",
            "sepal width (cm)     15\n",
            "petal length (cm)    19\n",
            "petal width (cm)     15\n",
            "target               19\n",
            "dtype: int64\n"
          ]
        }
      ]
    },
    {
      "cell_type": "code",
      "source": [
        "# Filling missing values with forward fill ( ffill ), mean\n",
        "# median , and 0\n",
        "iris_df_ffill = iris_df . ffill ()\n",
        "iris_df_mean = iris_df . fillna ( iris_df . mean () )\n",
        "iris_df_median = iris_df . fillna ( iris_df . median () )\n",
        "iris_df_zero = iris_df . fillna (0)\n",
        "# Expand iris_df with filled columns\n",
        "iris_df_expanded = pd.concat([iris_df, iris_df_ffill.add_suffix('_ffill'), iris_df_mean.add_suffix('_mean'), iris_df_median.add_suffix('_median'), iris_df_zero.add_suffix('_zero')], axis=1)\n",
        "# Display the head of the expanded DataFrame\n",
        "print (\"\\ nDataset after Filling Missing Values :\")\n",
        "print ( iris_df_expanded . head () )"
      ],
      "metadata": {
        "colab": {
          "base_uri": "https://localhost:8080/"
        },
        "id": "APDxD10qr3vr",
        "outputId": "c650b4cd-e1cb-4e69-e58e-121cf0a71c58"
      },
      "execution_count": null,
      "outputs": [
        {
          "output_type": "stream",
          "name": "stdout",
          "text": [
            "\\ nDataset after Filling Missing Values :\n",
            "   sepal length (cm)  sepal width (cm)  petal length (cm)  petal width (cm)  \\\n",
            "0                5.1               3.5                1.4               0.2   \n",
            "1                4.9               NaN                1.4               0.2   \n",
            "2                NaN               3.2                1.3               0.2   \n",
            "3                4.6               3.1                1.5               0.2   \n",
            "4                5.0               3.6                1.4               0.2   \n",
            "\n",
            "   target  sepal length (cm)_ffill  sepal width (cm)_ffill  \\\n",
            "0     0.0                      5.1                     3.5   \n",
            "1     0.0                      4.9                     3.5   \n",
            "2     0.0                      4.9                     3.2   \n",
            "3     0.0                      4.6                     3.1   \n",
            "4     0.0                      5.0                     3.6   \n",
            "\n",
            "   petal length (cm)_ffill  petal width (cm)_ffill  target_ffill  ...  \\\n",
            "0                      1.4                     0.2           0.0  ...   \n",
            "1                      1.4                     0.2           0.0  ...   \n",
            "2                      1.3                     0.2           0.0  ...   \n",
            "3                      1.5                     0.2           0.0  ...   \n",
            "4                      1.4                     0.2           0.0  ...   \n",
            "\n",
            "   sepal length (cm)_median  sepal width (cm)_median  \\\n",
            "0                       5.1                      3.5   \n",
            "1                       4.9                      3.0   \n",
            "2                       5.8                      3.2   \n",
            "3                       4.6                      3.1   \n",
            "4                       5.0                      3.6   \n",
            "\n",
            "   petal length (cm)_median  petal width (cm)_median  target_median  \\\n",
            "0                       1.4                      0.2            0.0   \n",
            "1                       1.4                      0.2            0.0   \n",
            "2                       1.3                      0.2            0.0   \n",
            "3                       1.5                      0.2            0.0   \n",
            "4                       1.4                      0.2            0.0   \n",
            "\n",
            "   sepal length (cm)_zero  sepal width (cm)_zero  petal length (cm)_zero  \\\n",
            "0                     5.1                    3.5                     1.4   \n",
            "1                     4.9                    0.0                     1.4   \n",
            "2                     0.0                    3.2                     1.3   \n",
            "3                     4.6                    3.1                     1.5   \n",
            "4                     5.0                    3.6                     1.4   \n",
            "\n",
            "   petal width (cm)_zero  target_zero  \n",
            "0                    0.2          0.0  \n",
            "1                    0.2          0.0  \n",
            "2                    0.2          0.0  \n",
            "3                    0.2          0.0  \n",
            "4                    0.2          0.0  \n",
            "\n",
            "[5 rows x 25 columns]\n"
          ]
        }
      ]
    },
    {
      "cell_type": "code",
      "source": [
        "iris_df.isnull().sum()"
      ],
      "metadata": {
        "colab": {
          "base_uri": "https://localhost:8080/",
          "height": 241
        },
        "id": "st5m-5Bksfhs",
        "outputId": "609784aa-eac1-4e17-8f77-4b7d4bacfaa3"
      },
      "execution_count": null,
      "outputs": [
        {
          "output_type": "execute_result",
          "data": {
            "text/plain": [
              "sepal length (cm)    15\n",
              "sepal width (cm)     15\n",
              "petal length (cm)    19\n",
              "petal width (cm)     15\n",
              "target               19\n",
              "dtype: int64"
            ],
            "text/html": [
              "<div>\n",
              "<style scoped>\n",
              "    .dataframe tbody tr th:only-of-type {\n",
              "        vertical-align: middle;\n",
              "    }\n",
              "\n",
              "    .dataframe tbody tr th {\n",
              "        vertical-align: top;\n",
              "    }\n",
              "\n",
              "    .dataframe thead th {\n",
              "        text-align: right;\n",
              "    }\n",
              "</style>\n",
              "<table border=\"1\" class=\"dataframe\">\n",
              "  <thead>\n",
              "    <tr style=\"text-align: right;\">\n",
              "      <th></th>\n",
              "      <th>0</th>\n",
              "    </tr>\n",
              "  </thead>\n",
              "  <tbody>\n",
              "    <tr>\n",
              "      <th>sepal length (cm)</th>\n",
              "      <td>15</td>\n",
              "    </tr>\n",
              "    <tr>\n",
              "      <th>sepal width (cm)</th>\n",
              "      <td>15</td>\n",
              "    </tr>\n",
              "    <tr>\n",
              "      <th>petal length (cm)</th>\n",
              "      <td>19</td>\n",
              "    </tr>\n",
              "    <tr>\n",
              "      <th>petal width (cm)</th>\n",
              "      <td>15</td>\n",
              "    </tr>\n",
              "    <tr>\n",
              "      <th>target</th>\n",
              "      <td>19</td>\n",
              "    </tr>\n",
              "  </tbody>\n",
              "</table>\n",
              "</div><br><label><b>dtype:</b> int64</label>"
            ]
          },
          "metadata": {},
          "execution_count": 29
        }
      ]
    },
    {
      "cell_type": "code",
      "source": [
        "import pandas as pd\n",
        "\n",
        "# Sample DataFrame\n",
        "data = {'Date': ['2024-01-01', '2024-01-01', '2024-01-02', '2024-01-02'],\n",
        "        'City': ['Kathmandu', 'Pokhara', 'Kathmandu', 'Pokhara'],\n",
        "        'Temperature': [15, 18, 16, 19]}\n",
        "df = pd.DataFrame(data)\n",
        "\n",
        "# Pivot: Reshape data to show cities as columns\n",
        "pivoted_df = df.pivot(index='Date', columns='City', values='Temperature')\n",
        "print(pivoted_df)"
      ],
      "metadata": {
        "colab": {
          "base_uri": "https://localhost:8080/"
        },
        "id": "2JRwNbLxszOq",
        "outputId": "f0c7eb1a-aac6-47ac-b4d0-c5e24261f70e"
      },
      "execution_count": null,
      "outputs": [
        {
          "output_type": "stream",
          "name": "stdout",
          "text": [
            "City        Kathmandu  Pokhara\n",
            "Date                          \n",
            "2024-01-01         15       18\n",
            "2024-01-02         16       19\n"
          ]
        }
      ]
    },
    {
      "cell_type": "code",
      "source": [
        "# Melt: Convert wide data back to long format\n",
        "melted_df = pd.melt(pivoted_df.reset_index(), id_vars=['Date'],\n",
        "                    var_name='City', value_name='Temperature')\n",
        "print(melted_df)"
      ],
      "metadata": {
        "colab": {
          "base_uri": "https://localhost:8080/"
        },
        "id": "_J-cHhDTtSJ4",
        "outputId": "30db27be-2678-4ae4-a88b-b33f9d19c754"
      },
      "execution_count": null,
      "outputs": [
        {
          "output_type": "stream",
          "name": "stdout",
          "text": [
            "         Date       City  Temperature\n",
            "0  2024-01-01  Kathmandu           15\n",
            "1  2024-01-02  Kathmandu           16\n",
            "2  2024-01-01    Pokhara           18\n",
            "3  2024-01-02    Pokhara           19\n"
          ]
        }
      ]
    },
    {
      "cell_type": "code",
      "source": [
        "import pandas as pd\n",
        "from sklearn.datasets import load_iris\n",
        "\n",
        "iris = load_iris()  # Load the Iris dataset\n",
        "iris_df = pd.DataFrame(data=iris['data'], columns=iris['feature_names'])\n",
        "\n",
        "# Min-Max Scaling using Pandas\n",
        "iris_minmax_scaled = (iris_df - iris_df.min()) / (iris_df.max() - iris_df.min())\n",
        "\n",
        "print(\"Original Iris DataFrame:\")\n",
        "print(iris_df.head())\n",
        "print(\"\\nMin-Max Scaled Iris DataFrame:\")\n",
        "print(iris_minmax_scaled.head())"
      ],
      "metadata": {
        "colab": {
          "base_uri": "https://localhost:8080/"
        },
        "id": "1gTLeIFGtfAw",
        "outputId": "1afd2c28-5518-4389-8d2a-3f7a48e13937"
      },
      "execution_count": null,
      "outputs": [
        {
          "output_type": "stream",
          "name": "stdout",
          "text": [
            "Original Iris DataFrame:\n",
            "   sepal length (cm)  sepal width (cm)  petal length (cm)  petal width (cm)\n",
            "0                5.1               3.5                1.4               0.2\n",
            "1                4.9               3.0                1.4               0.2\n",
            "2                4.7               3.2                1.3               0.2\n",
            "3                4.6               3.1                1.5               0.2\n",
            "4                5.0               3.6                1.4               0.2\n",
            "\n",
            "Min-Max Scaled Iris DataFrame:\n",
            "   sepal length (cm)  sepal width (cm)  petal length (cm)  petal width (cm)\n",
            "0           0.222222          0.625000           0.067797          0.041667\n",
            "1           0.166667          0.416667           0.067797          0.041667\n",
            "2           0.111111          0.500000           0.050847          0.041667\n",
            "3           0.083333          0.458333           0.084746          0.041667\n",
            "4           0.194444          0.666667           0.067797          0.041667\n"
          ]
        }
      ]
    },
    {
      "cell_type": "code",
      "source": [
        "import pandas as pd\n",
        "\n",
        "# Sample DataFrame with ordinal categories\n",
        "df = pd.DataFrame({'Category': ['Low', 'Medium', 'High', 'Low', 'High']})\n",
        "\n",
        "# Ordinal encoding using map\n",
        "ordinal_mapping = {'Low': 1, 'Medium': 2, 'High': 3}\n",
        "df['Category_Ordinal'] = df['Category'].map(ordinal_mapping)\n",
        "\n",
        "print(df)"
      ],
      "metadata": {
        "colab": {
          "base_uri": "https://localhost:8080/"
        },
        "id": "HOaSWAS8vIQf",
        "outputId": "255e5eff-1f12-4eed-e001-c2aab8a93d8c"
      },
      "execution_count": null,
      "outputs": [
        {
          "output_type": "stream",
          "name": "stdout",
          "text": [
            "  Category  Category_Ordinal\n",
            "0      Low                 1\n",
            "1   Medium                 2\n",
            "2     High                 3\n",
            "3      Low                 1\n",
            "4     High                 3\n"
          ]
        }
      ]
    },
    {
      "cell_type": "code",
      "source": [
        "import pandas as pd\n",
        "\n",
        "df_municipalities = pd.DataFrame({'Municipality': ['Kathmandu', 'Bhaktapur', 'Lalitpur', 'Madhyapur Thimi', 'Kirtipur']})\n",
        "\n",
        "one_hot_encoding = pd.get_dummies(df_municipalities['Municipality'], prefix='Municipality')\n",
        "\n",
        "df_encoded = pd.concat([df_municipalities, one_hot_encoding], axis=1)\n",
        "\n",
        "print(df_encoded)  # Display the result"
      ],
      "metadata": {
        "colab": {
          "base_uri": "https://localhost:8080/"
        },
        "id": "twxxtcsLvLEb",
        "outputId": "8d145791-cc3a-4029-d3ec-eb6f7032d86a"
      },
      "execution_count": null,
      "outputs": [
        {
          "output_type": "stream",
          "name": "stdout",
          "text": [
            "      Municipality  Municipality_Bhaktapur  Municipality_Kathmandu  \\\n",
            "0        Kathmandu                   False                    True   \n",
            "1        Bhaktapur                    True                   False   \n",
            "2         Lalitpur                   False                   False   \n",
            "3  Madhyapur Thimi                   False                   False   \n",
            "4         Kirtipur                   False                   False   \n",
            "\n",
            "   Municipality_Kirtipur  Municipality_Lalitpur  Municipality_Madhyapur Thimi  \n",
            "0                  False                  False                         False  \n",
            "1                  False                  False                         False  \n",
            "2                  False                   True                         False  \n",
            "3                  False                  False                          True  \n",
            "4                   True                  False                         False  \n"
          ]
        }
      ]
    },
    {
      "cell_type": "code",
      "source": [
        "import pandas as pd\n",
        "\n",
        "# Sample DataFrames\n",
        "df1 = pd.DataFrame({'A': [1, 2], 'B': [3, 4]})\n",
        "df2 = pd.DataFrame({'A': [5, 6], 'B': [7, 8]})\n",
        "\n",
        "# Row-wise concatenation\n",
        "combined_rows = pd.concat([df1, df2], axis=0)\n",
        "print(\"Row-wise concatenation:\")\n",
        "print(combined_rows)\n",
        "\n",
        "# Column-wise concatenation\n",
        "combined_cols = pd.concat([df1, df2], axis=1)\n",
        "print(\"\\nColumn-wise concatenation:\")\n",
        "print(combined_cols)"
      ],
      "metadata": {
        "colab": {
          "base_uri": "https://localhost:8080/"
        },
        "id": "DB19rjezwKR0",
        "outputId": "1b7b47c4-86c0-4b73-d612-ee1a9b7d7228"
      },
      "execution_count": null,
      "outputs": [
        {
          "output_type": "stream",
          "name": "stdout",
          "text": [
            "Row-wise concatenation:\n",
            "   A  B\n",
            "0  1  3\n",
            "1  2  4\n",
            "0  5  7\n",
            "1  6  8\n",
            "\n",
            "Column-wise concatenation:\n",
            "   A  B  A  B\n",
            "0  1  3  5  7\n",
            "1  2  4  6  8\n"
          ]
        }
      ]
    },
    {
      "cell_type": "code",
      "source": [
        "#problem 1\n",
        "#Dataset bank.csv\n",
        "#1.\n",
        "import pandas as pd\n",
        "df=pd.read_csv('/content/drive/MyDrive/data/bank .csv')\n",
        "df.head()"
      ],
      "metadata": {
        "id": "UDnWbwimwaZS",
        "colab": {
          "base_uri": "https://localhost:8080/",
          "height": 226
        },
        "outputId": "a1f9f657-fba4-4e18-d853-1e7a33291832"
      },
      "execution_count": null,
      "outputs": [
        {
          "output_type": "execute_result",
          "data": {
            "text/plain": [
              "   age           job  marital  education default  balance housing loan  \\\n",
              "0   58    management  married   tertiary      no     2143     yes   no   \n",
              "1   44    technician   single  secondary      no       29     yes   no   \n",
              "2   33  entrepreneur  married  secondary      no        2     yes  yes   \n",
              "3   47   blue-collar  married    unknown      no     1506     yes   no   \n",
              "4   33       unknown   single    unknown      no        1      no   no   \n",
              "\n",
              "   contact  day month  duration  campaign  pdays  previous poutcome   y  \n",
              "0  unknown    5   may       261         1     -1         0  unknown  no  \n",
              "1  unknown    5   may       151         1     -1         0  unknown  no  \n",
              "2  unknown    5   may        76         1     -1         0  unknown  no  \n",
              "3  unknown    5   may        92         1     -1         0  unknown  no  \n",
              "4  unknown    5   may       198         1     -1         0  unknown  no  "
            ],
            "text/html": [
              "\n",
              "  <div id=\"df-c31bf7d7-fdec-452c-8503-5f5d9c6e261b\" class=\"colab-df-container\">\n",
              "    <div>\n",
              "<style scoped>\n",
              "    .dataframe tbody tr th:only-of-type {\n",
              "        vertical-align: middle;\n",
              "    }\n",
              "\n",
              "    .dataframe tbody tr th {\n",
              "        vertical-align: top;\n",
              "    }\n",
              "\n",
              "    .dataframe thead th {\n",
              "        text-align: right;\n",
              "    }\n",
              "</style>\n",
              "<table border=\"1\" class=\"dataframe\">\n",
              "  <thead>\n",
              "    <tr style=\"text-align: right;\">\n",
              "      <th></th>\n",
              "      <th>age</th>\n",
              "      <th>job</th>\n",
              "      <th>marital</th>\n",
              "      <th>education</th>\n",
              "      <th>default</th>\n",
              "      <th>balance</th>\n",
              "      <th>housing</th>\n",
              "      <th>loan</th>\n",
              "      <th>contact</th>\n",
              "      <th>day</th>\n",
              "      <th>month</th>\n",
              "      <th>duration</th>\n",
              "      <th>campaign</th>\n",
              "      <th>pdays</th>\n",
              "      <th>previous</th>\n",
              "      <th>poutcome</th>\n",
              "      <th>y</th>\n",
              "    </tr>\n",
              "  </thead>\n",
              "  <tbody>\n",
              "    <tr>\n",
              "      <th>0</th>\n",
              "      <td>58</td>\n",
              "      <td>management</td>\n",
              "      <td>married</td>\n",
              "      <td>tertiary</td>\n",
              "      <td>no</td>\n",
              "      <td>2143</td>\n",
              "      <td>yes</td>\n",
              "      <td>no</td>\n",
              "      <td>unknown</td>\n",
              "      <td>5</td>\n",
              "      <td>may</td>\n",
              "      <td>261</td>\n",
              "      <td>1</td>\n",
              "      <td>-1</td>\n",
              "      <td>0</td>\n",
              "      <td>unknown</td>\n",
              "      <td>no</td>\n",
              "    </tr>\n",
              "    <tr>\n",
              "      <th>1</th>\n",
              "      <td>44</td>\n",
              "      <td>technician</td>\n",
              "      <td>single</td>\n",
              "      <td>secondary</td>\n",
              "      <td>no</td>\n",
              "      <td>29</td>\n",
              "      <td>yes</td>\n",
              "      <td>no</td>\n",
              "      <td>unknown</td>\n",
              "      <td>5</td>\n",
              "      <td>may</td>\n",
              "      <td>151</td>\n",
              "      <td>1</td>\n",
              "      <td>-1</td>\n",
              "      <td>0</td>\n",
              "      <td>unknown</td>\n",
              "      <td>no</td>\n",
              "    </tr>\n",
              "    <tr>\n",
              "      <th>2</th>\n",
              "      <td>33</td>\n",
              "      <td>entrepreneur</td>\n",
              "      <td>married</td>\n",
              "      <td>secondary</td>\n",
              "      <td>no</td>\n",
              "      <td>2</td>\n",
              "      <td>yes</td>\n",
              "      <td>yes</td>\n",
              "      <td>unknown</td>\n",
              "      <td>5</td>\n",
              "      <td>may</td>\n",
              "      <td>76</td>\n",
              "      <td>1</td>\n",
              "      <td>-1</td>\n",
              "      <td>0</td>\n",
              "      <td>unknown</td>\n",
              "      <td>no</td>\n",
              "    </tr>\n",
              "    <tr>\n",
              "      <th>3</th>\n",
              "      <td>47</td>\n",
              "      <td>blue-collar</td>\n",
              "      <td>married</td>\n",
              "      <td>unknown</td>\n",
              "      <td>no</td>\n",
              "      <td>1506</td>\n",
              "      <td>yes</td>\n",
              "      <td>no</td>\n",
              "      <td>unknown</td>\n",
              "      <td>5</td>\n",
              "      <td>may</td>\n",
              "      <td>92</td>\n",
              "      <td>1</td>\n",
              "      <td>-1</td>\n",
              "      <td>0</td>\n",
              "      <td>unknown</td>\n",
              "      <td>no</td>\n",
              "    </tr>\n",
              "    <tr>\n",
              "      <th>4</th>\n",
              "      <td>33</td>\n",
              "      <td>unknown</td>\n",
              "      <td>single</td>\n",
              "      <td>unknown</td>\n",
              "      <td>no</td>\n",
              "      <td>1</td>\n",
              "      <td>no</td>\n",
              "      <td>no</td>\n",
              "      <td>unknown</td>\n",
              "      <td>5</td>\n",
              "      <td>may</td>\n",
              "      <td>198</td>\n",
              "      <td>1</td>\n",
              "      <td>-1</td>\n",
              "      <td>0</td>\n",
              "      <td>unknown</td>\n",
              "      <td>no</td>\n",
              "    </tr>\n",
              "  </tbody>\n",
              "</table>\n",
              "</div>\n",
              "    <div class=\"colab-df-buttons\">\n",
              "\n",
              "  <div class=\"colab-df-container\">\n",
              "    <button class=\"colab-df-convert\" onclick=\"convertToInteractive('df-c31bf7d7-fdec-452c-8503-5f5d9c6e261b')\"\n",
              "            title=\"Convert this dataframe to an interactive table.\"\n",
              "            style=\"display:none;\">\n",
              "\n",
              "  <svg xmlns=\"http://www.w3.org/2000/svg\" height=\"24px\" viewBox=\"0 -960 960 960\">\n",
              "    <path d=\"M120-120v-720h720v720H120Zm60-500h600v-160H180v160Zm220 220h160v-160H400v160Zm0 220h160v-160H400v160ZM180-400h160v-160H180v160Zm440 0h160v-160H620v160ZM180-180h160v-160H180v160Zm440 0h160v-160H620v160Z\"/>\n",
              "  </svg>\n",
              "    </button>\n",
              "\n",
              "  <style>\n",
              "    .colab-df-container {\n",
              "      display:flex;\n",
              "      gap: 12px;\n",
              "    }\n",
              "\n",
              "    .colab-df-convert {\n",
              "      background-color: #E8F0FE;\n",
              "      border: none;\n",
              "      border-radius: 50%;\n",
              "      cursor: pointer;\n",
              "      display: none;\n",
              "      fill: #1967D2;\n",
              "      height: 32px;\n",
              "      padding: 0 0 0 0;\n",
              "      width: 32px;\n",
              "    }\n",
              "\n",
              "    .colab-df-convert:hover {\n",
              "      background-color: #E2EBFA;\n",
              "      box-shadow: 0px 1px 2px rgba(60, 64, 67, 0.3), 0px 1px 3px 1px rgba(60, 64, 67, 0.15);\n",
              "      fill: #174EA6;\n",
              "    }\n",
              "\n",
              "    .colab-df-buttons div {\n",
              "      margin-bottom: 4px;\n",
              "    }\n",
              "\n",
              "    [theme=dark] .colab-df-convert {\n",
              "      background-color: #3B4455;\n",
              "      fill: #D2E3FC;\n",
              "    }\n",
              "\n",
              "    [theme=dark] .colab-df-convert:hover {\n",
              "      background-color: #434B5C;\n",
              "      box-shadow: 0px 1px 3px 1px rgba(0, 0, 0, 0.15);\n",
              "      filter: drop-shadow(0px 1px 2px rgba(0, 0, 0, 0.3));\n",
              "      fill: #FFFFFF;\n",
              "    }\n",
              "  </style>\n",
              "\n",
              "    <script>\n",
              "      const buttonEl =\n",
              "        document.querySelector('#df-c31bf7d7-fdec-452c-8503-5f5d9c6e261b button.colab-df-convert');\n",
              "      buttonEl.style.display =\n",
              "        google.colab.kernel.accessAllowed ? 'block' : 'none';\n",
              "\n",
              "      async function convertToInteractive(key) {\n",
              "        const element = document.querySelector('#df-c31bf7d7-fdec-452c-8503-5f5d9c6e261b');\n",
              "        const dataTable =\n",
              "          await google.colab.kernel.invokeFunction('convertToInteractive',\n",
              "                                                    [key], {});\n",
              "        if (!dataTable) return;\n",
              "\n",
              "        const docLinkHtml = 'Like what you see? Visit the ' +\n",
              "          '<a target=\"_blank\" href=https://colab.research.google.com/notebooks/data_table.ipynb>data table notebook</a>'\n",
              "          + ' to learn more about interactive tables.';\n",
              "        element.innerHTML = '';\n",
              "        dataTable['output_type'] = 'display_data';\n",
              "        await google.colab.output.renderOutput(dataTable, element);\n",
              "        const docLink = document.createElement('div');\n",
              "        docLink.innerHTML = docLinkHtml;\n",
              "        element.appendChild(docLink);\n",
              "      }\n",
              "    </script>\n",
              "  </div>\n",
              "\n",
              "\n",
              "<div id=\"df-c29446f3-a73d-42e4-b3ca-bdd30181bd4e\">\n",
              "  <button class=\"colab-df-quickchart\" onclick=\"quickchart('df-c29446f3-a73d-42e4-b3ca-bdd30181bd4e')\"\n",
              "            title=\"Suggest charts\"\n",
              "            style=\"display:none;\">\n",
              "\n",
              "<svg xmlns=\"http://www.w3.org/2000/svg\" height=\"24px\"viewBox=\"0 0 24 24\"\n",
              "     width=\"24px\">\n",
              "    <g>\n",
              "        <path d=\"M19 3H5c-1.1 0-2 .9-2 2v14c0 1.1.9 2 2 2h14c1.1 0 2-.9 2-2V5c0-1.1-.9-2-2-2zM9 17H7v-7h2v7zm4 0h-2V7h2v10zm4 0h-2v-4h2v4z\"/>\n",
              "    </g>\n",
              "</svg>\n",
              "  </button>\n",
              "\n",
              "<style>\n",
              "  .colab-df-quickchart {\n",
              "      --bg-color: #E8F0FE;\n",
              "      --fill-color: #1967D2;\n",
              "      --hover-bg-color: #E2EBFA;\n",
              "      --hover-fill-color: #174EA6;\n",
              "      --disabled-fill-color: #AAA;\n",
              "      --disabled-bg-color: #DDD;\n",
              "  }\n",
              "\n",
              "  [theme=dark] .colab-df-quickchart {\n",
              "      --bg-color: #3B4455;\n",
              "      --fill-color: #D2E3FC;\n",
              "      --hover-bg-color: #434B5C;\n",
              "      --hover-fill-color: #FFFFFF;\n",
              "      --disabled-bg-color: #3B4455;\n",
              "      --disabled-fill-color: #666;\n",
              "  }\n",
              "\n",
              "  .colab-df-quickchart {\n",
              "    background-color: var(--bg-color);\n",
              "    border: none;\n",
              "    border-radius: 50%;\n",
              "    cursor: pointer;\n",
              "    display: none;\n",
              "    fill: var(--fill-color);\n",
              "    height: 32px;\n",
              "    padding: 0;\n",
              "    width: 32px;\n",
              "  }\n",
              "\n",
              "  .colab-df-quickchart:hover {\n",
              "    background-color: var(--hover-bg-color);\n",
              "    box-shadow: 0 1px 2px rgba(60, 64, 67, 0.3), 0 1px 3px 1px rgba(60, 64, 67, 0.15);\n",
              "    fill: var(--button-hover-fill-color);\n",
              "  }\n",
              "\n",
              "  .colab-df-quickchart-complete:disabled,\n",
              "  .colab-df-quickchart-complete:disabled:hover {\n",
              "    background-color: var(--disabled-bg-color);\n",
              "    fill: var(--disabled-fill-color);\n",
              "    box-shadow: none;\n",
              "  }\n",
              "\n",
              "  .colab-df-spinner {\n",
              "    border: 2px solid var(--fill-color);\n",
              "    border-color: transparent;\n",
              "    border-bottom-color: var(--fill-color);\n",
              "    animation:\n",
              "      spin 1s steps(1) infinite;\n",
              "  }\n",
              "\n",
              "  @keyframes spin {\n",
              "    0% {\n",
              "      border-color: transparent;\n",
              "      border-bottom-color: var(--fill-color);\n",
              "      border-left-color: var(--fill-color);\n",
              "    }\n",
              "    20% {\n",
              "      border-color: transparent;\n",
              "      border-left-color: var(--fill-color);\n",
              "      border-top-color: var(--fill-color);\n",
              "    }\n",
              "    30% {\n",
              "      border-color: transparent;\n",
              "      border-left-color: var(--fill-color);\n",
              "      border-top-color: var(--fill-color);\n",
              "      border-right-color: var(--fill-color);\n",
              "    }\n",
              "    40% {\n",
              "      border-color: transparent;\n",
              "      border-right-color: var(--fill-color);\n",
              "      border-top-color: var(--fill-color);\n",
              "    }\n",
              "    60% {\n",
              "      border-color: transparent;\n",
              "      border-right-color: var(--fill-color);\n",
              "    }\n",
              "    80% {\n",
              "      border-color: transparent;\n",
              "      border-right-color: var(--fill-color);\n",
              "      border-bottom-color: var(--fill-color);\n",
              "    }\n",
              "    90% {\n",
              "      border-color: transparent;\n",
              "      border-bottom-color: var(--fill-color);\n",
              "    }\n",
              "  }\n",
              "</style>\n",
              "\n",
              "  <script>\n",
              "    async function quickchart(key) {\n",
              "      const quickchartButtonEl =\n",
              "        document.querySelector('#' + key + ' button');\n",
              "      quickchartButtonEl.disabled = true;  // To prevent multiple clicks.\n",
              "      quickchartButtonEl.classList.add('colab-df-spinner');\n",
              "      try {\n",
              "        const charts = await google.colab.kernel.invokeFunction(\n",
              "            'suggestCharts', [key], {});\n",
              "      } catch (error) {\n",
              "        console.error('Error during call to suggestCharts:', error);\n",
              "      }\n",
              "      quickchartButtonEl.classList.remove('colab-df-spinner');\n",
              "      quickchartButtonEl.classList.add('colab-df-quickchart-complete');\n",
              "    }\n",
              "    (() => {\n",
              "      let quickchartButtonEl =\n",
              "        document.querySelector('#df-c29446f3-a73d-42e4-b3ca-bdd30181bd4e button');\n",
              "      quickchartButtonEl.style.display =\n",
              "        google.colab.kernel.accessAllowed ? 'block' : 'none';\n",
              "    })();\n",
              "  </script>\n",
              "</div>\n",
              "\n",
              "    </div>\n",
              "  </div>\n"
            ],
            "application/vnd.google.colaboratory.intrinsic+json": {
              "type": "dataframe",
              "variable_name": "df",
              "summary": "{\n  \"name\": \"df\",\n  \"rows\": 45211,\n  \"fields\": [\n    {\n      \"column\": \"age\",\n      \"properties\": {\n        \"dtype\": \"number\",\n        \"std\": 10,\n        \"min\": 18,\n        \"max\": 95,\n        \"num_unique_values\": 77,\n        \"samples\": [\n          35,\n          34,\n          53\n        ],\n        \"semantic_type\": \"\",\n        \"description\": \"\"\n      }\n    },\n    {\n      \"column\": \"job\",\n      \"properties\": {\n        \"dtype\": \"category\",\n        \"num_unique_values\": 12,\n        \"samples\": [\n          \"housemaid\",\n          \"unemployed\",\n          \"management\"\n        ],\n        \"semantic_type\": \"\",\n        \"description\": \"\"\n      }\n    },\n    {\n      \"column\": \"marital\",\n      \"properties\": {\n        \"dtype\": \"category\",\n        \"num_unique_values\": 3,\n        \"samples\": [\n          \"married\",\n          \"single\",\n          \"divorced\"\n        ],\n        \"semantic_type\": \"\",\n        \"description\": \"\"\n      }\n    },\n    {\n      \"column\": \"education\",\n      \"properties\": {\n        \"dtype\": \"category\",\n        \"num_unique_values\": 4,\n        \"samples\": [\n          \"secondary\",\n          \"primary\",\n          \"tertiary\"\n        ],\n        \"semantic_type\": \"\",\n        \"description\": \"\"\n      }\n    },\n    {\n      \"column\": \"default\",\n      \"properties\": {\n        \"dtype\": \"category\",\n        \"num_unique_values\": 2,\n        \"samples\": [\n          \"yes\",\n          \"no\"\n        ],\n        \"semantic_type\": \"\",\n        \"description\": \"\"\n      }\n    },\n    {\n      \"column\": \"balance\",\n      \"properties\": {\n        \"dtype\": \"number\",\n        \"std\": 3044,\n        \"min\": -8019,\n        \"max\": 102127,\n        \"num_unique_values\": 7168,\n        \"samples\": [\n          3276,\n          43\n        ],\n        \"semantic_type\": \"\",\n        \"description\": \"\"\n      }\n    },\n    {\n      \"column\": \"housing\",\n      \"properties\": {\n        \"dtype\": \"category\",\n        \"num_unique_values\": 2,\n        \"samples\": [\n          \"no\",\n          \"yes\"\n        ],\n        \"semantic_type\": \"\",\n        \"description\": \"\"\n      }\n    },\n    {\n      \"column\": \"loan\",\n      \"properties\": {\n        \"dtype\": \"category\",\n        \"num_unique_values\": 2,\n        \"samples\": [\n          \"yes\",\n          \"no\"\n        ],\n        \"semantic_type\": \"\",\n        \"description\": \"\"\n      }\n    },\n    {\n      \"column\": \"contact\",\n      \"properties\": {\n        \"dtype\": \"category\",\n        \"num_unique_values\": 3,\n        \"samples\": [\n          \"unknown\",\n          \"cellular\"\n        ],\n        \"semantic_type\": \"\",\n        \"description\": \"\"\n      }\n    },\n    {\n      \"column\": \"day\",\n      \"properties\": {\n        \"dtype\": \"number\",\n        \"std\": 8,\n        \"min\": 1,\n        \"max\": 31,\n        \"num_unique_values\": 31,\n        \"samples\": [\n          1,\n          27\n        ],\n        \"semantic_type\": \"\",\n        \"description\": \"\"\n      }\n    },\n    {\n      \"column\": \"month\",\n      \"properties\": {\n        \"dtype\": \"category\",\n        \"num_unique_values\": 12,\n        \"samples\": [\n          \"apr\",\n          \"mar\"\n        ],\n        \"semantic_type\": \"\",\n        \"description\": \"\"\n      }\n    },\n    {\n      \"column\": \"duration\",\n      \"properties\": {\n        \"dtype\": \"number\",\n        \"std\": 257,\n        \"min\": 0,\n        \"max\": 4918,\n        \"num_unique_values\": 1573,\n        \"samples\": [\n          835,\n          1135\n        ],\n        \"semantic_type\": \"\",\n        \"description\": \"\"\n      }\n    },\n    {\n      \"column\": \"campaign\",\n      \"properties\": {\n        \"dtype\": \"number\",\n        \"std\": 3,\n        \"min\": 1,\n        \"max\": 63,\n        \"num_unique_values\": 48,\n        \"samples\": [\n          41,\n          27\n        ],\n        \"semantic_type\": \"\",\n        \"description\": \"\"\n      }\n    },\n    {\n      \"column\": \"pdays\",\n      \"properties\": {\n        \"dtype\": \"number\",\n        \"std\": 100,\n        \"min\": -1,\n        \"max\": 871,\n        \"num_unique_values\": 559,\n        \"samples\": [\n          249,\n          551\n        ],\n        \"semantic_type\": \"\",\n        \"description\": \"\"\n      }\n    },\n    {\n      \"column\": \"previous\",\n      \"properties\": {\n        \"dtype\": \"number\",\n        \"std\": 2,\n        \"min\": 0,\n        \"max\": 275,\n        \"num_unique_values\": 41,\n        \"samples\": [\n          17,\n          9\n        ],\n        \"semantic_type\": \"\",\n        \"description\": \"\"\n      }\n    },\n    {\n      \"column\": \"poutcome\",\n      \"properties\": {\n        \"dtype\": \"category\",\n        \"num_unique_values\": 4,\n        \"samples\": [\n          \"failure\",\n          \"success\"\n        ],\n        \"semantic_type\": \"\",\n        \"description\": \"\"\n      }\n    },\n    {\n      \"column\": \"y\",\n      \"properties\": {\n        \"dtype\": \"category\",\n        \"num_unique_values\": 2,\n        \"samples\": [\n          \"yes\",\n          \"no\"\n        ],\n        \"semantic_type\": \"\",\n        \"description\": \"\"\n      }\n    }\n  ]\n}"
            }
          },
          "metadata": {},
          "execution_count": 6
        }
      ]
    },
    {
      "cell_type": "code",
      "source": [
        "from google.colab import drive\n",
        "drive.mount('/content/drive')"
      ],
      "metadata": {
        "colab": {
          "base_uri": "https://localhost:8080/"
        },
        "id": "a7C3T6KMs_in",
        "outputId": "e204347d-eb8e-46c4-92e5-f9fc3e3f16cd"
      },
      "execution_count": null,
      "outputs": [
        {
          "output_type": "stream",
          "name": "stdout",
          "text": [
            "Mounted at /content/drive\n"
          ]
        }
      ]
    },
    {
      "cell_type": "code",
      "source": [
        "#2.\n",
        "# Check the info of the DataFrame\n",
        "df_info = df.info()\n",
        "print(df_info)\n",
        "\n",
        "object_columns = df.select_dtypes(include=['object']).columns\n",
        "print(\"\\nColumns with dtype=object:\")\n",
        "print(object_columns)"
      ],
      "metadata": {
        "colab": {
          "base_uri": "https://localhost:8080/"
        },
        "id": "X0E2WpShtHOB",
        "outputId": "6c83db6b-743c-4390-9b4f-dbeb14b3ca11"
      },
      "execution_count": null,
      "outputs": [
        {
          "output_type": "stream",
          "name": "stdout",
          "text": [
            "<class 'pandas.core.frame.DataFrame'>\n",
            "RangeIndex: 45211 entries, 0 to 45210\n",
            "Data columns (total 17 columns):\n",
            " #   Column     Non-Null Count  Dtype \n",
            "---  ------     --------------  ----- \n",
            " 0   age        45211 non-null  int64 \n",
            " 1   job        45211 non-null  object\n",
            " 2   marital    45211 non-null  object\n",
            " 3   education  45211 non-null  object\n",
            " 4   default    45211 non-null  object\n",
            " 5   balance    45211 non-null  int64 \n",
            " 6   housing    45211 non-null  object\n",
            " 7   loan       45211 non-null  object\n",
            " 8   contact    45211 non-null  object\n",
            " 9   day        45211 non-null  int64 \n",
            " 10  month      45211 non-null  object\n",
            " 11  duration   45211 non-null  int64 \n",
            " 12  campaign   45211 non-null  int64 \n",
            " 13  pdays      45211 non-null  int64 \n",
            " 14  previous   45211 non-null  int64 \n",
            " 15  poutcome   45211 non-null  object\n",
            " 16  y          45211 non-null  object\n",
            "dtypes: int64(7), object(10)\n",
            "memory usage: 5.9+ MB\n",
            "None\n",
            "\n",
            "Columns with dtype=object:\n",
            "Index(['job', 'marital', 'education', 'default', 'housing', 'loan', 'contact',\n",
            "       'month', 'poutcome', 'y'],\n",
            "      dtype='object')\n"
          ]
        }
      ]
    },
    {
      "cell_type": "code",
      "source": [
        "#2(b)\n",
        "\n",
        "import pandas as pd\n",
        "\n",
        "# Load the dataset\n",
        "df = pd.read_csv('/content/drive/MyDrive/data/bank .csv')\n",
        "\n",
        "# Get info of the DataFrame\n",
        "df.info()\n",
        "\n",
        "# Identify columns with dtype 'object'\n",
        "object_columns = df.select_dtypes(include=['object']).columns\n",
        "\n",
        "for col in object_columns:\n",
        "    print(f\"Unique values in '{col}':\")\n",
        "    print(df[col].unique())\n",
        "    print(\"\\n\")"
      ],
      "metadata": {
        "colab": {
          "base_uri": "https://localhost:8080/"
        },
        "id": "Xx3w2JT8tKXu",
        "outputId": "854d147b-eb1b-4e87-8f97-ef32820ca1a4"
      },
      "execution_count": null,
      "outputs": [
        {
          "output_type": "stream",
          "name": "stdout",
          "text": [
            "<class 'pandas.core.frame.DataFrame'>\n",
            "RangeIndex: 45211 entries, 0 to 45210\n",
            "Data columns (total 17 columns):\n",
            " #   Column     Non-Null Count  Dtype \n",
            "---  ------     --------------  ----- \n",
            " 0   age        45211 non-null  int64 \n",
            " 1   job        45211 non-null  object\n",
            " 2   marital    45211 non-null  object\n",
            " 3   education  45211 non-null  object\n",
            " 4   default    45211 non-null  object\n",
            " 5   balance    45211 non-null  int64 \n",
            " 6   housing    45211 non-null  object\n",
            " 7   loan       45211 non-null  object\n",
            " 8   contact    45211 non-null  object\n",
            " 9   day        45211 non-null  int64 \n",
            " 10  month      45211 non-null  object\n",
            " 11  duration   45211 non-null  int64 \n",
            " 12  campaign   45211 non-null  int64 \n",
            " 13  pdays      45211 non-null  int64 \n",
            " 14  previous   45211 non-null  int64 \n",
            " 15  poutcome   45211 non-null  object\n",
            " 16  y          45211 non-null  object\n",
            "dtypes: int64(7), object(10)\n",
            "memory usage: 5.9+ MB\n",
            "Unique values in 'job':\n",
            "['management' 'technician' 'entrepreneur' 'blue-collar' 'unknown'\n",
            " 'retired' 'admin.' 'services' 'self-employed' 'unemployed' 'housemaid'\n",
            " 'student']\n",
            "\n",
            "\n",
            "Unique values in 'marital':\n",
            "['married' 'single' 'divorced']\n",
            "\n",
            "\n",
            "Unique values in 'education':\n",
            "['tertiary' 'secondary' 'unknown' 'primary']\n",
            "\n",
            "\n",
            "Unique values in 'default':\n",
            "['no' 'yes']\n",
            "\n",
            "\n",
            "Unique values in 'housing':\n",
            "['yes' 'no']\n",
            "\n",
            "\n",
            "Unique values in 'loan':\n",
            "['no' 'yes']\n",
            "\n",
            "\n",
            "Unique values in 'contact':\n",
            "['unknown' 'cellular' 'telephone']\n",
            "\n",
            "\n",
            "Unique values in 'month':\n",
            "['may' 'jun' 'jul' 'aug' 'oct' 'nov' 'dec' 'jan' 'feb' 'mar' 'apr' 'sep']\n",
            "\n",
            "\n",
            "Unique values in 'poutcome':\n",
            "['unknown' 'failure' 'other' 'success']\n",
            "\n",
            "\n",
            "Unique values in 'y':\n",
            "['no' 'yes']\n",
            "\n",
            "\n"
          ]
        }
      ]
    },
    {
      "cell_type": "code",
      "source": [
        "#2(c)\n",
        "import pandas as pd\n",
        "\n",
        "# Load the dataset\n",
        "df = pd.read_csv('/content/drive/MyDrive/data/bank .csv')\n",
        "\n",
        "# Check for the total number of null values in each column\n",
        "null_values = df.isnull().sum()\n",
        "\n",
        "# Print the result\n",
        "print(null_values)"
      ],
      "metadata": {
        "colab": {
          "base_uri": "https://localhost:8080/"
        },
        "id": "PrRefAsFtM7X",
        "outputId": "f0ac705f-f1ac-4efa-bbc7-d17702108f4a"
      },
      "execution_count": null,
      "outputs": [
        {
          "output_type": "stream",
          "name": "stdout",
          "text": [
            "age          0\n",
            "job          0\n",
            "marital      0\n",
            "education    0\n",
            "default      0\n",
            "balance      0\n",
            "housing      0\n",
            "loan         0\n",
            "contact      0\n",
            "day          0\n",
            "month        0\n",
            "duration     0\n",
            "campaign     0\n",
            "pdays        0\n",
            "previous     0\n",
            "poutcome     0\n",
            "y            0\n",
            "dtype: int64\n"
          ]
        }
      ]
    },
    {
      "cell_type": "code",
      "source": [
        "#3\n",
        "import pandas as pd\n",
        "\n",
        "# Load the dataset\n",
        "df = pd.read_csv('/content/drive/MyDrive/data/bank .csv')\n",
        "\n",
        "# Drop columns with dtype 'object' and store in a new DataFrame\n",
        "df_numeric = df.select_dtypes(exclude=['object'])\n",
        "\n",
        "# Save the new DataFrame to a CSV file\n",
        "df_numeric.to_csv('banknumericdata.csv', index=False)\n",
        "\n",
        "# Optional: print the first few rows of the new DataFrame to verify\n",
        "print(df_numeric.head())"
      ],
      "metadata": {
        "colab": {
          "base_uri": "https://localhost:8080/"
        },
        "id": "9w3U0Z45tOzi",
        "outputId": "19de388e-ede1-4311-b57b-ef0a20074bf2"
      },
      "execution_count": null,
      "outputs": [
        {
          "output_type": "stream",
          "name": "stdout",
          "text": [
            "   age  balance  day  duration  campaign  pdays  previous\n",
            "0   58     2143    5       261         1     -1         0\n",
            "1   44       29    5       151         1     -1         0\n",
            "2   33        2    5        76         1     -1         0\n",
            "3   47     1506    5        92         1     -1         0\n",
            "4   33        1    5       198         1     -1         0\n"
          ]
        }
      ]
    },
    {
      "cell_type": "code",
      "source": [
        "#4\n",
        "import pandas as pd\n",
        "\n",
        "# Read the 'banknumericdata.csv' file\n",
        "df_numeric = pd.read_csv('banknumericdata.csv')\n",
        "\n",
        "# Get the summary statistics for the numeric columns\n",
        "summary_statistics = df_numeric.describe()\n",
        "\n",
        "# Print the summary statistics\n",
        "print(summary_statistics)"
      ],
      "metadata": {
        "colab": {
          "base_uri": "https://localhost:8080/"
        },
        "id": "vm90GFiOtREQ",
        "outputId": "de5932a7-4f11-45aa-fb39-3742aa8c796e"
      },
      "execution_count": null,
      "outputs": [
        {
          "output_type": "stream",
          "name": "stdout",
          "text": [
            "                age        balance           day      duration      campaign  \\\n",
            "count  45211.000000   45211.000000  45211.000000  45211.000000  45211.000000   \n",
            "mean      40.936210    1362.272058     15.806419    258.163080      2.763841   \n",
            "std       10.618762    3044.765829      8.322476    257.527812      3.098021   \n",
            "min       18.000000   -8019.000000      1.000000      0.000000      1.000000   \n",
            "25%       33.000000      72.000000      8.000000    103.000000      1.000000   \n",
            "50%       39.000000     448.000000     16.000000    180.000000      2.000000   \n",
            "75%       48.000000    1428.000000     21.000000    319.000000      3.000000   \n",
            "max       95.000000  102127.000000     31.000000   4918.000000     63.000000   \n",
            "\n",
            "              pdays      previous  \n",
            "count  45211.000000  45211.000000  \n",
            "mean      40.197828      0.580323  \n",
            "std      100.128746      2.303441  \n",
            "min       -1.000000      0.000000  \n",
            "25%       -1.000000      0.000000  \n",
            "50%       -1.000000      0.000000  \n",
            "75%       -1.000000      0.000000  \n",
            "max      871.000000    275.000000  \n"
          ]
        }
      ]
    },
    {
      "cell_type": "code",
      "source": [
        "#Problem 2 Data imputations\n",
        "#1.\n",
        "import pandas as pd\n",
        "\n",
        "# Load the 'medical student' dataset\n",
        "df = pd.read_csv('/content/drive/MyDrive/data/medical_students_dataset.csv')\n",
        "\n",
        "# Print the first few rows to verify\n",
        "print(df.head())"
      ],
      "metadata": {
        "colab": {
          "base_uri": "https://localhost:8080/"
        },
        "id": "_tevt485tTDZ",
        "outputId": "2b42ac44-b632-4948-e9b6-7fc5e243c446"
      },
      "execution_count": null,
      "outputs": [
        {
          "output_type": "stream",
          "name": "stdout",
          "text": [
            "   Student ID   Age  Gender      Height     Weight Blood Type        BMI  \\\n",
            "0         1.0  18.0  Female  161.777924  72.354947          O  27.645835   \n",
            "1         2.0   NaN    Male  152.069157  47.630941          B        NaN   \n",
            "2         3.0  32.0  Female  182.537664  55.741083          A  16.729017   \n",
            "3         NaN  30.0    Male  182.112867  63.332207          B  19.096042   \n",
            "4         5.0  23.0  Female         NaN  46.234173          O        NaN   \n",
            "\n",
            "   Temperature  Heart Rate  Blood Pressure  Cholesterol Diabetes Smoking  \n",
            "0          NaN        95.0           109.0        203.0       No     NaN  \n",
            "1    98.714977        93.0           104.0        163.0       No      No  \n",
            "2    98.260293        76.0           130.0        216.0      Yes      No  \n",
            "3    98.839605        99.0           112.0        141.0       No     Yes  \n",
            "4    98.480008        95.0             NaN        231.0       No      No  \n"
          ]
        }
      ]
    },
    {
      "cell_type": "code",
      "source": [
        "#2\n",
        "import pandas as pd\n",
        "\n",
        "# Load the 'medical student' dataset\n",
        "df = pd.read_csv('/content/drive/MyDrive/data/medical_students_dataset.csv')\n",
        "\n",
        "# Check the info of the DataFrame\n",
        "df.info()\n",
        "\n",
        "# Identify columns with missing (null) values\n",
        "missing_values = df.isnull().sum()\n",
        "\n",
        "# Print columns with missing values\n",
        "print(\"Columns with missing values:\")\n",
        "print(missing_values[missing_values > 0])"
      ],
      "metadata": {
        "colab": {
          "base_uri": "https://localhost:8080/"
        },
        "id": "OAeIIZe3tVSS",
        "outputId": "386e0667-bd9b-4ed2-b594-526715ea191f"
      },
      "execution_count": null,
      "outputs": [
        {
          "output_type": "stream",
          "name": "stdout",
          "text": [
            "<class 'pandas.core.frame.DataFrame'>\n",
            "RangeIndex: 200000 entries, 0 to 199999\n",
            "Data columns (total 13 columns):\n",
            " #   Column          Non-Null Count   Dtype  \n",
            "---  ------          --------------   -----  \n",
            " 0   Student ID      180000 non-null  float64\n",
            " 1   Age             180000 non-null  float64\n",
            " 2   Gender          180000 non-null  object \n",
            " 3   Height          180000 non-null  float64\n",
            " 4   Weight          180000 non-null  float64\n",
            " 5   Blood Type      180000 non-null  object \n",
            " 6   BMI             180000 non-null  float64\n",
            " 7   Temperature     180000 non-null  float64\n",
            " 8   Heart Rate      180000 non-null  float64\n",
            " 9   Blood Pressure  180000 non-null  float64\n",
            " 10  Cholesterol     180000 non-null  float64\n",
            " 11  Diabetes        180000 non-null  object \n",
            " 12  Smoking         180000 non-null  object \n",
            "dtypes: float64(9), object(4)\n",
            "memory usage: 19.8+ MB\n",
            "Columns with missing values:\n",
            "Student ID        20000\n",
            "Age               20000\n",
            "Gender            20000\n",
            "Height            20000\n",
            "Weight            20000\n",
            "Blood Type        20000\n",
            "BMI               20000\n",
            "Temperature       20000\n",
            "Heart Rate        20000\n",
            "Blood Pressure    20000\n",
            "Cholesterol       20000\n",
            "Diabetes          20000\n",
            "Smoking           20000\n",
            "dtype: int64\n"
          ]
        }
      ]
    },
    {
      "cell_type": "code",
      "source": [
        "#3\n",
        "import pandas as pd\n",
        "\n",
        "# Load the 'medical student' dataset\n",
        "df = pd.read_csv('/content/drive/MyDrive/data/medical_students_dataset.csv')\n",
        "\n",
        "# Check for missing values\n",
        "missing_values = df.isnull().sum()\n",
        "print(\"Columns with missing values:\\n\", missing_values[missing_values > 0])\n",
        "\n",
        "if 'age' in df.columns:\n",
        "    # If 'age' is skewed, use median to fill missing values\n",
        "    df['age'] = df['age'].fillna(df['age'].median())\n",
        "    print(\"Missing values in 'age' filled using median.\")\n",
        "\n",
        "\n",
        "if 'gender' in df.columns:\n",
        "    # Fill missing values in 'gender' with the most frequent value (mode)\n",
        "    df['gender'] = df['gender'].fillna(df['gender'].mode()[0])\n",
        "    print(\"Missing values in 'gender' filled using mode.\")\n",
        "\n",
        "\n",
        "if 'timestamp' in df.columns:\n",
        "    df['timestamp'] = df['timestamp'].fillna(method='ffill')\n",
        "    print(\"Missing values in 'timestamp' filled using forward fill.\")\n",
        "\n",
        "# Check if all missing values have been filled\n",
        "print(\"\\nMissing values after imputation:\\n\", df.isnull().sum())"
      ],
      "metadata": {
        "colab": {
          "base_uri": "https://localhost:8080/"
        },
        "id": "TYueD1QRtXpu",
        "outputId": "89bac4d4-c2c1-437f-879d-aedef19b4c21"
      },
      "execution_count": null,
      "outputs": [
        {
          "output_type": "stream",
          "name": "stdout",
          "text": [
            "Columns with missing values:\n",
            " Student ID        20000\n",
            "Age               20000\n",
            "Gender            20000\n",
            "Height            20000\n",
            "Weight            20000\n",
            "Blood Type        20000\n",
            "BMI               20000\n",
            "Temperature       20000\n",
            "Heart Rate        20000\n",
            "Blood Pressure    20000\n",
            "Cholesterol       20000\n",
            "Diabetes          20000\n",
            "Smoking           20000\n",
            "dtype: int64\n",
            "\n",
            "Missing values after imputation:\n",
            " Student ID        20000\n",
            "Age               20000\n",
            "Gender            20000\n",
            "Height            20000\n",
            "Weight            20000\n",
            "Blood Type        20000\n",
            "BMI               20000\n",
            "Temperature       20000\n",
            "Heart Rate        20000\n",
            "Blood Pressure    20000\n",
            "Cholesterol       20000\n",
            "Diabetes          20000\n",
            "Smoking           20000\n",
            "dtype: int64\n"
          ]
        }
      ]
    },
    {
      "cell_type": "code",
      "source": [
        "#4\n",
        "import pandas as pd\n",
        "\n",
        "# Load the 'medical student' dataset\n",
        "df = pd.read_csv('/content/drive/MyDrive/data/medical_students_dataset.csv')\n",
        "\n",
        "# Check for duplicate rows\n",
        "duplicate_rows = df.duplicated().sum()\n",
        "\n",
        "# Print the number of duplicate rows\n",
        "print(f\"Number of duplicate rows: {duplicate_rows}\")\n",
        "\n",
        "# If there are duplicates, remove them\n",
        "if duplicate_rows > 0:\n",
        "    # Remove duplicate rows\n",
        "    df_cleaned = df.drop_duplicates()\n",
        "\n",
        "    # Print the number of rows after removing duplicates\n",
        "    print(f\"Number of rows after removing duplicates: {df_cleaned.shape[0]}\")\n",
        "else:\n",
        "    print(\"No duplicates found.\")\n",
        "\n",
        "# Optionally: Save the cleaned DataFrame to a new CSV file\n",
        "df_cleaned.to_csv('medical_student_cleaned.csv', index=False)\n",
        "\n",
        "# Check the first few rows of the cleaned DataFrame\n",
        "print(\"\\nFirst few rows after cleaning:\")\n",
        "print(df_cleaned.head())"
      ],
      "metadata": {
        "colab": {
          "base_uri": "https://localhost:8080/"
        },
        "id": "rENY_5JbtbXg",
        "outputId": "d8ecbb3c-4c7e-45f3-e5fe-7cd6410a2023"
      },
      "execution_count": null,
      "outputs": [
        {
          "output_type": "stream",
          "name": "stdout",
          "text": [
            "Number of duplicate rows: 7644\n",
            "Number of rows after removing duplicates: 192356\n",
            "\n",
            "First few rows after cleaning:\n",
            "   Student ID   Age  Gender      Height     Weight Blood Type        BMI  \\\n",
            "0         1.0  18.0  Female  161.777924  72.354947          O  27.645835   \n",
            "1         2.0   NaN    Male  152.069157  47.630941          B        NaN   \n",
            "2         3.0  32.0  Female  182.537664  55.741083          A  16.729017   \n",
            "3         NaN  30.0    Male  182.112867  63.332207          B  19.096042   \n",
            "4         5.0  23.0  Female         NaN  46.234173          O        NaN   \n",
            "\n",
            "   Temperature  Heart Rate  Blood Pressure  Cholesterol Diabetes Smoking  \n",
            "0          NaN        95.0           109.0        203.0       No     NaN  \n",
            "1    98.714977        93.0           104.0        163.0       No      No  \n",
            "2    98.260293        76.0           130.0        216.0      Yes      No  \n",
            "3    98.839605        99.0           112.0        141.0       No     Yes  \n",
            "4    98.480008        95.0             NaN        231.0       No      No  \n"
          ]
        }
      ]
    },
    {
      "cell_type": "code",
      "source": [
        "#Exercise 3.2\n",
        "#Dataset name 'titanic.csv'\n",
        "#Problem 1\n",
        "import pandas as pd\n",
        "\n",
        "# Load the Titanic dataset\n",
        "df = pd.read_csv('/content/drive/MyDrive/data/Titanic-Dataset.csv')\n",
        "\n",
        "# Subset the DataFrame to include only relevant columns\n",
        "df_subset = df[['Name', 'Pclass', 'Sex', 'Age', 'Fare', 'Survived']]\n",
        "\n",
        "# Retain only rows where Pclass is equal to 1 (first-class passengers)\n",
        "df_first_class = df_subset[df_subset['Pclass'] == 1]\n",
        "\n",
        "# Calculate the mean, median, maximum, and minimum of the 'Fare' column\n",
        "mean_fare = df_first_class['Fare'].mean()\n",
        "median_fare = df_first_class['Fare'].median()\n",
        "max_fare = df_first_class['Fare'].max()\n",
        "min_fare = df_first_class['Fare'].min()\n",
        "\n",
        "# Print the results\n",
        "print(f\"Mean Fare: {mean_fare}\")\n",
        "print(f\"Median Fare: {median_fare}\")\n",
        "print(f\"Maximum Fare: {max_fare}\")\n",
        "print(f\"Minimum Fare: {min_fare}\")"
      ],
      "metadata": {
        "colab": {
          "base_uri": "https://localhost:8080/"
        },
        "id": "hCjZ_HHNtgf9",
        "outputId": "6dc21387-f551-49f3-b424-4d457cd78349"
      },
      "execution_count": null,
      "outputs": [
        {
          "output_type": "stream",
          "name": "stdout",
          "text": [
            "Mean Fare: 84.1546875\n",
            "Median Fare: 60.287499999999994\n",
            "Maximum Fare: 512.3292\n",
            "Minimum Fare: 0.0\n"
          ]
        }
      ]
    },
    {
      "cell_type": "code",
      "source": [
        "#Problem 2\n",
        "import pandas as pd\n",
        "\n",
        "# Load the Titanic dataset\n",
        "df = pd.read_csv('/content/drive/MyDrive/data/Titanic-Dataset.csv')\n",
        "\n",
        "# Subset the DataFrame to include only relevant columns\n",
        "df_subset = df[['Name', 'Pclass', 'Sex', 'Age', 'Fare', 'Survived']]\n",
        "\n",
        "\n",
        "df_first_class = df_subset[df_subset['Pclass'] == 1]\n",
        "\n",
        "# Check the number of null values in the 'Age' column\n",
        "null_age_count = df_first_class['Age'].isnull().sum()\n",
        "\n",
        "# Print the number of null values\n",
        "print(f\"Number of null values in 'Age' column: {null_age_count}\")\n",
        "\n",
        "# Drop rows with missing values in the 'Age' column\n",
        "df_first_class_cleaned = df_first_class.dropna(subset=['Age'])\n",
        "\n",
        "# Verify the changes\n",
        "print(f\"Number of rows after dropping null values: {df_first_class_cleaned.shape[0]}\")"
      ],
      "metadata": {
        "colab": {
          "base_uri": "https://localhost:8080/"
        },
        "id": "PcFH2oYmtkNu",
        "outputId": "7e386d39-99a4-4096-a563-df106915f26a"
      },
      "execution_count": null,
      "outputs": [
        {
          "output_type": "stream",
          "name": "stdout",
          "text": [
            "Number of null values in 'Age' column: 30\n",
            "Number of rows after dropping null values: 186\n"
          ]
        }
      ]
    },
    {
      "cell_type": "code",
      "source": [
        "#Problem 3\n",
        "import pandas as pd\n",
        "\n",
        "# Load the Titanic dataset\n",
        "df = pd.read_csv('/content/drive/MyDrive/data/Titanic-Dataset.csv')\n",
        "\n",
        "# Check the unique values in the 'Embarked' column\n",
        "print(\"Unique values in 'Embarked' column:\")\n",
        "print(df['Embarked'].unique())\n",
        "\n",
        "# Check for missing values in 'Embarked'\n",
        "missing_embarked = df['Embarked'].isnull().sum()\n",
        "print(f\"\\nNumber of missing values in 'Embarked' column: {missing_embarked}\")\n",
        "\n",
        "# Handle missing values - We can either drop or fill with the mode (most frequent value)\n",
        "# Let's fill missing 'Embarked' values with the mode (most frequent port)\n",
        "df['Embarked'] = df['Embarked'].fillna(df['Embarked'].mode()[0])\n",
        "\n",
        "# Check the frequency of each embarkation port after filling missing values\n",
        "embarked_freq = df['Embarked'].value_counts()\n",
        "print(\"\\nFrequency of each embarkation port:\")\n",
        "print(embarked_freq)\n",
        "\n",
        "\n",
        "# Display the first few rows of the DataFrame after handling the 'Embarked' column\n",
        "print(\"\\nFirst few rows after handling 'Embarked' column:\")\n",
        "print(df[['Name', 'Pclass', 'Embarked']].head())"
      ],
      "metadata": {
        "colab": {
          "base_uri": "https://localhost:8080/"
        },
        "id": "hUpoKAfVtoWJ",
        "outputId": "3aeb71c1-8d76-49a9-cc95-c5f013e27832"
      },
      "execution_count": null,
      "outputs": [
        {
          "output_type": "stream",
          "name": "stdout",
          "text": [
            "Unique values in 'Embarked' column:\n",
            "['S' 'C' 'Q' nan]\n",
            "\n",
            "Number of missing values in 'Embarked' column: 2\n",
            "\n",
            "Frequency of each embarkation port:\n",
            "Embarked\n",
            "S    646\n",
            "C    168\n",
            "Q     77\n",
            "Name: count, dtype: int64\n",
            "\n",
            "First few rows after handling 'Embarked' column:\n",
            "                                                Name  Pclass Embarked\n",
            "0                            Braund, Mr. Owen Harris       3        S\n",
            "1  Cumings, Mrs. John Bradley (Florence Briggs Th...       1        C\n",
            "2                             Heikkinen, Miss. Laina       3        S\n",
            "3       Futrelle, Mrs. Jacques Heath (Lily May Peel)       1        S\n",
            "4                           Allen, Mr. William Henry       3        S\n"
          ]
        }
      ]
    },
    {
      "cell_type": "code",
      "source": [
        "#1.\n",
        "\n",
        "import pandas as pd\n",
        "\n",
        "# Load the Titanic dataset\n",
        "df = pd.read_csv('/content/drive/MyDrive/data/Titanic-Dataset.csv')\n",
        "\n",
        "# Use one-hot encoding to convert 'Embarked' into separate binary columns\n",
        "df_encoded = pd.get_dummies(df['Embarked'], prefix='Embarked')\n",
        "\n",
        "# Print the first few rows of the new one-hot encoded columns\n",
        "print(df_encoded.head())"
      ],
      "metadata": {
        "colab": {
          "base_uri": "https://localhost:8080/"
        },
        "id": "afeMe5QstrI7",
        "outputId": "662a1809-34d3-47bc-d275-a72b65fb01df"
      },
      "execution_count": null,
      "outputs": [
        {
          "output_type": "stream",
          "name": "stdout",
          "text": [
            "   Embarked_C  Embarked_Q  Embarked_S\n",
            "0       False       False        True\n",
            "1        True       False       False\n",
            "2       False       False        True\n",
            "3       False       False        True\n",
            "4       False       False        True\n"
          ]
        }
      ]
    },
    {
      "cell_type": "code",
      "source": [
        "#2.\n",
        "\n",
        "import pandas as pd\n",
        "\n",
        "# Load the Titanic dataset\n",
        "df = pd.read_csv('/content/drive/MyDrive/data/Titanic-Dataset.csv')\n",
        "\n",
        "# Check the unique values in the 'Embarked' column to see if it matches 'C', 'Q', 'S'\n",
        "print(df['Embarked'].unique())\n",
        "\n",
        "# Use one-hot encoding to convert 'Embarked' into separate binary columns\n",
        "df_encoded = pd.get_dummies(df['Embarked'], prefix='Embarked')\n",
        "\n",
        "# Print the column names of the encoded DataFrame to ensure the columns were created\n",
        "print(df_encoded.columns)\n",
        "\n",
        "# Add the new one-hot encoded columns to the original DataFrame\n",
        "df = pd.concat([df, df_encoded], axis=1)\n",
        "\n",
        "# Print the first few rows of the modified DataFrame to verify the changes\n",
        "print(df[['Name', 'Pclass'] + list(df_encoded.columns)].head())"
      ],
      "metadata": {
        "colab": {
          "base_uri": "https://localhost:8080/"
        },
        "id": "dD9owPBittt6",
        "outputId": "abb98b3f-baf3-4a3b-ed48-2b16a97d9656"
      },
      "execution_count": null,
      "outputs": [
        {
          "output_type": "stream",
          "name": "stdout",
          "text": [
            "['S' 'C' 'Q' nan]\n",
            "Index(['Embarked_C', 'Embarked_Q', 'Embarked_S'], dtype='object')\n",
            "                                                Name  Pclass  Embarked_C  \\\n",
            "0                            Braund, Mr. Owen Harris       3       False   \n",
            "1  Cumings, Mrs. John Bradley (Florence Briggs Th...       1        True   \n",
            "2                             Heikkinen, Miss. Laina       3       False   \n",
            "3       Futrelle, Mrs. Jacques Heath (Lily May Peel)       1       False   \n",
            "4                           Allen, Mr. William Henry       3       False   \n",
            "\n",
            "   Embarked_Q  Embarked_S  \n",
            "0       False        True  \n",
            "1       False       False  \n",
            "2       False        True  \n",
            "3       False        True  \n",
            "4       False        True  \n"
          ]
        }
      ]
    },
    {
      "cell_type": "code",
      "source": [
        "#3.\n",
        "import pandas as pd\n",
        "\n",
        "# Load the Titanic dataset\n",
        "df = pd.read_csv('/content/drive/MyDrive/data/Titanic-Dataset.csv')\n",
        "\n",
        "# Check the unique values in the 'Embarked' column to see if it matches 'C', 'Q', 'S'\n",
        "print(df['Embarked'].unique())\n",
        "\n",
        "# Use one-hot encoding to convert 'Embarked' into separate binary columns\n",
        "df_encoded = pd.get_dummies(df['Embarked'], prefix='Embarked')\n",
        "\n",
        "# Add the new one-hot encoded columns to the original DataFrame\n",
        "df = pd.concat([df, df_encoded], axis=1)\n",
        "\n",
        "# Drop the original 'Embarked' column\n",
        "df = df.drop(columns=['Embarked'])\n",
        "\n",
        "# Print the first few rows of the modified DataFrame to verify the changes\n",
        "print(df[['Name', 'Pclass'] + list(df_encoded.columns)].head())"
      ],
      "metadata": {
        "colab": {
          "base_uri": "https://localhost:8080/"
        },
        "id": "Pu754m-2tvzo",
        "outputId": "6d4e47b2-4f68-48e4-a69d-727f14531953"
      },
      "execution_count": null,
      "outputs": [
        {
          "output_type": "stream",
          "name": "stdout",
          "text": [
            "['S' 'C' 'Q' nan]\n",
            "                                                Name  Pclass  Embarked_C  \\\n",
            "0                            Braund, Mr. Owen Harris       3       False   \n",
            "1  Cumings, Mrs. John Bradley (Florence Briggs Th...       1        True   \n",
            "2                             Heikkinen, Miss. Laina       3       False   \n",
            "3       Futrelle, Mrs. Jacques Heath (Lily May Peel)       1       False   \n",
            "4                           Allen, Mr. William Henry       3       False   \n",
            "\n",
            "   Embarked_Q  Embarked_S  \n",
            "0       False        True  \n",
            "1       False       False  \n",
            "2       False        True  \n",
            "3       False        True  \n",
            "4       False        True  \n"
          ]
        }
      ]
    },
    {
      "cell_type": "code",
      "source": [
        "import pandas as pd\n",
        "\n",
        "# Load the Titanic dataset\n",
        "df = pd.read_csv('/content/drive/MyDrive/data/Titanic-Dataset.csv')\n",
        "\n",
        "# Check the unique values in the 'Embarked' column to see if it matches 'C', 'Q', 'S'\n",
        "print(\"Unique values in 'Embarked' column:\", df['Embarked'].unique())\n",
        "\n",
        "# Use one-hot encoding to convert 'Embarked' into separate binary columns\n",
        "df_encoded = pd.get_dummies(df['Embarked'], prefix='Embarked')\n",
        "\n",
        "# Print the columns of the one-hot encoded DataFrame to check what was created\n",
        "print(\"Columns created by one-hot encoding:\", df_encoded.columns)\n",
        "\n",
        "# Add the new one-hot encoded columns to the original DataFrame\n",
        "df = pd.concat([df, df_encoded], axis=1)\n",
        "\n",
        "# Drop the original 'Embarked' column\n",
        "df = df.drop(columns=['Embarked'])\n",
        "\n",
        "# Print the first few rows of the modified DataFrame to verify the changes\n",
        "print(df[['Name', 'Pclass'] + list(df_encoded.columns)].head())"
      ],
      "metadata": {
        "colab": {
          "base_uri": "https://localhost:8080/"
        },
        "id": "vCiPb_g0t0ry",
        "outputId": "0c9d6a25-fe35-444a-aca8-943e3e0e2dea"
      },
      "execution_count": null,
      "outputs": [
        {
          "output_type": "stream",
          "name": "stdout",
          "text": [
            "Unique values in 'Embarked' column: ['S' 'C' 'Q' nan]\n",
            "Columns created by one-hot encoding: Index(['Embarked_C', 'Embarked_Q', 'Embarked_S'], dtype='object')\n",
            "                                                Name  Pclass  Embarked_C  \\\n",
            "0                            Braund, Mr. Owen Harris       3       False   \n",
            "1  Cumings, Mrs. John Bradley (Florence Briggs Th...       1        True   \n",
            "2                             Heikkinen, Miss. Laina       3       False   \n",
            "3       Futrelle, Mrs. Jacques Heath (Lily May Peel)       1       False   \n",
            "4                           Allen, Mr. William Henry       3       False   \n",
            "\n",
            "   Embarked_Q  Embarked_S  \n",
            "0       False        True  \n",
            "1       False       False  \n",
            "2       False        True  \n",
            "3       False        True  \n",
            "4       False        True  \n"
          ]
        }
      ]
    },
    {
      "cell_type": "code",
      "source": [
        "#Problem 4\n",
        "import pandas as pd\n",
        "import matplotlib.pyplot as plt\n",
        "import seaborn as sns\n",
        "\n",
        "# Load the Titanic dataset\n",
        "df = pd.read_csv('/content/drive/MyDrive/data/Titanic-Dataset.csv')\n",
        "\n",
        "# Group by 'Sex' and calculate the mean of 'Survived' for each group\n",
        "mean_survival_by_gender = df.groupby('Sex')['Survived'].mean()\n",
        "\n",
        "# Print the mean survival rates by gender\n",
        "print(mean_survival_by_gender)\n",
        "\n",
        "# Create a bar plot to visualize the survival rates by gender\n",
        "plt.figure(figsize=(8, 6))\n",
        "sns.barplot(x=mean_survival_by_gender.index, y=mean_survival_by_gender.values, palette='viridis')\n",
        "\n",
        "# Set the title and labels\n",
        "plt.title('Mean Survival Rates by Gender')\n",
        "plt.xlabel('Gender')\n",
        "plt.ylabel('Mean Survival Rate')\n",
        "plt.show()"
      ],
      "metadata": {
        "colab": {
          "base_uri": "https://localhost:8080/",
          "height": 740
        },
        "id": "mhBTD9lFt1v9",
        "outputId": "89b19e85-cee4-4c04-aed7-612ffa3f2983"
      },
      "execution_count": null,
      "outputs": [
        {
          "output_type": "stream",
          "name": "stdout",
          "text": [
            "Sex\n",
            "female    0.742038\n",
            "male      0.188908\n",
            "Name: Survived, dtype: float64\n"
          ]
        },
        {
          "output_type": "stream",
          "name": "stderr",
          "text": [
            "<ipython-input-23-7078241a53e8>:17: FutureWarning: \n",
            "\n",
            "Passing `palette` without assigning `hue` is deprecated and will be removed in v0.14.0. Assign the `x` variable to `hue` and set `legend=False` for the same effect.\n",
            "\n",
            "  sns.barplot(x=mean_survival_by_gender.index, y=mean_survival_by_gender.values, palette='viridis')\n"
          ]
        },
        {
          "output_type": "display_data",
          "data": {
            "text/plain": [
              "<Figure size 800x600 with 1 Axes>"
            ],
            "image/png": "[encoded data removed]"
          },
          "metadata": {}
        }
      ]
    },
    {
      "cell_type": "code",
      "source": [
        "#Problem 5\n",
        "import pandas as pd\n",
        "import matplotlib.pyplot as plt\n",
        "import seaborn as sns\n",
        "\n",
        "# Load the Titanic dataset\n",
        "df = pd.read_csv('/content/drive/MyDrive/data/Titanic-Dataset.csv')\n",
        "\n",
        "# Group by 'Sex' and 'Embarked' and calculate the mean of 'Survived' for each group\n",
        "mean_survival_by_gender_port = df.groupby(['Sex', 'Embarked'])['Survived'].mean().reset_index()\n",
        "\n",
        "# Create a bar plot to visualize the survival rates by gender and port of embarkation\n",
        "plt.figure(figsize=(10, 6))\n",
        "sns.barplot(x='Embarked', y='Survived', hue='Sex', data=mean_survival_by_gender_port, palette='viridis')\n",
        "\n",
        "# Set the title and labels\n",
        "plt.title('Mean Survival Rates by Gender and Port of Embarkation')\n",
        "plt.xlabel('Port of Embarkation')\n",
        "plt.ylabel('Mean Survival Rate')\n",
        "\n",
        "# Show the plot\n",
        "plt.show()"
      ],
      "metadata": {
        "colab": {
          "base_uri": "https://localhost:8080/",
          "height": 564
        },
        "id": "vyrr8sBXt5mj",
        "outputId": "3641a3bc-6056-440d-e140-d2893f852905"
      },
      "execution_count": null,
      "outputs": [
        {
          "output_type": "display_data",
          "data": {
            "text/plain": [
              "<Figure size 1000x600 with 1 Axes>"
            ],
            "image/png": "[encoded data removed]"
          },
          "metadata": {}
        }
      ]
    },
    {
      "cell_type": "code",
      "source": [
        "import pandas as pd"
      ],
      "metadata": {
        "id": "sUeVQtowjKQ3"
      },
      "execution_count": 1,
      "outputs": []
    },
    {
      "cell_type": "code",
      "source": [
        "data={\n",
        "    'Name':['Alice','Bob','Charlie','David'],\n",
        "    'Age':[24,19,22,25],\n",
        "    'Score':[88,92,85,95]\n",
        "}\n",
        "df=pd.DataFrame(data)\n",
        "print(df)"
      ],
      "metadata": {
        "colab": {
          "base_uri": "https://localhost:8080/"
        },
        "id": "5nu1qCAnqn0p",
        "outputId": "6c4fdc42-1f78-42d8-8575-2b647d98e8f5"
      },
      "execution_count": 2,
      "outputs": [
        {
          "output_type": "stream",
          "name": "stdout",
          "text": [
            "      Name  Age  Score\n",
            "0    Alice   24     88\n",
            "1      Bob   19     92\n",
            "2  Charlie   22     85\n",
            "3    David   25     95\n"
          ]
        }
      ]
    },
    {
      "cell_type": "code",
      "source": [
        "df_soted_by_age=df.sort_values(by='Age')\n",
        "print(df_soted_by_age.head())"
      ],
      "metadata": {
        "colab": {
          "base_uri": "https://localhost:8080/"
        },
        "id": "Chv3GerXy0C9",
        "outputId": "318ed593-5851-4957-ae54-2cb2c12ea216"
      },
      "execution_count": 3,
      "outputs": [
        {
          "output_type": "stream",
          "name": "stdout",
          "text": [
            "      Name  Age  Score\n",
            "1      Bob   19     92\n",
            "2  Charlie   22     85\n",
            "0    Alice   24     88\n",
            "3    David   25     95\n"
          ]
        }
      ]
    },
    {
      "cell_type": "code",
      "source": [
        "sorted_by_index=df.sort_index()\n",
        "print(sorted_by_index.head())"
      ],
      "metadata": {
        "colab": {
          "base_uri": "https://localhost:8080/"
        },
        "id": "1kPC8jrGy4oQ",
        "outputId": "a2d67dec-7ceb-4a18-efd8-d680c99f3591"
      },
      "execution_count": 4,
      "outputs": [
        {
          "output_type": "stream",
          "name": "stdout",
          "text": [
            "      Name  Age  Score\n",
            "0    Alice   24     88\n",
            "1      Bob   19     92\n",
            "2  Charlie   22     85\n",
            "3    David   25     95\n"
          ]
        }
      ]
    },
    {
      "cell_type": "code",
      "source": [
        "subset_iloc=df.iloc[1:3,0:2] # slicing row and column\n",
        "print(\"subset iloc:\")\n",
        "print(subset_iloc)"
      ],
      "metadata": {
        "colab": {
          "base_uri": "https://localhost:8080/"
        },
        "id": "dE3sSogLy9Tk",
        "outputId": "57242088-5ef4-45da-d7a2-2388ba61f1bb"
      },
      "execution_count": 5,
      "outputs": [
        {
          "output_type": "stream",
          "name": "stdout",
          "text": [
            "subset iloc:\n",
            "      Name  Age\n",
            "1      Bob   19\n",
            "2  Charlie   22\n"
          ]
        }
      ]
    },
    {
      "cell_type": "code",
      "source": [
        "first_two_rows=df.iloc[1:2]\n",
        "print(\"\\nfirst two rows\\n\",first_two_rows)"
      ],
      "metadata": {
        "colab": {
          "base_uri": "https://localhost:8080/"
        },
        "id": "0KEBNQHEzCh1",
        "outputId": "333edca4-290e-4dab-ed44-6d52080b0a32"
      },
      "execution_count": 6,
      "outputs": [
        {
          "output_type": "stream",
          "name": "stdout",
          "text": [
            "\n",
            "first two rows\n",
            "   Name  Age  Score\n",
            "1  Bob   19     92\n"
          ]
        }
      ]
    },
    {
      "cell_type": "code",
      "source": [
        "subset_loc=df.loc[df['Age']>20,['Name','Score']]\n",
        "print(\"\\nSubset using loc:\")\n",
        "print(subset_loc)"
      ],
      "metadata": {
        "colab": {
          "base_uri": "https://localhost:8080/"
        },
        "id": "dJ4BHWXIzFEn",
        "outputId": "a6f628c9-16b5-4862-f57b-ca3f127b4684"
      },
      "execution_count": 7,
      "outputs": [
        {
          "output_type": "stream",
          "name": "stdout",
          "text": [
            "\n",
            "Subset using loc:\n",
            "      Name  Score\n",
            "0    Alice     88\n",
            "2  Charlie     85\n",
            "3    David     95\n"
          ]
        }
      ]
    },
    {
      "cell_type": "code",
      "source": [
        "name_column=df[['Name','Age']]\n",
        "print(name_column)"
      ],
      "metadata": {
        "colab": {
          "base_uri": "https://localhost:8080/"
        },
        "id": "76fJ2GzgzIpk",
        "outputId": "f269fcef-e783-477d-fa1b-c7f08ddff99a"
      },
      "execution_count": 8,
      "outputs": [
        {
          "output_type": "stream",
          "name": "stdout",
          "text": [
            "      Name  Age\n",
            "0    Alice   24\n",
            "1      Bob   19\n",
            "2  Charlie   22\n",
            "3    David   25\n"
          ]
        }
      ]
    },
    {
      "cell_type": "code",
      "source": [
        "data={\n",
        "    'Name':['Alice','Bob','Charlie','David'],\n",
        "    'Department':['HR','IT','Finance','HR'],\n",
        "    'Salary':[50000,60000,55000,62000]\n",
        "\n",
        "}\n",
        "df=pd.DataFrame(data)\n",
        "print(df)"
      ],
      "metadata": {
        "colab": {
          "base_uri": "https://localhost:8080/"
        },
        "id": "qrrW6hmxzUm4",
        "outputId": "1b54d0fa-f307-4cff-b553-d5db4ff571a7"
      },
      "execution_count": 9,
      "outputs": [
        {
          "output_type": "stream",
          "name": "stdout",
          "text": [
            "      Name Department  Salary\n",
            "0    Alice         HR   50000\n",
            "1      Bob         IT   60000\n",
            "2  Charlie    Finance   55000\n",
            "3    David         HR   62000\n"
          ]
        }
      ]
    },
    {
      "cell_type": "code",
      "source": [
        "filtered_single=df[df['Department']=='HR']\n",
        "print(\"\\n filtered single column:\",filtered_single)"
      ],
      "metadata": {
        "colab": {
          "base_uri": "https://localhost:8080/"
        },
        "id": "MHiLZbBPzWb0",
        "outputId": "972edd18-cefa-4898-e05f-066f728e052b"
      },
      "execution_count": 10,
      "outputs": [
        {
          "output_type": "stream",
          "name": "stdout",
          "text": [
            "\n",
            " filtered single column:     Name Department  Salary\n",
            "0  Alice         HR   50000\n",
            "3  David         HR   62000\n"
          ]
        }
      ]
    },
    {
      "cell_type": "code",
      "source": [
        "filtered_multiple=df.loc[df['Department'].isin(['HR','IT'])]\n",
        "print(\"\\n filtered multiple column:\",filtered_multiple)"
      ],
      "metadata": {
        "colab": {
          "base_uri": "https://localhost:8080/"
        },
        "id": "yatgsV9CzaYS",
        "outputId": "14e847a2-e725-4285-8b21-d0c05b5c1c85"
      },
      "execution_count": 11,
      "outputs": [
        {
          "output_type": "stream",
          "name": "stdout",
          "text": [
            "\n",
            " filtered multiple column:     Name Department  Salary\n",
            "0  Alice         HR   50000\n",
            "1    Bob         IT   60000\n",
            "3  David         HR   62000\n"
          ]
        }
      ]
    },
    {
      "cell_type": "code",
      "source": [
        "data={\n",
        "    'Category':['A','B','A','B','A'],\n",
        "    'Value':[10,20,30,40,50]\n",
        "}\n",
        "df=pd.DataFrame(data)\n",
        "grouped=df.groupby('Category')['Value'].mean()\n",
        "print(grouped)"
      ],
      "metadata": {
        "colab": {
          "base_uri": "https://localhost:8080/"
        },
        "id": "WG2q7oh3zeQA",
        "outputId": "6e1be841-d6d2-41e9-e63c-1e8e3c36fc1c"
      },
      "execution_count": 12,
      "outputs": [
        {
          "output_type": "stream",
          "name": "stdout",
          "text": [
            "Category\n",
            "A    30.0\n",
            "B    30.0\n",
            "Name: Value, dtype: float64\n"
          ]
        }
      ]
    },
    {
      "cell_type": "code",
      "source": [
        "df['Normalized']=df.groupby('Category')['Value'].transform(lambda x:x/x.sum())\n",
        "print(df)\n",
        "# 10/ sabai ko sum ,20/sabai ko sum llikewise"
      ],
      "metadata": {
        "colab": {
          "base_uri": "https://localhost:8080/"
        },
        "id": "ETQq6gmFzht3",
        "outputId": "0cf5c050-e910-4c48-b37f-aff7b34baa4a"
      },
      "execution_count": 13,
      "outputs": [
        {
          "output_type": "stream",
          "name": "stdout",
          "text": [
            "  Category  Value  Normalized\n",
            "0        A     10    0.111111\n",
            "1        B     20    0.333333\n",
            "2        A     30    0.333333\n",
            "3        B     40    0.666667\n",
            "4        A     50    0.555556\n"
          ]
        }
      ]
    },
    {
      "cell_type": "code",
      "source": [
        "filtered=df.groupby('Category').filter(lambda x:x['Value'].sum()>60)\n",
        "print(filtered)"
      ],
      "metadata": {
        "colab": {
          "base_uri": "https://localhost:8080/"
        },
        "id": "mhQnOSg3zmcm",
        "outputId": "13b9eb6b-86c3-479d-e2cc-06346a110da7"
      },
      "execution_count": 14,
      "outputs": [
        {
          "output_type": "stream",
          "name": "stdout",
          "text": [
            "  Category  Value  Normalized\n",
            "0        A     10    0.111111\n",
            "2        A     30    0.333333\n",
            "4        A     50    0.555556\n"
          ]
        }
      ]
    },
    {
      "cell_type": "code",
      "source": [
        "import pandas as pd\n",
        "import seaborn as sns\n",
        "import matplotlib.pyplot as plt"
      ],
      "metadata": {
        "id": "6Bi0WDQfzpHi"
      },
      "execution_count": 15,
      "outputs": []
    },
    {
      "cell_type": "code",
      "source": [
        "data={'Month':['Jan','Feb','mar','April'],\n",
        "      'Sales':[200,220,250,280]\n",
        "\n",
        "      }\n",
        "df=pd.DataFrame(data)\n",
        "df.plot(x='Month',y='Sales',kind='line',marker='o',title='Monthly sales')\n",
        "plt.show()"
      ],
      "metadata": {
        "colab": {
          "base_uri": "https://localhost:8080/",
          "height": 472
        },
        "id": "x4YX9mFyzsiE",
        "outputId": "fa1ea7dc-c071-4b64-e39d-456db541cf24"
      },
      "execution_count": 16,
      "outputs": [
        {
          "output_type": "display_data",
          "data": {
            "text/plain": [
              "<Figure size 640x480 with 1 Axes>"
            ],
            "image/png": "[encoded data removed]"
          },
          "metadata": {}
        }
      ]
    },
    {
      "cell_type": "code",
      "source": [
        "data={'Category':['A','B','C'],\n",
        "      'Value':[10,20,13]\n",
        "\n",
        "      }\n",
        "df=pd.DataFrame(data)\n",
        "df.plot(x='Category',y='Value',kind='bar',title='category comparison',color='green')\n",
        "plt.show()"
      ],
      "metadata": {
        "colab": {
          "base_uri": "https://localhost:8080/",
          "height": 467
        },
        "id": "J2immNDrzxwQ",
        "outputId": "67ed706c-867c-41e1-c08d-67b6f2075bc1"
      },
      "execution_count": 17,
      "outputs": [
        {
          "output_type": "display_data",
          "data": {
            "text/plain": [
              "<Figure size 640x480 with 1 Axes>"
            ],
            "image/png": "[encoded data removed]"
          },
          "metadata": {}
        }
      ]
    },
    {
      "cell_type": "code",
      "source": [
        "data={\n",
        "    'Score':[50,60,70,75,80,85,90,95,100]\n",
        "\n",
        "}\n",
        "df=pd.DataFrame(data)\n",
        "df['Score'].plot(kind='hist',bins=3,title='histogram',color='blue')\n",
        "plt.show()"
      ],
      "metadata": {
        "colab": {
          "base_uri": "https://localhost:8080/",
          "height": 452
        },
        "id": "WTAxNvECz7HF",
        "outputId": "532c3bfa-424e-4446-d414-bd2d1aa3f0e8"
      },
      "execution_count": 18,
      "outputs": [
        {
          "output_type": "display_data",
          "data": {
            "text/plain": [
              "<Figure size 640x480 with 1 Axes>"
            ],
            "image/png": "[encoded data removed]"
          },
          "metadata": {}
        }
      ]
    },
    {
      "cell_type": "markdown",
      "source": [
        "1. Load the provided dataset and import in pandas DataFrame."
      ],
      "metadata": {
        "id": "R9FUcDRn0X33"
      }
    },
    {
      "cell_type": "code",
      "source": [
        "import pandas as pd\n",
        "df=pd.read_csv('/content/drive/MyDrive/data/Titanic-Dataset.csv')\n",
        "df.info()"
      ],
      "metadata": {
        "colab": {
          "base_uri": "https://localhost:8080/"
        },
        "id": "whlr03AFz8X0",
        "outputId": "7ab270f7-e454-4d16-d6f4-c023250b0daa"
      },
      "execution_count": 19,
      "outputs": [
        {
          "output_type": "stream",
          "name": "stdout",
          "text": [
            "<class 'pandas.core.frame.DataFrame'>\n",
            "RangeIndex: 891 entries, 0 to 890\n",
            "Data columns (total 12 columns):\n",
            " #   Column       Non-Null Count  Dtype  \n",
            "---  ------       --------------  -----  \n",
            " 0   PassengerId  891 non-null    int64  \n",
            " 1   Survived     891 non-null    int64  \n",
            " 2   Pclass       891 non-null    int64  \n",
            " 3   Name         891 non-null    object \n",
            " 4   Sex          891 non-null    object \n",
            " 5   Age          714 non-null    float64\n",
            " 6   SibSp        891 non-null    int64  \n",
            " 7   Parch        891 non-null    int64  \n",
            " 8   Ticket       891 non-null    object \n",
            " 9   Fare         891 non-null    float64\n",
            " 10  Cabin        204 non-null    object \n",
            " 11  Embarked     889 non-null    object \n",
            "dtypes: float64(2), int64(5), object(5)\n",
            "memory usage: 83.7+ KB\n"
          ]
        }
      ]
    },
    {
      "cell_type": "code",
      "source": [
        "fare=df['Fare']\n",
        "print(fare.head())"
      ],
      "metadata": {
        "colab": {
          "base_uri": "https://localhost:8080/"
        },
        "id": "6-C8mqwM0Ooq",
        "outputId": "50909d75-69e2-4473-9515-b3939443df8c"
      },
      "execution_count": 20,
      "outputs": [
        {
          "output_type": "stream",
          "name": "stdout",
          "text": [
            "0     7.2500\n",
            "1    71.2833\n",
            "2     7.9250\n",
            "3    53.1000\n",
            "4     8.0500\n",
            "Name: Fare, dtype: float64\n"
          ]
        }
      ]
    },
    {
      "cell_type": "markdown",
      "source": [
        "2. Create a DataFrame called class age that contains only the Pclass and Age columns of the Titanic dataset, in that order. Print the head of the result."
      ],
      "metadata": {
        "id": "_ILfFa060gdm"
      }
    },
    {
      "cell_type": "code",
      "source": [
        "survived_gender=df[['Survived','Sex']]\n",
        "print(survived_gender.head())"
      ],
      "metadata": {
        "colab": {
          "base_uri": "https://localhost:8080/"
        },
        "id": "6F7IZNzH0ooS",
        "outputId": "a741515c-ea7e-4cef-8c8d-96ee426dca7d"
      },
      "execution_count": 21,
      "outputs": [
        {
          "output_type": "stream",
          "name": "stdout",
          "text": [
            "   Survived     Sex\n",
            "0         0    male\n",
            "1         1  female\n",
            "2         1  female\n",
            "3         1  female\n",
            "4         0    male\n"
          ]
        }
      ]
    },
    {
      "cell_type": "markdown",
      "source": [
        "2.1. Filter the Titanic dataset for cases where the passenger’s fare is greater than 100, assigning it to fare gt 100.View the printed result."
      ],
      "metadata": {
        "id": "W0omO46g1Mgd"
      }
    },
    {
      "cell_type": "code",
      "source": [
        "passanger_Fare_gt=df[df['Fare']>100]\n",
        "print(passanger_Fare_gt)\n"
      ],
      "metadata": {
        "colab": {
          "base_uri": "https://localhost:8080/"
        },
        "id": "Suphx-xH1Lrm",
        "outputId": "20277663-f437-42fd-cc7d-71d4251c1090"
      },
      "execution_count": 22,
      "outputs": [
        {
          "output_type": "stream",
          "name": "stdout",
          "text": [
            "     PassengerId  Survived  Pclass  \\\n",
            "27            28         0       1   \n",
            "31            32         1       1   \n",
            "88            89         1       1   \n",
            "118          119         0       1   \n",
            "195          196         1       1   \n",
            "215          216         1       1   \n",
            "258          259         1       1   \n",
            "268          269         1       1   \n",
            "269          270         1       1   \n",
            "297          298         0       1   \n",
            "299          300         1       1   \n",
            "305          306         1       1   \n",
            "306          307         1       1   \n",
            "307          308         1       1   \n",
            "311          312         1       1   \n",
            "318          319         1       1   \n",
            "319          320         1       1   \n",
            "325          326         1       1   \n",
            "332          333         0       1   \n",
            "334          335         1       1   \n",
            "337          338         1       1   \n",
            "341          342         1       1   \n",
            "373          374         0       1   \n",
            "377          378         0       1   \n",
            "380          381         1       1   \n",
            "390          391         1       1   \n",
            "393          394         1       1   \n",
            "435          436         1       1   \n",
            "438          439         0       1   \n",
            "498          499         0       1   \n",
            "505          506         0       1   \n",
            "527          528         0       1   \n",
            "537          538         1       1   \n",
            "544          545         0       1   \n",
            "550          551         1       1   \n",
            "557          558         0       1   \n",
            "581          582         1       1   \n",
            "609          610         1       1   \n",
            "659          660         0       1   \n",
            "660          661         1       1   \n",
            "679          680         1       1   \n",
            "689          690         1       1   \n",
            "698          699         0       1   \n",
            "700          701         1       1   \n",
            "708          709         1       1   \n",
            "716          717         1       1   \n",
            "730          731         1       1   \n",
            "737          738         1       1   \n",
            "742          743         1       1   \n",
            "763          764         1       1   \n",
            "779          780         1       1   \n",
            "802          803         1       1   \n",
            "856          857         1       1   \n",
            "\n",
            "                                                  Name     Sex    Age  SibSp  \\\n",
            "27                      Fortune, Mr. Charles Alexander    male  19.00      3   \n",
            "31      Spencer, Mrs. William Augustus (Marie Eugenie)  female    NaN      1   \n",
            "88                          Fortune, Miss. Mabel Helen  female  23.00      3   \n",
            "118                           Baxter, Mr. Quigg Edmond    male  24.00      0   \n",
            "195                               Lurette, Miss. Elise  female  58.00      0   \n",
            "215                            Newell, Miss. Madeleine  female  31.00      1   \n",
            "258                                   Ward, Miss. Anna  female  35.00      0   \n",
            "268      Graham, Mrs. William Thompson (Edith Junkins)  female  58.00      0   \n",
            "269                             Bissette, Miss. Amelia  female  35.00      0   \n",
            "297                       Allison, Miss. Helen Loraine  female   2.00      1   \n",
            "299    Baxter, Mrs. James (Helene DeLaudeniere Chaput)  female  50.00      0   \n",
            "305                     Allison, Master. Hudson Trevor    male   0.92      1   \n",
            "306                            Fleming, Miss. Margaret  female    NaN      0   \n",
            "307  Penasco y Castellana, Mrs. Victor de Satode (M...  female  17.00      1   \n",
            "311                         Ryerson, Miss. Emily Borie  female  18.00      2   \n",
            "318                           Wick, Miss. Mary Natalie  female  31.00      0   \n",
            "319  Spedden, Mrs. Frederic Oakley (Margaretta Corn...  female  40.00      1   \n",
            "325                           Young, Miss. Marie Grice  female  36.00      0   \n",
            "332                          Graham, Mr. George Edward    male  38.00      0   \n",
            "334  Frauenthal, Mrs. Henry William (Clara Heinshei...  female    NaN      1   \n",
            "337                    Burns, Miss. Elizabeth Margaret  female  41.00      0   \n",
            "341                     Fortune, Miss. Alice Elizabeth  female  24.00      3   \n",
            "373                                Ringhini, Mr. Sante    male  22.00      0   \n",
            "377                          Widener, Mr. Harry Elkins    male  27.00      0   \n",
            "380                              Bidois, Miss. Rosalie  female  42.00      0   \n",
            "390                         Carter, Mr. William Ernest    male  36.00      1   \n",
            "393                             Newell, Miss. Marjorie  female  23.00      1   \n",
            "435                          Carter, Miss. Lucile Polk  female  14.00      1   \n",
            "438                                  Fortune, Mr. Mark    male  64.00      1   \n",
            "498    Allison, Mrs. Hudson J C (Bessie Waldo Daniels)  female  25.00      1   \n",
            "505         Penasco y Castellana, Mr. Victor de Satode    male  18.00      1   \n",
            "527                                 Farthing, Mr. John    male    NaN      0   \n",
            "537                                LeRoy, Miss. Bertha  female  30.00      0   \n",
            "544                         Douglas, Mr. Walter Donald    male  50.00      1   \n",
            "550                        Thayer, Mr. John Borland Jr    male  17.00      0   \n",
            "557                                Robbins, Mr. Victor    male    NaN      0   \n",
            "581  Thayer, Mrs. John Borland (Marian Longstreth M...  female  39.00      1   \n",
            "609                          Shutes, Miss. Elizabeth W  female  40.00      0   \n",
            "659                         Newell, Mr. Arthur Webster    male  58.00      0   \n",
            "660                      Frauenthal, Dr. Henry William    male  50.00      2   \n",
            "679                 Cardeza, Mr. Thomas Drake Martinez    male  36.00      0   \n",
            "689                  Madill, Miss. Georgette Alexandra  female  15.00      0   \n",
            "698                           Thayer, Mr. John Borland    male  49.00      1   \n",
            "700  Astor, Mrs. John Jacob (Madeleine Talmadge Force)  female  18.00      1   \n",
            "708                               Cleaver, Miss. Alice  female  22.00      0   \n",
            "716                      Endres, Miss. Caroline Louise  female  38.00      0   \n",
            "730                      Allen, Miss. Elisabeth Walton  female  29.00      0   \n",
            "737                             Lesurer, Mr. Gustave J    male  35.00      0   \n",
            "742              Ryerson, Miss. Susan Parker \"Suzette\"  female  21.00      2   \n",
            "763          Carter, Mrs. William Ernest (Lucile Polk)  female  36.00      1   \n",
            "779  Robert, Mrs. Edward Scott (Elisabeth Walton Mc...  female  43.00      0   \n",
            "802                Carter, Master. William Thornton II    male  11.00      1   \n",
            "856         Wick, Mrs. George Dennick (Mary Hitchcock)  female  45.00      1   \n",
            "\n",
            "     Parch    Ticket      Fare            Cabin Embarked  \n",
            "27       2     19950  263.0000      C23 C25 C27        S  \n",
            "31       0  PC 17569  146.5208              B78        C  \n",
            "88       2     19950  263.0000      C23 C25 C27        S  \n",
            "118      1  PC 17558  247.5208          B58 B60        C  \n",
            "195      0  PC 17569  146.5208              B80        C  \n",
            "215      0     35273  113.2750              D36        C  \n",
            "258      0  PC 17755  512.3292              NaN        C  \n",
            "268      1  PC 17582  153.4625             C125        S  \n",
            "269      0  PC 17760  135.6333              C99        S  \n",
            "297      2    113781  151.5500          C22 C26        S  \n",
            "299      1  PC 17558  247.5208          B58 B60        C  \n",
            "305      2    113781  151.5500          C22 C26        S  \n",
            "306      0     17421  110.8833              NaN        C  \n",
            "307      0  PC 17758  108.9000              C65        C  \n",
            "311      2  PC 17608  262.3750  B57 B59 B63 B66        C  \n",
            "318      2     36928  164.8667               C7        S  \n",
            "319      1     16966  134.5000              E34        C  \n",
            "325      0  PC 17760  135.6333              C32        C  \n",
            "332      1  PC 17582  153.4625              C91        S  \n",
            "334      0  PC 17611  133.6500              NaN        S  \n",
            "337      0     16966  134.5000              E40        C  \n",
            "341      2     19950  263.0000      C23 C25 C27        S  \n",
            "373      0  PC 17760  135.6333              NaN        C  \n",
            "377      2    113503  211.5000              C82        C  \n",
            "380      0  PC 17757  227.5250              NaN        C  \n",
            "390      2    113760  120.0000          B96 B98        S  \n",
            "393      0     35273  113.2750              D36        C  \n",
            "435      2    113760  120.0000          B96 B98        S  \n",
            "438      4     19950  263.0000      C23 C25 C27        S  \n",
            "498      2    113781  151.5500          C22 C26        S  \n",
            "505      0  PC 17758  108.9000              C65        C  \n",
            "527      0  PC 17483  221.7792              C95        S  \n",
            "537      0  PC 17761  106.4250              NaN        C  \n",
            "544      0  PC 17761  106.4250              C86        C  \n",
            "550      2     17421  110.8833              C70        C  \n",
            "557      0  PC 17757  227.5250              NaN        C  \n",
            "581      1     17421  110.8833              C68        C  \n",
            "609      0  PC 17582  153.4625             C125        S  \n",
            "659      2     35273  113.2750              D48        C  \n",
            "660      0  PC 17611  133.6500              NaN        S  \n",
            "679      1  PC 17755  512.3292      B51 B53 B55        C  \n",
            "689      1     24160  211.3375               B5        S  \n",
            "698      1     17421  110.8833              C68        C  \n",
            "700      0  PC 17757  227.5250          C62 C64        C  \n",
            "708      0    113781  151.5500              NaN        S  \n",
            "716      0  PC 17757  227.5250              C45        C  \n",
            "730      0     24160  211.3375               B5        S  \n",
            "737      0  PC 17755  512.3292             B101        C  \n",
            "742      2  PC 17608  262.3750  B57 B59 B63 B66        C  \n",
            "763      2    113760  120.0000          B96 B98        S  \n",
            "779      1     24160  211.3375               B3        S  \n",
            "802      2    113760  120.0000          B96 B98        S  \n",
            "856      1     36928  164.8667              NaN        S  \n"
          ]
        }
      ]
    },
    {
      "cell_type": "markdown",
      "source": [
        " 2. Filter the Titanic dataset for cases where the passenger’s class (Pclass) is 1, assigning it to\n",
        "first class.View the printed result."
      ],
      "metadata": {
        "id": "x_XBWRYA1Xne"
      }
    },
    {
      "cell_type": "code",
      "source": [
        "filtered_Pclass=df[df['Pclass']==1]\n",
        "print(filtered_Pclass)"
      ],
      "metadata": {
        "colab": {
          "base_uri": "https://localhost:8080/"
        },
        "id": "BAUmHXTe1XSI",
        "outputId": "f7984532-10da-49cf-8188-622dd278f41b"
      },
      "execution_count": 23,
      "outputs": [
        {
          "output_type": "stream",
          "name": "stdout",
          "text": [
            "     PassengerId  Survived  Pclass  \\\n",
            "1              2         1       1   \n",
            "3              4         1       1   \n",
            "6              7         0       1   \n",
            "11            12         1       1   \n",
            "23            24         1       1   \n",
            "..           ...       ...     ...   \n",
            "871          872         1       1   \n",
            "872          873         0       1   \n",
            "879          880         1       1   \n",
            "887          888         1       1   \n",
            "889          890         1       1   \n",
            "\n",
            "                                                  Name     Sex   Age  SibSp  \\\n",
            "1    Cumings, Mrs. John Bradley (Florence Briggs Th...  female  38.0      1   \n",
            "3         Futrelle, Mrs. Jacques Heath (Lily May Peel)  female  35.0      1   \n",
            "6                              McCarthy, Mr. Timothy J    male  54.0      0   \n",
            "11                            Bonnell, Miss. Elizabeth  female  58.0      0   \n",
            "23                        Sloper, Mr. William Thompson    male  28.0      0   \n",
            "..                                                 ...     ...   ...    ...   \n",
            "871   Beckwith, Mrs. Richard Leonard (Sallie Monypeny)  female  47.0      1   \n",
            "872                           Carlsson, Mr. Frans Olof    male  33.0      0   \n",
            "879      Potter, Mrs. Thomas Jr (Lily Alexenia Wilson)  female  56.0      0   \n",
            "887                       Graham, Miss. Margaret Edith  female  19.0      0   \n",
            "889                              Behr, Mr. Karl Howell    male  26.0      0   \n",
            "\n",
            "     Parch    Ticket     Fare        Cabin Embarked  \n",
            "1        0  PC 17599  71.2833          C85        C  \n",
            "3        0    113803  53.1000         C123        S  \n",
            "6        0     17463  51.8625          E46        S  \n",
            "11       0    113783  26.5500         C103        S  \n",
            "23       0    113788  35.5000           A6        S  \n",
            "..     ...       ...      ...          ...      ...  \n",
            "871      1     11751  52.5542          D35        S  \n",
            "872      0       695   5.0000  B51 B53 B55        S  \n",
            "879      1     11767  83.1583          C50        C  \n",
            "887      0    112053  30.0000          B42        S  \n",
            "889      0    111369  30.0000         C148        C  \n",
            "\n",
            "[216 rows x 12 columns]\n"
          ]
        }
      ]
    },
    {
      "cell_type": "markdown",
      "source": [
        "2.3. Filter the Titanic dataset for cases where the passenger’s age is less than 18 and the passenger is female (Sex is \"female\"), assigning it to female under 18. View the printed result."
      ],
      "metadata": {
        "id": "Yu-PRcjS1m_P"
      }
    },
    {
      "cell_type": "code",
      "source": [
        "passangerAge=df[(df['Age']<18) & (df['Sex']=='female')]\n",
        "print(passangerAge.head())"
      ],
      "metadata": {
        "colab": {
          "base_uri": "https://localhost:8080/"
        },
        "id": "_dEpoJwr1mqZ",
        "outputId": "4b645883-889a-42ed-fad6-83448488e2f7"
      },
      "execution_count": 24,
      "outputs": [
        {
          "output_type": "stream",
          "name": "stdout",
          "text": [
            "    PassengerId  Survived  Pclass                                  Name  \\\n",
            "9            10         1       2   Nasser, Mrs. Nicholas (Adele Achem)   \n",
            "10           11         1       3       Sandstrom, Miss. Marguerite Rut   \n",
            "14           15         0       3  Vestrom, Miss. Hulda Amanda Adolfina   \n",
            "22           23         1       3           McGowan, Miss. Anna \"Annie\"   \n",
            "24           25         0       3         Palsson, Miss. Torborg Danira   \n",
            "\n",
            "       Sex   Age  SibSp  Parch   Ticket     Fare Cabin Embarked  \n",
            "9   female  14.0      1      0   237736  30.0708   NaN        C  \n",
            "10  female   4.0      1      1  PP 9549  16.7000    G6        S  \n",
            "14  female  14.0      0      0   350406   7.8542   NaN        S  \n",
            "22  female  15.0      0      0   330923   8.0292   NaN        Q  \n",
            "24  female   8.0      3      1   349909  21.0750   NaN        S  \n"
          ]
        }
      ]
    },
    {
      "cell_type": "markdown",
      "source": [
        "1. Filter the Titanic dataset for passengers whose Embarked port is either \"C\" (Cherbourg) or \"S\" (Southampton), assigning the result to embarked c or s. View the printed result."
      ],
      "metadata": {
        "id": "-BsgAd0Z1tr3"
      }
    },
    {
      "cell_type": "code",
      "source": [
        "embarked_c_or_s=df[(df['Embarked']=='C') | (df['Embarked']=='S')]\n",
        "print(embarked_c_or_s.head())"
      ],
      "metadata": {
        "colab": {
          "base_uri": "https://localhost:8080/"
        },
        "id": "74Dd3Rym1s_7",
        "outputId": "8b26203f-fabd-4978-85bf-cca269dda9a1"
      },
      "execution_count": 25,
      "outputs": [
        {
          "output_type": "stream",
          "name": "stdout",
          "text": [
            "   PassengerId  Survived  Pclass  \\\n",
            "0            1         0       3   \n",
            "1            2         1       1   \n",
            "2            3         1       3   \n",
            "3            4         1       1   \n",
            "4            5         0       3   \n",
            "\n",
            "                                                Name     Sex   Age  SibSp  \\\n",
            "0                            Braund, Mr. Owen Harris    male  22.0      1   \n",
            "1  Cumings, Mrs. John Bradley (Florence Briggs Th...  female  38.0      1   \n",
            "2                             Heikkinen, Miss. Laina  female  26.0      0   \n",
            "3       Futrelle, Mrs. Jacques Heath (Lily May Peel)  female  35.0      1   \n",
            "4                           Allen, Mr. William Henry    male  35.0      0   \n",
            "\n",
            "   Parch            Ticket     Fare Cabin Embarked  \n",
            "0      0         A/5 21171   7.2500   NaN        S  \n",
            "1      0          PC 17599  71.2833   C85        C  \n",
            "2      0  STON/O2. 3101282   7.9250   NaN        S  \n",
            "3      0            113803  53.1000  C123        S  \n",
            "4      0            373450   8.0500   NaN        S  \n"
          ]
        }
      ]
    },
    {
      "cell_type": "markdown",
      "source": [
        "2. Filter the Titanic dataset for passengers whose Pclass is in the list [1, 2] (indicating first or second class), assigning the result to first second class.View the printed result."
      ],
      "metadata": {
        "id": "9X53i6S512Mw"
      }
    },
    {
      "cell_type": "code",
      "source": [
        "filtered_Pclass=df[(df['Pclass'].isin([1,2]))]\n",
        "print(filtered_Pclass)"
      ],
      "metadata": {
        "colab": {
          "base_uri": "https://localhost:8080/"
        },
        "id": "IdaRZkcE17Pz",
        "outputId": "8c571357-fc3d-40b8-a11c-59d1c6ef0061"
      },
      "execution_count": 26,
      "outputs": [
        {
          "output_type": "stream",
          "name": "stdout",
          "text": [
            "     PassengerId  Survived  Pclass  \\\n",
            "1              2         1       1   \n",
            "3              4         1       1   \n",
            "6              7         0       1   \n",
            "9             10         1       2   \n",
            "11            12         1       1   \n",
            "..           ...       ...     ...   \n",
            "880          881         1       2   \n",
            "883          884         0       2   \n",
            "886          887         0       2   \n",
            "887          888         1       1   \n",
            "889          890         1       1   \n",
            "\n",
            "                                                  Name     Sex   Age  SibSp  \\\n",
            "1    Cumings, Mrs. John Bradley (Florence Briggs Th...  female  38.0      1   \n",
            "3         Futrelle, Mrs. Jacques Heath (Lily May Peel)  female  35.0      1   \n",
            "6                              McCarthy, Mr. Timothy J    male  54.0      0   \n",
            "9                  Nasser, Mrs. Nicholas (Adele Achem)  female  14.0      1   \n",
            "11                            Bonnell, Miss. Elizabeth  female  58.0      0   \n",
            "..                                                 ...     ...   ...    ...   \n",
            "880       Shelley, Mrs. William (Imanita Parrish Hall)  female  25.0      0   \n",
            "883                      Banfield, Mr. Frederick James    male  28.0      0   \n",
            "886                              Montvila, Rev. Juozas    male  27.0      0   \n",
            "887                       Graham, Miss. Margaret Edith  female  19.0      0   \n",
            "889                              Behr, Mr. Karl Howell    male  26.0      0   \n",
            "\n",
            "     Parch            Ticket     Fare Cabin Embarked  \n",
            "1        0          PC 17599  71.2833   C85        C  \n",
            "3        0            113803  53.1000  C123        S  \n",
            "6        0             17463  51.8625   E46        S  \n",
            "9        0            237736  30.0708   NaN        C  \n",
            "11       0            113783  26.5500  C103        S  \n",
            "..     ...               ...      ...   ...      ...  \n",
            "880      1            230433  26.0000   NaN        S  \n",
            "883      0  C.A./SOTON 34068  10.5000   NaN        S  \n",
            "886      0            211536  13.0000   NaN        S  \n",
            "887      0            112053  30.0000   B42        S  \n",
            "889      0            111369  30.0000  C148        C  \n",
            "\n",
            "[400 rows x 12 columns]\n"
          ]
        }
      ]
    },
    {
      "cell_type": "markdown",
      "source": [
        "1. Add a column to the Titanic dataset, fare per year, containing the fare divided by the age of the passenger(i.e., Fare/Age)."
      ],
      "metadata": {
        "id": "b7bCkwLW2ROd"
      }
    },
    {
      "cell_type": "code",
      "source": [
        "df['Fare_per_year']=df['Fare']/df['Age']\n",
        "print(df.head())"
      ],
      "metadata": {
        "colab": {
          "base_uri": "https://localhost:8080/"
        },
        "id": "aQAgmUAL2Vyd",
        "outputId": "0954f02d-134b-4839-9b87-1a8dd3002510"
      },
      "execution_count": 27,
      "outputs": [
        {
          "output_type": "stream",
          "name": "stdout",
          "text": [
            "   PassengerId  Survived  Pclass  \\\n",
            "0            1         0       3   \n",
            "1            2         1       1   \n",
            "2            3         1       3   \n",
            "3            4         1       1   \n",
            "4            5         0       3   \n",
            "\n",
            "                                                Name     Sex   Age  SibSp  \\\n",
            "0                            Braund, Mr. Owen Harris    male  22.0      1   \n",
            "1  Cumings, Mrs. John Bradley (Florence Briggs Th...  female  38.0      1   \n",
            "2                             Heikkinen, Miss. Laina  female  26.0      0   \n",
            "3       Futrelle, Mrs. Jacques Heath (Lily May Peel)  female  35.0      1   \n",
            "4                           Allen, Mr. William Henry    male  35.0      0   \n",
            "\n",
            "   Parch            Ticket     Fare Cabin Embarked  Fare_per_year  \n",
            "0      0         A/5 21171   7.2500   NaN        S       0.329545  \n",
            "1      0          PC 17599  71.2833   C85        C       1.875876  \n",
            "2      0  STON/O2. 3101282   7.9250   NaN        S       0.304808  \n",
            "3      0            113803  53.1000  C123        S       1.517143  \n",
            "4      0            373450   8.0500   NaN        S       0.230000  \n"
          ]
        }
      ]
    },
    {
      "cell_type": "markdown",
      "source": [
        "2. Subset rows where fare per year is higher than 5, assigning this to high fare age."
      ],
      "metadata": {
        "id": "15ZXiQlK2dKd"
      }
    },
    {
      "cell_type": "code",
      "source": [
        "high=df[df['Fare_per_year']>5]\n",
        "print(high)"
      ],
      "metadata": {
        "colab": {
          "base_uri": "https://localhost:8080/"
        },
        "id": "sl4DnsnQ2hxX",
        "outputId": "16d5672c-1ddf-42d8-f5cf-785bd49c0daf"
      },
      "execution_count": 28,
      "outputs": [
        {
          "output_type": "stream",
          "name": "stdout",
          "text": [
            "     PassengerId  Survived  Pclass                                      Name  \\\n",
            "7              8         0       3            Palsson, Master. Gosta Leonard   \n",
            "16            17         0       3                      Rice, Master. Eugene   \n",
            "27            28         0       1            Fortune, Mr. Charles Alexander   \n",
            "43            44         1       2  Laroche, Miss. Simonne Marie Anne Andree   \n",
            "50            51         0       3                Panula, Master. Juha Niilo   \n",
            "..           ...       ...     ...                                       ...   \n",
            "813          814         0       3        Andersson, Miss. Ebba Iris Alfrida   \n",
            "824          825         0       3              Panula, Master. Urho Abraham   \n",
            "827          828         1       2                     Mallet, Master. Andre   \n",
            "831          832         1       2           Richards, Master. George Sibley   \n",
            "850          851         0       3   Andersson, Master. Sigvard Harald Elias   \n",
            "\n",
            "        Sex    Age  SibSp  Parch           Ticket      Fare        Cabin  \\\n",
            "7      male   2.00      3      1           349909   21.0750          NaN   \n",
            "16     male   2.00      4      1           382652   29.1250          NaN   \n",
            "27     male  19.00      3      2            19950  263.0000  C23 C25 C27   \n",
            "43   female   3.00      1      2    SC/Paris 2123   41.5792          NaN   \n",
            "50     male   7.00      4      1          3101295   39.6875          NaN   \n",
            "..      ...    ...    ...    ...              ...       ...          ...   \n",
            "813  female   6.00      4      2           347082   31.2750          NaN   \n",
            "824    male   2.00      4      1          3101295   39.6875          NaN   \n",
            "827    male   1.00      0      2  S.C./PARIS 2079   37.0042          NaN   \n",
            "831    male   0.83      1      1            29106   18.7500          NaN   \n",
            "850    male   4.00      4      2           347082   31.2750          NaN   \n",
            "\n",
            "    Embarked  Fare_per_year  \n",
            "7          S      10.537500  \n",
            "16         Q      14.562500  \n",
            "27         S      13.842105  \n",
            "43         C      13.859733  \n",
            "50         S       5.669643  \n",
            "..       ...            ...  \n",
            "813        S       5.212500  \n",
            "824        S      19.843750  \n",
            "827        C      37.004200  \n",
            "831        S      22.590361  \n",
            "850        S       7.818750  \n",
            "\n",
            "[68 rows x 13 columns]\n"
          ]
        }
      ]
    },
    {
      "cell_type": "markdown",
      "source": [
        "3. Sort high fare age by descending fare per year, assigning this to high fare age srt."
      ],
      "metadata": {
        "id": "CqVkSk6o2vYU"
      }
    },
    {
      "cell_type": "code",
      "source": [
        "high_fare_age_srt=df.sort_values(by='Fare_per_year',ascending=False)\n",
        "print(high_fare_age_srt.head())"
      ],
      "metadata": {
        "colab": {
          "base_uri": "https://localhost:8080/"
        },
        "id": "ke-_EvUt2yIX",
        "outputId": "9dd76325-bc80-4da8-b7c0-e7503e6a5974"
      },
      "execution_count": 29,
      "outputs": [
        {
          "output_type": "stream",
          "name": "stdout",
          "text": [
            "     PassengerId  Survived  Pclass                             Name     Sex  \\\n",
            "305          306         1       1   Allison, Master. Hudson Trevor    male   \n",
            "297          298         0       1     Allison, Miss. Helen Loraine  female   \n",
            "386          387         0       3  Goodwin, Master. Sidney Leonard    male   \n",
            "164          165         0       3     Panula, Master. Eino Viljami    male   \n",
            "183          184         1       2        Becker, Master. Richard F    male   \n",
            "\n",
            "      Age  SibSp  Parch   Ticket      Fare    Cabin Embarked  Fare_per_year  \n",
            "305  0.92      1      2   113781  151.5500  C22 C26        S     164.728261  \n",
            "297  2.00      1      2   113781  151.5500  C22 C26        S      75.775000  \n",
            "386  1.00      5      2  CA 2144   46.9000      NaN        S      46.900000  \n",
            "164  1.00      4      1  3101295   39.6875      NaN        S      39.687500  \n",
            "183  1.00      2      1   230136   39.0000       F4        S      39.000000  \n"
          ]
        }
      ]
    },
    {
      "cell_type": "markdown",
      "source": [
        "4. Select only the Name and fare per year columns of high fare age srt and save the result as result."
      ],
      "metadata": {
        "id": "BDdcJLd_23da"
      }
    },
    {
      "cell_type": "code",
      "source": [
        "result=high_fare_age_srt[['Fare_per_year','Name']]\n",
        "print(result)"
      ],
      "metadata": {
        "colab": {
          "base_uri": "https://localhost:8080/"
        },
        "id": "ri3_M4Wa25X_",
        "outputId": "c425f20f-d7bc-4f84-83e3-1d3af0844878"
      },
      "execution_count": 30,
      "outputs": [
        {
          "output_type": "stream",
          "name": "stdout",
          "text": [
            "     Fare_per_year                                      Name\n",
            "305     164.728261            Allison, Master. Hudson Trevor\n",
            "297      75.775000              Allison, Miss. Helen Loraine\n",
            "386      46.900000           Goodwin, Master. Sidney Leonard\n",
            "164      39.687500              Panula, Master. Eino Viljami\n",
            "183      39.000000                 Becker, Master. Richard F\n",
            "..             ...                                       ...\n",
            "859            NaN                          Razi, Mr. Raihed\n",
            "863            NaN         Sage, Miss. Dorothy Edith \"Dolly\"\n",
            "868            NaN               van Melkebeke, Mr. Philemon\n",
            "878            NaN                        Laleff, Mr. Kristo\n",
            "888            NaN  Johnston, Miss. Catherine Helen \"Carrie\"\n",
            "\n",
            "[891 rows x 2 columns]\n"
          ]
        }
      ]
    },
    {
      "cell_type": "markdown",
      "source": [
        "1. Calculate the total Fare paid across all passengers in the Titanic dataset."
      ],
      "metadata": {
        "id": "RUyp8pFp2_Nr"
      }
    },
    {
      "cell_type": "code",
      "source": [
        "total=df['Fare'].sum()\n",
        "print(\"Total Fare:\",total)"
      ],
      "metadata": {
        "colab": {
          "base_uri": "https://localhost:8080/"
        },
        "id": "xw5fGjFr3KBt",
        "outputId": "af7175d6-5377-467a-9b7b-f120283f9276"
      },
      "execution_count": 31,
      "outputs": [
        {
          "output_type": "stream",
          "name": "stdout",
          "text": [
            "Total Fare: 28693.9493\n"
          ]
        }
      ]
    },
    {
      "cell_type": "markdown",
      "source": [
        "2. Subset for passengers in first class (Pclass is 1) and calculate their total fare."
      ],
      "metadata": {
        "id": "NEdX28zy3N-V"
      }
    },
    {
      "cell_type": "code",
      "source": [
        "firstClass=df[df['Pclass']==1]['Fare']\n",
        "totalf=firstClass.sum()\n",
        "print(totalf)"
      ],
      "metadata": {
        "colab": {
          "base_uri": "https://localhost:8080/"
        },
        "id": "tyAuNH_i3UQd",
        "outputId": "e968aef7-f58b-4ed3-e5ab-a3cfaac5414b"
      },
      "execution_count": 32,
      "outputs": [
        {
          "output_type": "stream",
          "name": "stdout",
          "text": [
            "18177.4125\n"
          ]
        }
      ]
    },
    {
      "cell_type": "markdown",
      "source": [
        "3. Do the same for second class (Pclass is 2) and third class (Pclass is 3)."
      ],
      "metadata": {
        "id": "R0KV1w2k3bun"
      }
    },
    {
      "cell_type": "code",
      "source": [
        "secondClass=df[df['Pclass']==2]['Fare']\n",
        "totalS=secondClass.sum()\n",
        "print(\"Total of second class:\",totalS)\n",
        "thirdClass=df[df['Pclass']==3]['Fare']\n",
        "totalT=thirdClass.sum()\n",
        "print(\"Total of third class:\",totalT)"
      ],
      "metadata": {
        "colab": {
          "base_uri": "https://localhost:8080/"
        },
        "id": "yceRGR7Q3eVH",
        "outputId": "204c578f-4812-48e6-f6e3-900706e64e02"
      },
      "execution_count": 33,
      "outputs": [
        {
          "output_type": "stream",
          "name": "stdout",
          "text": [
            "Total of second class: 3801.8417\n",
            "Total of third class: 6714.6951\n"
          ]
        }
      ]
    },
    {
      "cell_type": "markdown",
      "source": [
        "4. Combine the fare totals from first, second, and third classes into a list."
      ],
      "metadata": {
        "id": "fQNNH0x93jLz"
      }
    },
    {
      "cell_type": "code",
      "source": [
        "lst=[total,totalS,totalT]\n",
        "print(lst)"
      ],
      "metadata": {
        "colab": {
          "base_uri": "https://localhost:8080/"
        },
        "id": "hWAEXlQp3lWU",
        "outputId": "c59b4a24-de49-41d6-df55-8be69510aec4"
      },
      "execution_count": 34,
      "outputs": [
        {
          "output_type": "stream",
          "name": "stdout",
          "text": [
            "[28693.9493, 3801.8417, 6714.6951]\n"
          ]
        }
      ]
    },
    {
      "cell_type": "markdown",
      "source": [
        "5. Divide the totals for each class by the overall total fare to get the proportion of fare revenue by class."
      ],
      "metadata": {
        "id": "c5N8GaU336da"
      }
    },
    {
      "cell_type": "code",
      "source": [
        "proptionfirst=totalf/total\n",
        "proptionsecond=totalS/total\n",
        "proptionthird=totalT/total\n",
        "print(\"First:\",proptionfirst)\n",
        "print(\"Second:\",proptionsecond)\n",
        "print(\"Third:\",proptionthird)"
      ],
      "metadata": {
        "colab": {
          "base_uri": "https://localhost:8080/"
        },
        "id": "IOg8_jPL39SZ",
        "outputId": "260db733-3a23-46fc-dc73-68864bb4b90c"
      },
      "execution_count": 35,
      "outputs": [
        {
          "output_type": "stream",
          "name": "stdout",
          "text": [
            "First: 0.6334928771899656\n",
            "Second: 0.1324962855496507\n",
            "Third: 0.23401083726038366\n"
          ]
        }
      ]
    },
    {
      "cell_type": "markdown",
      "source": [
        "1. Create a new column, age group, that categorizes passengers into \"child\" (age < 18), \"adult\" (age 18{64), and \"senior\" (age 65 and above)."
      ],
      "metadata": {
        "id": "L9q-UCyg4FGM"
      }
    },
    {
      "cell_type": "code",
      "source": [
        "df['ageGroup']=df['Age'].apply(lambda Age:'child' if Age<18 else 'adult' if 18<= Age<=65 else 'senior' if Age>65 else 'invalid')\n",
        "print(df.head())"
      ],
      "metadata": {
        "colab": {
          "base_uri": "https://localhost:8080/"
        },
        "id": "zr5-nXxy4IiO",
        "outputId": "32459677-2eeb-4d13-d800-4aada95748e6"
      },
      "execution_count": 36,
      "outputs": [
        {
          "output_type": "stream",
          "name": "stdout",
          "text": [
            "   PassengerId  Survived  Pclass  \\\n",
            "0            1         0       3   \n",
            "1            2         1       1   \n",
            "2            3         1       3   \n",
            "3            4         1       1   \n",
            "4            5         0       3   \n",
            "\n",
            "                                                Name     Sex   Age  SibSp  \\\n",
            "0                            Braund, Mr. Owen Harris    male  22.0      1   \n",
            "1  Cumings, Mrs. John Bradley (Florence Briggs Th...  female  38.0      1   \n",
            "2                             Heikkinen, Miss. Laina  female  26.0      0   \n",
            "3       Futrelle, Mrs. Jacques Heath (Lily May Peel)  female  35.0      1   \n",
            "4                           Allen, Mr. William Henry    male  35.0      0   \n",
            "\n",
            "   Parch            Ticket     Fare Cabin Embarked  Fare_per_year ageGroup  \n",
            "0      0         A/5 21171   7.2500   NaN        S       0.329545    adult  \n",
            "1      0          PC 17599  71.2833   C85        C       1.875876    adult  \n",
            "2      0  STON/O2. 3101282   7.9250   NaN        S       0.304808    adult  \n",
            "3      0            113803  53.1000  C123        S       1.517143    adult  \n",
            "4      0            373450   8.0500   NaN        S       0.230000    adult  \n"
          ]
        }
      ]
    },
    {
      "cell_type": "markdown",
      "source": [
        "2. Calculate the total number of passengers on the Titanic."
      ],
      "metadata": {
        "id": "uVm1AYwm4Mdx"
      }
    },
    {
      "cell_type": "code",
      "source": [
        "total_passenger=len(df)\n",
        "print(total_passenger)"
      ],
      "metadata": {
        "colab": {
          "base_uri": "https://localhost:8080/"
        },
        "id": "m3ARxdYj4PbE",
        "outputId": "7bd0b65b-0fc7-4c83-cf73-ef49cbe8db53"
      },
      "execution_count": 37,
      "outputs": [
        {
          "output_type": "stream",
          "name": "stdout",
          "text": [
            "891\n"
          ]
        }
      ]
    },
    {
      "cell_type": "markdown",
      "source": [
        "3. Count the number of passengers in each age group."
      ],
      "metadata": {
        "id": "9Bjxw-Yg4ZUj"
      }
    },
    {
      "cell_type": "code",
      "source": [
        "numberChild=len(df[df['ageGroup']=='child'])\n",
        "numberAdult=len(df[df['ageGroup']=='adult'])\n",
        "numberSenior=len(df[df['ageGroup']=='senior'])\n",
        "print(\"Number of children:\",numberChild)\n",
        "print(\"Number of adult:\",numberAdult)\n",
        "print(\"Number of senior:\",numberSenior)"
      ],
      "metadata": {
        "colab": {
          "base_uri": "https://localhost:8080/"
        },
        "id": "5dqqUJgm4a2L",
        "outputId": "3797fe85-dfb2-4d90-8aa9-b799a9f64689"
      },
      "execution_count": 38,
      "outputs": [
        {
          "output_type": "stream",
          "name": "stdout",
          "text": [
            "Number of children: 113\n",
            "Number of adult: 593\n",
            "Number of senior: 8\n"
          ]
        }
      ]
    },
    {
      "cell_type": "markdown",
      "source": [
        "4. Divide the count of each age group by the total number of passengers to get the proportion of passengers in each age group."
      ],
      "metadata": {
        "id": "vpFHELVz4edA"
      }
    },
    {
      "cell_type": "code",
      "source": [
        "countChildprop= numberChild/total_passenger\n",
        "countAdultprop=numberAdult/total_passenger\n",
        "countSeniorprop=numberSenior/total_passenger\n",
        "print(\"Proportion of children:\",countChildprop)\n",
        "print(\"Proportion of adult:\",countAdultprop)\n",
        "print(\"Proportion of senior:\",countSeniorprop)"
      ],
      "metadata": {
        "colab": {
          "base_uri": "https://localhost:8080/"
        },
        "id": "2JZG4smL4iDZ",
        "outputId": "593e8140-c6b7-4c36-f382-f1bf2d6701ef"
      },
      "execution_count": 39,
      "outputs": [
        {
          "output_type": "stream",
          "name": "stdout",
          "text": [
            "Proportion of children: 0.12682379349046016\n",
            "Proportion of adult: 0.6655443322109988\n",
            "Proportion of senior: 0.008978675645342313\n"
          ]
        }
      ]
    },
    {
      "cell_type": "markdown",
      "source": [
        "5. Display the proportion as a percentage."
      ],
      "metadata": {
        "id": "cBFCQvUO4mV0"
      }
    },
    {
      "cell_type": "code",
      "source": [
        "print(\"Proportion of children:\",countChildprop,\"%\")\n",
        "print(\"Proportion of adult:\",countAdultprop,\"%\")\n",
        "print(\"Proportion of senior:\",countSeniorprop,\"%\")"
      ],
      "metadata": {
        "colab": {
          "base_uri": "https://localhost:8080/"
        },
        "id": "PECV4ZDy4ptL",
        "outputId": "b9cef512-409b-4a27-f476-edc5162dbfe0"
      },
      "execution_count": 40,
      "outputs": [
        {
          "output_type": "stream",
          "name": "stdout",
          "text": [
            "Proportion of children: 0.12682379349046016 %\n",
            "Proportion of adult: 0.6655443322109988 %\n",
            "Proportion of senior: 0.008978675645342313 %\n"
          ]
        }
      ]
    }
  ]
}
{
  "nbformat": 4,
  "nbformat_minor": 0,
  "metadata": {
    "colab": {
      "provenance": []
    },
    "kernelspec": {
      "name": "python3",
      "display_name": "Python 3"
    },
    "language_info": {
      "name": "python"
    }
  },
  "cells": [
    {
      "cell_type": "code",
      "execution_count": null,
      "metadata": {
        "id": "WUHiCACNxcMy"
      },
      "outputs": [],
      "source": [
        "# Task 1. Classify Temperatures:\n",
        "# 1. Create empty lists for temperature classifications:\n",
        "# (a) Cold: temperatures below 10°C.\n",
        "# (b) Mild: temperatures between 10°C and 15°C.\n",
        "# (c) Comfortable: temperatures between 15°C and 20°C.\n",
        "\n",
        "# 2. Iterate over the temperatures list and add each temperature to the appropriate cate-\n",
        "# gory.\n",
        "\n",
        "# 3. Print the lists to verify the classifications."
      ]
    },
    {
      "cell_type": "code",
      "source": [
        "# List of temperatures\n",
        "temperatures_list = [8.2, 17.4, 14.1, 7.9, 18.0, 13.5, 9.0, 17.8, 13.0, 8.5,\n",
        "16.5, 12.9, 7.7, 17.2, 13.3, 8.4, 16.7, 14.0, 9.5, 18.3, 13.4, 8.1,\n",
        "17.9, 14.2, 7.6, 17.0, 12.8, 8.0, 16.8, 13.7, 7.8, 17.5, 13.6, 8.7,\n",
        "17.1, 13.8, 9.2, 18.1, 13.9, 8.3, 16.4, 12.7, 8.9, 18.2, 13.1, 7.8,\n",
        "16.6, 12.5]\n",
        "\n",
        "# Empty lists for various temperatures:\n",
        "cold_temperatures = []\n",
        "mild_temperatures = []\n",
        "comfortable_temperatures = []\n",
        "\n",
        "# Iteration for appropriate categorization of temperatures:\n",
        "for i in temperatures_list:\n",
        "    if i<10:\n",
        "        cold_temperatures.append(i)\n",
        "    elif i>10 and i<15:\n",
        "        mild_temperatures.append(i)\n",
        "    elif i>15 and i<20:\n",
        "        comfortable_temperatures.append(i)\n",
        "\n",
        "# Displaying all types of temperatures:\n",
        "print(\"Cold temperatures: \", cold_temperatures)\n",
        "print(\"Mild temperatures: \", mild_temperatures)\n",
        "print(\"Comfortable temperatures: \", comfortable_temperatures)"
      ],
      "metadata": {
        "colab": {
          "base_uri": "https://localhost:8080/"
        },
        "id": "1wgNSwCNxifz",
        "outputId": "0cb6bb02-296d-4813-d5bc-eb191a9cfc51"
      },
      "execution_count": 1,
      "outputs": [
        {
          "output_type": "stream",
          "name": "stdout",
          "text": [
            "Cold temperatures:  [8.2, 7.9, 9.0, 8.5, 7.7, 8.4, 9.5, 8.1, 7.6, 8.0, 7.8, 8.7, 9.2, 8.3, 8.9, 7.8]\n",
            "Mild temperatures:  [14.1, 13.5, 13.0, 12.9, 13.3, 14.0, 13.4, 14.2, 12.8, 13.7, 13.6, 13.8, 13.9, 12.7, 13.1, 12.5]\n",
            "Comfortable temperatures:  [17.4, 18.0, 17.8, 16.5, 17.2, 16.7, 18.3, 17.9, 17.0, 16.8, 17.5, 17.1, 18.1, 16.4, 18.2, 16.6]\n"
          ]
        }
      ]
    },
    {
      "cell_type": "code",
      "source": [
        "# Task 2. Based on Data - Answer all the Questions:\n",
        "# 1. How many times was it mild?\n",
        "# (a) Hint: Count the number of items in the mild list and print the result.\n",
        "# => It was mild for 16 times.\n",
        "# 2. How many times was it comfortable?\n",
        "# => It was comfortable for 16 times.\n",
        "# 3. How many times was it cold?\n",
        "# => It was cold for 16 times."
      ],
      "metadata": {
        "id": "rSSAUQW6xxwW"
      },
      "execution_count": null,
      "outputs": []
    },
    {
      "cell_type": "code",
      "source": [
        "# Task 3. Convert Temperatures from Celsius to Fahrenheit\n",
        "\n",
        "# Using the formula for temperature conversion, convert each reading from Celsius to Fahren-\n",
        "# heit and store it in a new list called temperatures_fahrenheit.\n",
        "\n",
        "# Formula: Fahrenheit = (Celsius ×\n",
        "# 9\n",
        "# 5\n",
        "# ) + 32\n",
        "\n",
        "# 1. Iterate over the temperatures list and apply the formula to convert each temperature.\n",
        "# 2. Store the results in the new list.\n",
        "# 3. Print the converted Fahrenheit values."
      ],
      "metadata": {
        "id": "9FoGQRCfx21d"
      },
      "execution_count": null,
      "outputs": []
    },
    {
      "cell_type": "code",
      "source": [
        "# List of temperatures:\n",
        "temperatures_list = [8.2, 17.4, 14.1, 7.9, 18.0, 13.5, 9.0, 17.8, 13.0, 8.5,\n",
        "16.5, 12.9, 7.7, 17.2, 13.3, 8.4, 16.7, 14.0, 9.5, 18.3, 13.4, 8.1,\n",
        "17.9, 14.2, 7.6, 17.0, 12.8, 8.0, 16.8, 13.7, 7.8, 17.5, 13.6, 8.7,\n",
        "17.1, 13.8, 9.2, 18.1, 13.9, 8.3, 16.4, 12.7, 8.9, 18.2, 13.1, 7.8,\n",
        "16.6, 12.5]\n",
        "\n",
        "# Empty list for fahrenheit temperatures:\n",
        "fahrenheit_temperatures = []\n",
        "\n",
        "# Iteration for converting temperatures in celcius to fahrenheit:\n",
        "for celcius in temperatures_list:\n",
        "    fahrenheit = (celcius * 9/5) + 32\n",
        "    fahrenheit_temperatures.append(fahrenheit)\n",
        "\n",
        "# Displaying the output:\n",
        "print(\"Temperatures in fahrenheit: \", fahrenheit_temperatures)"
      ],
      "metadata": {
        "colab": {
          "base_uri": "https://localhost:8080/"
        },
        "id": "ePlUryo7x3tM",
        "outputId": "e738d55e-f59d-470d-e866-61cb0b9182b8"
      },
      "execution_count": 2,
      "outputs": [
        {
          "output_type": "stream",
          "name": "stdout",
          "text": [
            "Temperatures in fahrenheit:  [46.76, 63.32, 57.379999999999995, 46.22, 64.4, 56.3, 48.2, 64.04, 55.4, 47.3, 61.7, 55.22, 45.86, 62.959999999999994, 55.94, 47.120000000000005, 62.059999999999995, 57.2, 49.1, 64.94, 56.120000000000005, 46.58, 64.22, 57.56, 45.68, 62.6, 55.04, 46.4, 62.24, 56.66, 46.04, 63.5, 56.48, 47.66, 62.78, 56.84, 48.56, 64.58, 57.02, 46.94, 61.519999999999996, 54.86, 48.02, 64.75999999999999, 55.58, 46.04, 61.88, 54.5]\n"
          ]
        }
      ]
    },
    {
      "cell_type": "code",
      "source": [
        "# Task 4. Analyze Temperature Patterns by Time of Day:\n",
        "# Scenario: Each day’s readings are grouped as:\n",
        "# • Night (00-08),\n",
        "# • Evening (08-16),\n",
        "# • Day (16-24).\n",
        "# 1. Create empty lists for night, day, and evening temperatures.\n",
        "# 2. Iterate over the temperatures list, assigning values to each time-of-day list based on\n",
        "# their position.\n",
        "# 3. Calculate and print the average day-time temperature.\n",
        "# 4. (Optional) Plot ”day vs. temperature” using matplotlib."
      ],
      "metadata": {
        "id": "KP3AQYRVyASW"
      },
      "execution_count": null,
      "outputs": []
    },
    {
      "cell_type": "code",
      "source": [
        "import matplotlib.pyplot as plt\n",
        "\n",
        "temperatures_list = [8.2, 8.5, 7.9, 7.8, 8.1, 8.4, 8.7, 9.0, 17.4, 17.8,\n",
        "                     18.0, 17.9, 17.5, 17.2, 16.8, 16.5, 14.1, 14.0, 14.2,\n",
        "                     13.9, 13.7, 13.5, 13.3, 13.0]\n",
        "\n",
        "#Creating empty lists for different time of a day\n",
        "night_temperatures = []\n",
        "evening_temperatures = []\n",
        "day_temperatures = []\n",
        "\n",
        "#Iterating over time of day\n",
        "for i, temper in enumerate(temperatures_list):\n",
        "    if 0 <= i < 8:\n",
        "        night_temperatures.append(temper)\n",
        "    elif 8 <= i < 16:\n",
        "        evening_temperatures.append(temper)\n",
        "    elif 16 <= i < 24:\n",
        "        day_temperatures.append(temper)\n",
        "\n",
        "#Calculating average day temperature\n",
        "if day_temperatures:\n",
        "    average_day_temp = sum(day_temperatures) / len(day_temperatures)\n",
        "else:\n",
        "    average_day_temp = None\n",
        "print(\"Night temperatures:\", night_temperatures)\n",
        "print(\"Evening temperatures:\", evening_temperatures)\n",
        "print(\"Day temperatures:\", day_temperatures)\n",
        "print(\"Average day-time temperature:\", average_day_temp)\n",
        "\n",
        "#Plotting the graph\n",
        "times_of_day = ['Night', 'Evening', 'Day']\n",
        "average_temperatures = [\n",
        "    sum(night_temperatures) / len(night_temperatures),\n",
        "    sum(evening_temperatures) / len(evening_temperatures),\n",
        "    average_day_temp\n",
        "]\n",
        "plt.plot(times_of_day, average_temperatures, marker='o', color='blue', label='Average Temp')\n",
        "plt.xlabel(\"Time of Day\")\n",
        "plt.ylabel(\"Average Temperature (°C)\")\n",
        "plt.title(\"Average Temperature by Time of Day\")\n",
        "plt.legend()\n",
        "plt.grid(True)\n",
        "plt.show()"
      ],
      "metadata": {
        "colab": {
          "base_uri": "https://localhost:8080/",
          "height": 541
        },
        "id": "qYQBMA73yBDQ",
        "outputId": "b596f036-538f-4c33-e2cd-3109f1838e3d"
      },
      "execution_count": 3,
      "outputs": [
        {
          "output_type": "stream",
          "name": "stdout",
          "text": [
            "Night temperatures: [8.2, 8.5, 7.9, 7.8, 8.1, 8.4, 8.7, 9.0]\n",
            "Evening temperatures: [17.4, 17.8, 18.0, 17.9, 17.5, 17.2, 16.8, 16.5]\n",
            "Day temperatures: [14.1, 14.0, 14.2, 13.9, 13.7, 13.5, 13.3, 13.0]\n",
            "Average day-time temperature: 13.712499999999999\n"
          ]
        },
        {
          "output_type": "display_data",
          "data": {
            "text/plain": [
              "<Figure size 640x480 with 1 Axes>"
            ],
            "image/png": "[encoded data removed]"
          },
          "metadata": {}
        }
      ]
    },
    {
      "cell_type": "code",
      "source": [
        "# Exercise - Recursion:\n",
        "# Task 1 - Sum of Nested Lists:\n",
        "# Scenario: You have a list that contains numbers and other lists of numbers (nested lists).\n",
        "# You want to find the total sum of all the numbers in this structure.\n",
        "# Task:\n",
        "# • Write a recursive function sum_nested_list(nested_list) that:\n",
        "# 1. Takes a nested list (a list that can contain numbers or other lists of numbers) as\n",
        "# input.\n",
        "# 2. Sums all numbers at every depth level of the list, regardless of how deeply nested\n",
        "# the numbers are.\n",
        "# • Test the function with a sample nested list, such as\n",
        "# nested_list = [1, [2, [3, 4], 5], 6, [7, 8]].\n",
        "# The result should be the total sum of all the numbers."
      ],
      "metadata": {
        "id": "WntFlbqOyNZV"
      },
      "execution_count": null,
      "outputs": []
    },
    {
      "cell_type": "code",
      "source": [
        "def sum_nested_list(nested_list):\n",
        "    \"\"\"\n",
        "    Calculate the sum of all numbers in a nested list.\n",
        "    This function takes a list that may contain integers and other nested lists.\n",
        "    It recursively traverses the list and sums all the integers, no matter how deeply\n",
        "    nested they are.\n",
        "\n",
        "    Args:\n",
        "        nested_list (list): A list that may contain integers or other lists of integers.\n",
        "\n",
        "    Returns:\n",
        "        int: The total sum of all integers in the nested list, including those in sublists.\n",
        "\n",
        "    Example:\n",
        "        >>> sum_nested_list([1, [2, [3, 4], 5], 6, [7, 8]])\n",
        "        36\n",
        "        >>> sum_nested_list([1, [2, 3], [4, [5]]])\n",
        "        15\n",
        "    \"\"\"\n",
        "    total = 0\n",
        "    for element in nested_list:\n",
        "        if isinstance(element, list):  # Check if the element is a list\n",
        "            total += sum_nested_list(element)  # Recursively sum the nested list\n",
        "        else:\n",
        "            total += element  # Add the number to the total\n",
        "    return total\n",
        "\n",
        "# Test the function with sample input\n",
        "nested_list1 = [1, [2, [3, 4], 5], 6, [7, 8]]\n",
        "nested_list2 = [1, [2, 3], [4, [5]]]\n",
        "print(sum_nested_list(nested_list1))\n",
        "print(sum_nested_list(nested_list2))"
      ],
      "metadata": {
        "colab": {
          "base_uri": "https://localhost:8080/"
        },
        "id": "82A_0ENWyOZ-",
        "outputId": "ab7056f1-32c3-46ac-d643-34c43585a502"
      },
      "execution_count": 4,
      "outputs": [
        {
          "output_type": "stream",
          "name": "stdout",
          "text": [
            "36\n",
            "15\n"
          ]
        }
      ]
    },
    {
      "cell_type": "code",
      "source": [
        "# Task 2 - Generate All Permutations of a String:\n",
        "# Scenario: Given a string, generate all possible permutations of its characters. This is useful\n",
        "# for understanding backtracking and recursive depth-first search.\n",
        "# Task:\n",
        "# • Write a recursive function generate_permutations(s) that:\n",
        "# – Takes a string s as input and returns a list of all unique permutations.\n",
        "# • Test with strings like ”abc” and ”aab”.\n",
        "\n",
        "# print(generate_permutations(\"abc\"))\n",
        "# # Should return [’abc’, ’acb’, ’bac’, ’bca’, ’cab’, ’cba’]"
      ],
      "metadata": {
        "id": "btChsw_sydeT"
      },
      "execution_count": null,
      "outputs": []
    },
    {
      "cell_type": "code",
      "source": [
        "def generate_permutations(s):\n",
        "    \"\"\"\n",
        "    Generate all unique permutations of a string.\n",
        "\n",
        "    Args:\n",
        "        s (str): The input string to generate permutations for.\n",
        "\n",
        "    Returns:\n",
        "        list: A list of all unique permutations of the input string.\n",
        "    \"\"\"\n",
        "    # Base case: If the string is empty or has one character, return it as the only permutation\n",
        "    if len(s) <= 1:\n",
        "        return [s]\n",
        "\n",
        "    # Recursive case: Generate all unique permutations\n",
        "    permutations = set()  # Use a set to avoid duplicate permutations\n",
        "    for i, char in enumerate(s):\n",
        "        # Remove the character at index i and get the remaining substring\n",
        "        remaining = s[:i] + s[i+1:]\n",
        "        # Generate all permutations of the remaining characters\n",
        "        for perm in generate_permutations(remaining):\n",
        "            # Append the current character to each permutation of the remaining characters\n",
        "            permutations.add(char + perm)\n",
        "\n",
        "    return list(permutations)\n",
        "\n",
        "# Test the function\n",
        "print(generate_permutations(\"abc\"))\n",
        "print(generate_permutations(\"aab\"))"
      ],
      "metadata": {
        "colab": {
          "base_uri": "https://localhost:8080/"
        },
        "id": "VLqwvirnyhS6",
        "outputId": "fe756e87-f272-4a70-ddc5-07ca060297e7"
      },
      "execution_count": 5,
      "outputs": [
        {
          "output_type": "stream",
          "name": "stdout",
          "text": [
            "['cba', 'bac', 'acb', 'bca', 'abc', 'cab']\n",
            "['baa', 'aab', 'aba']\n"
          ]
        }
      ]
    },
    {
      "cell_type": "code",
      "source": [
        "# Task 3 - Directory Size Calculation:\n",
        "# Directory Size Calculation Scenario: Imagine a file system where directories can contain files\n",
        "# (with sizes in KB) and other directories. You want to calculate the total size of a directory,\n",
        "# including all nested files and subdirectories.\n",
        "# Task:\n",
        "# 1. Write a recursive function calculate_directory_size(directory) where:\n",
        "# • directory is a dictionary where keys represent file names (with values as sizes in\n",
        "\n",
        "# KB) or directory names (with values as another dictionary representing a subdi-\n",
        "# rectory).\n",
        "\n",
        "# • The function should return the total size of the directory, including all nested\n",
        "# subdirectories.\n",
        "# 2. Test the function with a sample directory structure."
      ],
      "metadata": {
        "id": "oywTYsJ1ynln"
      },
      "execution_count": null,
      "outputs": []
    },
    {
      "cell_type": "code",
      "source": [
        "def calculate_directory_size(directory):\n",
        "    \"\"\"\n",
        "    Calculate the total size of a directory, including all nested files and subdirectories.\n",
        "\n",
        "    Args:\n",
        "        directory (dict): A dictionary representing the directory structure, where:\n",
        "                          - Keys are file names (with values as sizes in KB).\n",
        "                          - Keys can also be directory names (with values as nested dictionaries).\n",
        "\n",
        "    Returns:\n",
        "        int: The total size of the directory in KB.\n",
        "    \"\"\"\n",
        "    totalFileSize = 0\n",
        "    for content in directory.values():\n",
        "        if type(content) == dict:\n",
        "            totalFileSize += calculate_directory_size(content)\n",
        "        else:\n",
        "            totalFileSize += content\n",
        "    return totalFileSize\n",
        "\n",
        "directory_structure = {\n",
        "    \"file1.txt\": 200,\n",
        "    \"file2.txt\": 300,\n",
        "    \"subdir1\": {\n",
        "        \"file3.txt\": 400,\n",
        "        \"file4.txt\": 100\n",
        "    },\n",
        "    \"subdir2\": {\n",
        "        \"subsubdir1\": {\n",
        "            \"file5.txt\": 250\n",
        "        },\n",
        "        \"file6.txt\": 150\n",
        "    }\n",
        "}\n",
        "\n",
        "print(calculate_directory_size(directory_structure))"
      ],
      "metadata": {
        "colab": {
          "base_uri": "https://localhost:8080/"
        },
        "id": "pxZGaKQ1yots",
        "outputId": "2e6af9b7-755e-490b-aa31-01b4edc8cacd"
      },
      "execution_count": 6,
      "outputs": [
        {
          "output_type": "stream",
          "name": "stdout",
          "text": [
            "1400\n"
          ]
        }
      ]
    },
    {
      "cell_type": "code",
      "source": [
        "# Task 1 - Coin Change Problem:\n",
        "# Scenario: Given a set of coin denominations and a target amount, find the minimum number\n",
        "# of coins needed to make the amount. If it’s not possible, return - 1.\n",
        "# Task:\n",
        "# 1. Write a function min_coins(coins, amount) that:\n",
        "# • Uses DP to calculate the minimum number of coins needed to make up the\n",
        "# amount.\n",
        "# 2. Test with coins = [1, 2, 5] and amount = 11. The result should be 3 (using coins\n",
        "# [5, 5, 1])."
      ],
      "metadata": {
        "id": "wNg_eZKrywB1"
      },
      "execution_count": null,
      "outputs": []
    },
    {
      "cell_type": "code",
      "source": [
        "def min_coins(coins, amount):\n",
        "    \"\"\"\n",
        "    Finds the minimum number of coins needed to make up a given amount using dynamic\n",
        "    programming.\n",
        "\n",
        "    Parameters:\n",
        "    coins (list of int): A list of coin denominations available for making change.\n",
        "    amount (int): The target amount for which we need to find the minimum number of coins.\n",
        "\n",
        "    Returns:\n",
        "    int: The minimum number of coins required to make the given amount.\n",
        "         If it is not possible to make the amount with the given coins, returns -1.\n",
        "    \"\"\"\n",
        "    # Initialize a DP array to store minimum coins needed for each amount up to the target.\n",
        "    dp = [float('inf')] * (amount + 1)\n",
        "    dp[0] = 0  # Base case: 0 coins are needed to make amount 0.\n",
        "\n",
        "    # Fill the dp array for each coin.\n",
        "    for coin in coins:\n",
        "        for i in range(coin, amount + 1):\n",
        "            dp[i] = min(dp[i], dp[i - coin] + 1)\n",
        "\n",
        "    # If dp[amount] is still infinity, the amount cannot be made up with the given coins.\n",
        "    return dp[amount] if dp[amount] != float('inf') else -1\n",
        "\n",
        "# Test the function with provided test cases.\n",
        "print(min_coins([1, 2, 5], 11))\n",
        "print(min_coins([2], 3))"
      ],
      "metadata": {
        "colab": {
          "base_uri": "https://localhost:8080/"
        },
        "id": "VWp6wK3zyxR0",
        "outputId": "393746c2-ba75-436e-c59f-c3fb0f0ed427"
      },
      "execution_count": 7,
      "outputs": [
        {
          "output_type": "stream",
          "name": "stdout",
          "text": [
            "3\n",
            "-1\n"
          ]
        }
      ]
    },
    {
      "cell_type": "code",
      "source": [
        "# Task 2 - Longest Common Subsequence (LCS):\n",
        "# Scenario: Given two strings, find the length of their longest common subsequence (LCS).\n",
        "# This is useful in text comparison.\n",
        "# Task:\n",
        "# 1. Write a function longest_common_subsequence(s1, s2) that:\n",
        "# • Uses DP to find the length of the LCS of two strings s1 and s2.\n",
        "# 2. Test with strings like \"abcde\" and \"ace\"; the LCS length should be 3 (\"ace\")."
      ],
      "metadata": {
        "id": "RNk3IQR_y2_1"
      },
      "execution_count": null,
      "outputs": []
    },
    {
      "cell_type": "code",
      "source": [
        "def longest_common_subsequence(s1, s2):\n",
        "    \"\"\"\n",
        "    Finds the length of the Longest Common Subsequence (LCS) between two strings.\n",
        "\n",
        "    Args:\n",
        "        s1 (str): First string.\n",
        "        s2 (str): Second string.\n",
        "\n",
        "    Returns:\n",
        "        int: Length of the LCS.\n",
        "    \"\"\"\n",
        "    m, n = len(s1), len(s2)\n",
        "\n",
        "    dp = [[0] * (n + 1) for _ in range(m + 1)]\n",
        "\n",
        "    # Fill the DP table\n",
        "    for i in range(1, m + 1):\n",
        "        for j in range(1, n + 1):\n",
        "            if s1[i - 1] == s2[j - 1]:  # When characters match\n",
        "                dp[i][j] = dp[i - 1][j - 1] + 1\n",
        "            else:  # When characters don't match\n",
        "                dp[i][j] = max(dp[i - 1][j], dp[i][j - 1])\n",
        "\n",
        "    return dp[m][n]\n",
        "\n",
        "# Test the function\n",
        "s1 = \"abcde\"\n",
        "s2 = \"ace\"\n",
        "result = longest_common_subsequence(s1, s2)\n",
        "print(f\"The length of the LCS between '{s1}' and '{s2}' is: {result}\")"
      ],
      "metadata": {
        "colab": {
          "base_uri": "https://localhost:8080/"
        },
        "id": "RerPz5gwy-3f",
        "outputId": "c8279e86-9b12-4477-beeb-84ac9bf1518f"
      },
      "execution_count": 8,
      "outputs": [
        {
          "output_type": "stream",
          "name": "stdout",
          "text": [
            "The length of the LCS between 'abcde' and 'ace' is: 3\n"
          ]
        }
      ]
    },
    {
      "cell_type": "code",
      "source": [
        "# Task 3 - 0/1 Knapsack Problem:\n",
        "# Scenario: You have a list of items, each with a weight and a value. Given a weight capacity,\n",
        "# maximize the total value of items you can carry without exceeding the weight capacity.\n",
        "# Task:\n",
        "# 1. Write a function knapsack(weights, values, capacity) that:\n",
        "# • Uses DP to determine the maximum value that can be achieved within the given\n",
        "# weight capacity.\n",
        "\n",
        "# 2. Test with weights [1, 3, 4, 5], values [1, 4, 5, 7], and capacity 7. The re-\n",
        "# sult should be 9."
      ],
      "metadata": {
        "id": "qYxvha7ezC_5"
      },
      "execution_count": null,
      "outputs": []
    },
    {
      "cell_type": "code",
      "source": [
        "def knapsack(weights, values, capacity):\n",
        "    \"\"\"\n",
        "    Solves the 0/1 Knapsack Problem using Dynamic Programming.\n",
        "\n",
        "    Args:\n",
        "        weights (list): List of item weights.\n",
        "        values (list): List of item values.\n",
        "        capacity (int): Maximum weight capacity.\n",
        "\n",
        "    Returns:\n",
        "        int: Maximum value that can be achieved within the given weight capacity.\n",
        "    \"\"\"\n",
        "    n = len(weights)\n",
        "\n",
        "    # Create a DP table with dimensions (n+1) x (capacity+1)\n",
        "    dp = [[0] * (capacity + 1) for _ in range(n + 1)]\n",
        "\n",
        "    # Fill the DP table\n",
        "    for i in range(1, n + 1):\n",
        "        for w in range(1, capacity + 1):\n",
        "            if weights[i - 1] <= w:\n",
        "                # Include the item or exclude it\n",
        "                dp[i][w] = max(dp[i - 1][w], values[i - 1] + dp[i - 1][w - weights[i - 1]])\n",
        "            else:\n",
        "                # Exclude the item\n",
        "                dp[i][w] = dp[i - 1][w]\n",
        "\n",
        "    return dp[n][capacity]\n",
        "\n",
        "# Test the function\n",
        "weights = [1, 3, 4, 5]\n",
        "values = [1, 4, 5, 7]\n",
        "capacity = 7\n",
        "\n",
        "result = knapsack(weights, values, capacity)\n",
        "print(f\"The maximum value that can be achieved with capacity {capacity} is: {result}\")"
      ],
      "metadata": {
        "colab": {
          "base_uri": "https://localhost:8080/"
        },
        "id": "PG3k0tQbzHjd",
        "outputId": "69150fa3-fa05-482c-9e22-e827d2500ba8"
      },
      "execution_count": 9,
      "outputs": [
        {
          "output_type": "stream",
          "name": "stdout",
          "text": [
            "The maximum value that can be achieved with capacity 7 is: 9\n"
          ]
        }
      ]
    }
  ]
}